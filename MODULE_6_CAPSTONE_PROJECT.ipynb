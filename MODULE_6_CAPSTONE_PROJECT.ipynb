{
  "nbformat": 4,
  "nbformat_minor": 0,
  "metadata": {
    "colab": {
      "provenance": [],
      "collapsed_sections": [
        "FJNUwmbgGyua",
        "w6K7xa23Elo4",
        "yQaldy8SH6Dl",
        "mDgbUHAGgjLW",
        "y-Ehk30pYrdP",
        "QHF8YVU7Yuh3",
        "GwzvFGzlYuh3",
        "qYpmQ266Yuh3",
        "1M8mcRywphqQ",
        "tgIPom80phqQ",
        "Iwf50b-R2tYG",
        "GMQiZwjn3iu7",
        "WVIkgGqN3qsr",
        "XkPnILGE3zoT",
        "Hlsf0x5436Go",
        "mT9DMSJo4nBL",
        "c49ITxTc407N",
        "OeJFEK0N496M",
        "9ExmJH0g5HBk",
        "cJNqERVU536h",
        "k5UmGsbsOxih",
        "T0VqWOYE6DLQ",
        "qBMux9mC6MCf",
        "T5CmagL3EC8N",
        "TIqpNgepFxVj",
        "EyNgTHvd2WFk",
        "KH5McJBi2d8v",
        "iW_Lq9qf2h6X",
        "-Kee-DAl2viO"
      ],
      "include_colab_link": true
    },
    "kernelspec": {
      "name": "python3",
      "display_name": "Python 3"
    },
    "language_info": {
      "name": "python"
    }
  },
  "cells": [
    {
      "cell_type": "markdown",
      "metadata": {
        "id": "view-in-github",
        "colab_type": "text"
      },
      "source": [
        "<a href=\"https://colab.research.google.com/github/GOWTHAMVANTAKULA/Flipkart-Customer-Experience-Analytics/blob/main/MODULE_6_CAPSTONE_PROJECT.ipynb\" target=\"_parent\"><img src=\"https://colab.research.google.com/assets/colab-badge.svg\" alt=\"Open In Colab\"/></a>"
      ]
    },
    {
      "cell_type": "markdown",
      "source": [
        "# **Project Name**    -\n",
        "\n"
      ],
      "metadata": {
        "id": "vncDsAP0Gaoa"
      }
    },
    {
      "cell_type": "markdown",
      "source": [
        "##### **Project Type**    - Classification\n",
        "##### **Contribution**    - Individual ---  **VANTAKULA GOWTHAM NAIDU**\n"
      ],
      "metadata": {
        "id": "beRrZCGUAJYm"
      }
    },
    {
      "cell_type": "markdown",
      "source": [
        "# **Project Summary -**"
      ],
      "metadata": {
        "id": "FJNUwmbgGyua"
      }
    },
    {
      "cell_type": "markdown",
      "source": [
        "In the highly competitive e-commerce industry, delivering excellent customer service is essential for retaining customers and sustaining growth. This project leverages a Flipkart customer service dataset that includes customer interactions, issue categories, resolution times, agent details, and customer satisfaction scores (CSAT).\n",
        "\n",
        "The main objective of this project is to **predict customer satisfaction (CSAT)** by combining structured features (such as issue type, response time, channel, and agent shift) with unstructured text data (customer remarks). By framing CSAT prediction as a **classification problem (High vs Low satisfaction)**, the project aims to uncover the key factors influencing customer happiness and dissatisfaction.\n",
        "\n",
        "Additionally, the project explores **regression modeling** to estimate issue resolution times and applies **NLP-based sentiment analysis** to customer remarks to extract deeper insights into customer experiences. This dual approach integrates operational metrics with customer sentiment, offering a holistic perspective on service performance.\n",
        "\n",
        "The outcomes of this project can help e-commerce platforms in:\n",
        "\n",
        "* Enhancing agent training and performance management.\n",
        "\n",
        "* Automating ticket routing and prioritization.\n",
        "\n",
        "* Reducing resolution delays for issues associated with low satisfaction.\n",
        "\n",
        "* Improving overall customer experience through data-driven strategies."
      ],
      "metadata": {
        "id": "F6v_1wHtG2nS"
      }
    },
    {
      "cell_type": "markdown",
      "source": [
        "# **GitHub Link -**"
      ],
      "metadata": {
        "id": "w6K7xa23Elo4"
      }
    },
    {
      "cell_type": "markdown",
      "source": [
        "Provide your GitHub Link here."
      ],
      "metadata": {
        "id": "h1o69JH3Eqqn"
      }
    },
    {
      "cell_type": "markdown",
      "source": [
        "# **Problem Statement**\n"
      ],
      "metadata": {
        "id": "yQaldy8SH6Dl"
      }
    },
    {
      "cell_type": "markdown",
      "source": [
        "In the e-commerce domain, understanding and predicting customer satisfaction (CSAT) is critical for improving service quality and customer retention. This project aims to develop a classification model to predict customer satisfaction (High vs. Low) using a Flipkart customer service dataset. The challenge lies in integrating structured operational data (issue type, resolution time, agent details, etc.) with unstructured text data (customer remarks) to identify key drivers of satisfaction and dissatisfaction. Additionally, the project seeks to explore factors influencing issue resolution times and leverage sentiment analysis on customer remarks to gain deeper insights, ultimately providing actionable recommendations for enhancing customer service performance and business growth"
      ],
      "metadata": {
        "id": "DpeJGUA3kjGy"
      }
    },
    {
      "cell_type": "markdown",
      "source": [
        "# **General Guidelines** : -  "
      ],
      "metadata": {
        "id": "mDgbUHAGgjLW"
      }
    },
    {
      "cell_type": "markdown",
      "source": [
        "1.   Well-structured, formatted, and commented code is required.\n",
        "2.   Exception Handling, Production Grade Code & Deployment Ready Code will be a plus. Those students will be awarded some additional credits.\n",
        "     \n",
        "     The additional credits will have advantages over other students during Star Student selection.\n",
        "       \n",
        "             [ Note: - Deployment Ready Code is defined as, the whole .ipynb notebook should be executable in one go\n",
        "                       without a single error logged. ]\n",
        "\n",
        "3.   Each and every logic should have proper comments.\n",
        "4. You may add as many number of charts you want. Make Sure for each and every chart the following format should be answered.\n",
        "        \n",
        "\n",
        "```\n",
        "# Chart visualization code\n",
        "```\n",
        "            \n",
        "\n",
        "*   Why did you pick the specific chart?\n",
        "*   What is/are the insight(s) found from the chart?\n",
        "* Will the gained insights help creating a positive business impact?\n",
        "Are there any insights that lead to negative growth? Justify with specific reason.\n",
        "\n",
        "5. You have to create at least 15 logical & meaningful charts having important insights.\n",
        "\n",
        "\n",
        "[ Hints : - Do the Vizualization in  a structured way while following \"UBM\" Rule.\n",
        "\n",
        "U - Univariate Analysis,\n",
        "\n",
        "B - Bivariate Analysis (Numerical - Categorical, Numerical - Numerical, Categorical - Categorical)\n",
        "\n",
        "M - Multivariate Analysis\n",
        " ]\n",
        "\n",
        "\n",
        "\n",
        "\n",
        "\n",
        "6. You may add more ml algorithms for model creation. Make sure for each and every algorithm, the following format should be answered.\n",
        "\n",
        "\n",
        "*   Explain the ML Model used and it's performance using Evaluation metric Score Chart.\n",
        "\n",
        "\n",
        "*   Cross- Validation & Hyperparameter Tuning\n",
        "\n",
        "*   Have you seen any improvement? Note down the improvement with updates Evaluation metric Score Chart.\n",
        "\n",
        "*   Explain each evaluation metric's indication towards business and the business impact pf the ML model used.\n",
        "\n",
        "\n",
        "\n",
        "\n",
        "\n",
        "\n",
        "\n",
        "\n",
        "\n",
        "\n",
        "\n",
        "\n",
        "\n",
        "\n",
        "\n",
        "\n",
        "\n",
        "\n"
      ],
      "metadata": {
        "id": "ZrxVaUj-hHfC"
      }
    },
    {
      "cell_type": "markdown",
      "source": [
        "# ***Let's Begin !***"
      ],
      "metadata": {
        "id": "O_i_v8NEhb9l"
      }
    },
    {
      "cell_type": "markdown",
      "source": [
        "## ***1. Know Your Data***"
      ],
      "metadata": {
        "id": "HhfV-JJviCcP"
      }
    },
    {
      "cell_type": "markdown",
      "source": [
        "### Import Libraries"
      ],
      "metadata": {
        "id": "Y3lxredqlCYt"
      }
    },
    {
      "cell_type": "code",
      "source": [
        "# Import Libraries"
      ],
      "metadata": {
        "id": "M8Vqi-pPk-HR"
      },
      "execution_count": null,
      "outputs": []
    },
    {
      "cell_type": "code",
      "source": [
        "import pandas as pd\n",
        "import numpy as np\n",
        "import seaborn as sns\n",
        "import matplotlib.pyplot as plt\n",
        "\n",
        "#WARNINGS\n",
        "import warnings\n",
        "warnings.filterwarnings('ignore')"
      ],
      "metadata": {
        "id": "Z9NsyU7ROrhP"
      },
      "execution_count": null,
      "outputs": []
    },
    {
      "cell_type": "markdown",
      "source": [
        "### Dataset Loading"
      ],
      "metadata": {
        "id": "3RnN4peoiCZX"
      }
    },
    {
      "cell_type": "code",
      "source": [
        "from google.colab import drive\n",
        "drive.mount('/content/drive')"
      ],
      "metadata": {
        "colab": {
          "base_uri": "https://localhost:8080/"
        },
        "id": "h9oj-v76OWEu",
        "outputId": "408d5426-4d9c-4d12-f234-58aece353030"
      },
      "execution_count": null,
      "outputs": [
        {
          "output_type": "stream",
          "name": "stdout",
          "text": [
            "Drive already mounted at /content/drive; to attempt to forcibly remount, call drive.mount(\"/content/drive\", force_remount=True).\n"
          ]
        }
      ]
    },
    {
      "cell_type": "code",
      "source": [
        "data= pd.read_csv('/content/drive/MyDrive/Data_Files/FLIPKART_DATA_M_6.csv')\n",
        "\n",
        "pd.set_option('display.max_columns',None) # display all columns\n",
        "pd.set_option('display.max_rows',100)\n"
      ],
      "metadata": {
        "id": "mcP5PjeUPKul"
      },
      "execution_count": null,
      "outputs": []
    },
    {
      "cell_type": "markdown",
      "source": [
        "### Dataset First View"
      ],
      "metadata": {
        "id": "x71ZqKXriCWQ"
      }
    },
    {
      "cell_type": "code",
      "source": [
        "# Dataset First Look\n",
        "data.head(3)"
      ],
      "metadata": {
        "id": "LWNFOSvLl09H",
        "collapsed": true,
        "colab": {
          "base_uri": "https://localhost:8080/",
          "height": 213
        },
        "outputId": "a595170f-9790-4a2d-d97d-658b94b59cba"
      },
      "execution_count": null,
      "outputs": [
        {
          "output_type": "execute_result",
          "data": {
            "text/plain": [
              "                              Unique id channel_name         category  \\\n",
              "0  7e9ae164-6a8b-4521-a2d4-58f7c9fff13f      Outcall  Product Queries   \n",
              "1  b07ec1b0-f376-43b6-86df-ec03da3b2e16      Outcall  Product Queries   \n",
              "2  200814dd-27c7-4149-ba2b-bd3af3092880      Inbound    Order Related   \n",
              "\n",
              "                   Sub-category Customer Remarks  \\\n",
              "0                Life Insurance              NaN   \n",
              "1  Product Specific Information              NaN   \n",
              "2             Installation/demo              NaN   \n",
              "\n",
              "                               Order_id order_date_time Issue_reported at  \\\n",
              "0  c27c9bb4-fa36-4140-9f1f-21009254ffdb             NaN  01/08/2023 11:13   \n",
              "1  d406b0c7-ce17-4654-b9de-f08d421254bd             NaN  01/08/2023 12:52   \n",
              "2  c273368d-b961-44cb-beaf-62d6fd6c00d5             NaN  01/08/2023 20:16   \n",
              "\n",
              "    issue_responded Survey_response_Date Customer_City Product_category  \\\n",
              "0  01/08/2023 11:47            01-Aug-23           NaN              NaN   \n",
              "1  01/08/2023 12:54            01-Aug-23           NaN              NaN   \n",
              "2  01/08/2023 20:38            01-Aug-23           NaN              NaN   \n",
              "\n",
              "   Item_price  connected_handling_time        Agent_name    Supervisor  \\\n",
              "0         NaN                      NaN  Richard Buchanan   Mason Gupta   \n",
              "1         NaN                      NaN     Vicki Collins     Dylan Kim   \n",
              "2         NaN                      NaN      Duane Norman  Jackson Park   \n",
              "\n",
              "           Manager    Tenure Bucket Agent Shift  CSAT Score  \n",
              "0  Jennifer Nguyen  On Job Training     Morning           5  \n",
              "1      Michael Lee              >90     Morning           5  \n",
              "2      William Kim  On Job Training     Evening           5  "
            ],
            "text/html": [
              "\n",
              "  <div id=\"df-ae95fd0e-425a-4306-9973-4f71d4bc8ee1\" class=\"colab-df-container\">\n",
              "    <div>\n",
              "<style scoped>\n",
              "    .dataframe tbody tr th:only-of-type {\n",
              "        vertical-align: middle;\n",
              "    }\n",
              "\n",
              "    .dataframe tbody tr th {\n",
              "        vertical-align: top;\n",
              "    }\n",
              "\n",
              "    .dataframe thead th {\n",
              "        text-align: right;\n",
              "    }\n",
              "</style>\n",
              "<table border=\"1\" class=\"dataframe\">\n",
              "  <thead>\n",
              "    <tr style=\"text-align: right;\">\n",
              "      <th></th>\n",
              "      <th>Unique id</th>\n",
              "      <th>channel_name</th>\n",
              "      <th>category</th>\n",
              "      <th>Sub-category</th>\n",
              "      <th>Customer Remarks</th>\n",
              "      <th>Order_id</th>\n",
              "      <th>order_date_time</th>\n",
              "      <th>Issue_reported at</th>\n",
              "      <th>issue_responded</th>\n",
              "      <th>Survey_response_Date</th>\n",
              "      <th>Customer_City</th>\n",
              "      <th>Product_category</th>\n",
              "      <th>Item_price</th>\n",
              "      <th>connected_handling_time</th>\n",
              "      <th>Agent_name</th>\n",
              "      <th>Supervisor</th>\n",
              "      <th>Manager</th>\n",
              "      <th>Tenure Bucket</th>\n",
              "      <th>Agent Shift</th>\n",
              "      <th>CSAT Score</th>\n",
              "    </tr>\n",
              "  </thead>\n",
              "  <tbody>\n",
              "    <tr>\n",
              "      <th>0</th>\n",
              "      <td>7e9ae164-6a8b-4521-a2d4-58f7c9fff13f</td>\n",
              "      <td>Outcall</td>\n",
              "      <td>Product Queries</td>\n",
              "      <td>Life Insurance</td>\n",
              "      <td>NaN</td>\n",
              "      <td>c27c9bb4-fa36-4140-9f1f-21009254ffdb</td>\n",
              "      <td>NaN</td>\n",
              "      <td>01/08/2023 11:13</td>\n",
              "      <td>01/08/2023 11:47</td>\n",
              "      <td>01-Aug-23</td>\n",
              "      <td>NaN</td>\n",
              "      <td>NaN</td>\n",
              "      <td>NaN</td>\n",
              "      <td>NaN</td>\n",
              "      <td>Richard Buchanan</td>\n",
              "      <td>Mason Gupta</td>\n",
              "      <td>Jennifer Nguyen</td>\n",
              "      <td>On Job Training</td>\n",
              "      <td>Morning</td>\n",
              "      <td>5</td>\n",
              "    </tr>\n",
              "    <tr>\n",
              "      <th>1</th>\n",
              "      <td>b07ec1b0-f376-43b6-86df-ec03da3b2e16</td>\n",
              "      <td>Outcall</td>\n",
              "      <td>Product Queries</td>\n",
              "      <td>Product Specific Information</td>\n",
              "      <td>NaN</td>\n",
              "      <td>d406b0c7-ce17-4654-b9de-f08d421254bd</td>\n",
              "      <td>NaN</td>\n",
              "      <td>01/08/2023 12:52</td>\n",
              "      <td>01/08/2023 12:54</td>\n",
              "      <td>01-Aug-23</td>\n",
              "      <td>NaN</td>\n",
              "      <td>NaN</td>\n",
              "      <td>NaN</td>\n",
              "      <td>NaN</td>\n",
              "      <td>Vicki Collins</td>\n",
              "      <td>Dylan Kim</td>\n",
              "      <td>Michael Lee</td>\n",
              "      <td>&gt;90</td>\n",
              "      <td>Morning</td>\n",
              "      <td>5</td>\n",
              "    </tr>\n",
              "    <tr>\n",
              "      <th>2</th>\n",
              "      <td>200814dd-27c7-4149-ba2b-bd3af3092880</td>\n",
              "      <td>Inbound</td>\n",
              "      <td>Order Related</td>\n",
              "      <td>Installation/demo</td>\n",
              "      <td>NaN</td>\n",
              "      <td>c273368d-b961-44cb-beaf-62d6fd6c00d5</td>\n",
              "      <td>NaN</td>\n",
              "      <td>01/08/2023 20:16</td>\n",
              "      <td>01/08/2023 20:38</td>\n",
              "      <td>01-Aug-23</td>\n",
              "      <td>NaN</td>\n",
              "      <td>NaN</td>\n",
              "      <td>NaN</td>\n",
              "      <td>NaN</td>\n",
              "      <td>Duane Norman</td>\n",
              "      <td>Jackson Park</td>\n",
              "      <td>William Kim</td>\n",
              "      <td>On Job Training</td>\n",
              "      <td>Evening</td>\n",
              "      <td>5</td>\n",
              "    </tr>\n",
              "  </tbody>\n",
              "</table>\n",
              "</div>\n",
              "    <div class=\"colab-df-buttons\">\n",
              "\n",
              "  <div class=\"colab-df-container\">\n",
              "    <button class=\"colab-df-convert\" onclick=\"convertToInteractive('df-ae95fd0e-425a-4306-9973-4f71d4bc8ee1')\"\n",
              "            title=\"Convert this dataframe to an interactive table.\"\n",
              "            style=\"display:none;\">\n",
              "\n",
              "  <svg xmlns=\"http://www.w3.org/2000/svg\" height=\"24px\" viewBox=\"0 -960 960 960\">\n",
              "    <path d=\"M120-120v-720h720v720H120Zm60-500h600v-160H180v160Zm220 220h160v-160H400v160Zm0 220h160v-160H400v160ZM180-400h160v-160H180v160Zm440 0h160v-160H620v160ZM180-180h160v-160H180v160Zm440 0h160v-160H620v160Z\"/>\n",
              "  </svg>\n",
              "    </button>\n",
              "\n",
              "  <style>\n",
              "    .colab-df-container {\n",
              "      display:flex;\n",
              "      gap: 12px;\n",
              "    }\n",
              "\n",
              "    .colab-df-convert {\n",
              "      background-color: #E8F0FE;\n",
              "      border: none;\n",
              "      border-radius: 50%;\n",
              "      cursor: pointer;\n",
              "      display: none;\n",
              "      fill: #1967D2;\n",
              "      height: 32px;\n",
              "      padding: 0 0 0 0;\n",
              "      width: 32px;\n",
              "    }\n",
              "\n",
              "    .colab-df-convert:hover {\n",
              "      background-color: #E2EBFA;\n",
              "      box-shadow: 0px 1px 2px rgba(60, 64, 67, 0.3), 0px 1px 3px 1px rgba(60, 64, 67, 0.15);\n",
              "      fill: #174EA6;\n",
              "    }\n",
              "\n",
              "    .colab-df-buttons div {\n",
              "      margin-bottom: 4px;\n",
              "    }\n",
              "\n",
              "    [theme=dark] .colab-df-convert {\n",
              "      background-color: #3B4455;\n",
              "      fill: #D2E3FC;\n",
              "    }\n",
              "\n",
              "    [theme=dark] .colab-df-convert:hover {\n",
              "      background-color: #434B5C;\n",
              "      box-shadow: 0px 1px 3px 1px rgba(0, 0, 0, 0.15);\n",
              "      filter: drop-shadow(0px 1px 2px rgba(0, 0, 0, 0.3));\n",
              "      fill: #FFFFFF;\n",
              "    }\n",
              "  </style>\n",
              "\n",
              "    <script>\n",
              "      const buttonEl =\n",
              "        document.querySelector('#df-ae95fd0e-425a-4306-9973-4f71d4bc8ee1 button.colab-df-convert');\n",
              "      buttonEl.style.display =\n",
              "        google.colab.kernel.accessAllowed ? 'block' : 'none';\n",
              "\n",
              "      async function convertToInteractive(key) {\n",
              "        const element = document.querySelector('#df-ae95fd0e-425a-4306-9973-4f71d4bc8ee1');\n",
              "        const dataTable =\n",
              "          await google.colab.kernel.invokeFunction('convertToInteractive',\n",
              "                                                    [key], {});\n",
              "        if (!dataTable) return;\n",
              "\n",
              "        const docLinkHtml = 'Like what you see? Visit the ' +\n",
              "          '<a target=\"_blank\" href=https://colab.research.google.com/notebooks/data_table.ipynb>data table notebook</a>'\n",
              "          + ' to learn more about interactive tables.';\n",
              "        element.innerHTML = '';\n",
              "        dataTable['output_type'] = 'display_data';\n",
              "        await google.colab.output.renderOutput(dataTable, element);\n",
              "        const docLink = document.createElement('div');\n",
              "        docLink.innerHTML = docLinkHtml;\n",
              "        element.appendChild(docLink);\n",
              "      }\n",
              "    </script>\n",
              "  </div>\n",
              "\n",
              "\n",
              "    <div id=\"df-e5337a6a-cd8f-43ac-b9ee-629618f05a64\">\n",
              "      <button class=\"colab-df-quickchart\" onclick=\"quickchart('df-e5337a6a-cd8f-43ac-b9ee-629618f05a64')\"\n",
              "                title=\"Suggest charts\"\n",
              "                style=\"display:none;\">\n",
              "\n",
              "<svg xmlns=\"http://www.w3.org/2000/svg\" height=\"24px\"viewBox=\"0 0 24 24\"\n",
              "     width=\"24px\">\n",
              "    <g>\n",
              "        <path d=\"M19 3H5c-1.1 0-2 .9-2 2v14c0 1.1.9 2 2 2h14c1.1 0 2-.9 2-2V5c0-1.1-.9-2-2-2zM9 17H7v-7h2v7zm4 0h-2V7h2v10zm4 0h-2v-4h2v4z\"/>\n",
              "    </g>\n",
              "</svg>\n",
              "      </button>\n",
              "\n",
              "<style>\n",
              "  .colab-df-quickchart {\n",
              "      --bg-color: #E8F0FE;\n",
              "      --fill-color: #1967D2;\n",
              "      --hover-bg-color: #E2EBFA;\n",
              "      --hover-fill-color: #174EA6;\n",
              "      --disabled-fill-color: #AAA;\n",
              "      --disabled-bg-color: #DDD;\n",
              "  }\n",
              "\n",
              "  [theme=dark] .colab-df-quickchart {\n",
              "      --bg-color: #3B4455;\n",
              "      --fill-color: #D2E3FC;\n",
              "      --hover-bg-color: #434B5C;\n",
              "      --hover-fill-color: #FFFFFF;\n",
              "      --disabled-bg-color: #3B4455;\n",
              "      --disabled-fill-color: #666;\n",
              "  }\n",
              "\n",
              "  .colab-df-quickchart {\n",
              "    background-color: var(--bg-color);\n",
              "    border: none;\n",
              "    border-radius: 50%;\n",
              "    cursor: pointer;\n",
              "    display: none;\n",
              "    fill: var(--fill-color);\n",
              "    height: 32px;\n",
              "    padding: 0;\n",
              "    width: 32px;\n",
              "  }\n",
              "\n",
              "  .colab-df-quickchart:hover {\n",
              "    background-color: var(--hover-bg-color);\n",
              "    box-shadow: 0 1px 2px rgba(60, 64, 67, 0.3), 0 1px 3px 1px rgba(60, 64, 67, 0.15);\n",
              "    fill: var(--button-hover-fill-color);\n",
              "  }\n",
              "\n",
              "  .colab-df-quickchart-complete:disabled,\n",
              "  .colab-df-quickchart-complete:disabled:hover {\n",
              "    background-color: var(--disabled-bg-color);\n",
              "    fill: var(--disabled-fill-color);\n",
              "    box-shadow: none;\n",
              "  }\n",
              "\n",
              "  .colab-df-spinner {\n",
              "    border: 2px solid var(--fill-color);\n",
              "    border-color: transparent;\n",
              "    border-bottom-color: var(--fill-color);\n",
              "    animation:\n",
              "      spin 1s steps(1) infinite;\n",
              "  }\n",
              "\n",
              "  @keyframes spin {\n",
              "    0% {\n",
              "      border-color: transparent;\n",
              "      border-bottom-color: var(--fill-color);\n",
              "      border-left-color: var(--fill-color);\n",
              "    }\n",
              "    20% {\n",
              "      border-color: transparent;\n",
              "      border-left-color: var(--fill-color);\n",
              "      border-top-color: var(--fill-color);\n",
              "    }\n",
              "    30% {\n",
              "      border-color: transparent;\n",
              "      border-left-color: var(--fill-color);\n",
              "      border-top-color: var(--fill-color);\n",
              "      border-right-color: var(--fill-color);\n",
              "    }\n",
              "    40% {\n",
              "      border-color: transparent;\n",
              "      border-right-color: var(--fill-color);\n",
              "      border-top-color: var(--fill-color);\n",
              "    }\n",
              "    60% {\n",
              "      border-color: transparent;\n",
              "      border-right-color: var(--fill-color);\n",
              "    }\n",
              "    80% {\n",
              "      border-color: transparent;\n",
              "      border-right-color: var(--fill-color);\n",
              "      border-bottom-color: var(--fill-color);\n",
              "    }\n",
              "    90% {\n",
              "      border-color: transparent;\n",
              "      border-bottom-color: var(--fill-color);\n",
              "    }\n",
              "  }\n",
              "</style>\n",
              "\n",
              "      <script>\n",
              "        async function quickchart(key) {\n",
              "          const quickchartButtonEl =\n",
              "            document.querySelector('#' + key + ' button');\n",
              "          quickchartButtonEl.disabled = true;  // To prevent multiple clicks.\n",
              "          quickchartButtonEl.classList.add('colab-df-spinner');\n",
              "          try {\n",
              "            const charts = await google.colab.kernel.invokeFunction(\n",
              "                'suggestCharts', [key], {});\n",
              "          } catch (error) {\n",
              "            console.error('Error during call to suggestCharts:', error);\n",
              "          }\n",
              "          quickchartButtonEl.classList.remove('colab-df-spinner');\n",
              "          quickchartButtonEl.classList.add('colab-df-quickchart-complete');\n",
              "        }\n",
              "        (() => {\n",
              "          let quickchartButtonEl =\n",
              "            document.querySelector('#df-e5337a6a-cd8f-43ac-b9ee-629618f05a64 button');\n",
              "          quickchartButtonEl.style.display =\n",
              "            google.colab.kernel.accessAllowed ? 'block' : 'none';\n",
              "        })();\n",
              "      </script>\n",
              "    </div>\n",
              "\n",
              "    </div>\n",
              "  </div>\n"
            ],
            "application/vnd.google.colaboratory.intrinsic+json": {
              "type": "dataframe",
              "variable_name": "data",
              "summary": "{\n  \"name\": \"data\",\n  \"rows\": 85907,\n  \"fields\": [\n    {\n      \"column\": \"Unique id\",\n      \"properties\": {\n        \"dtype\": \"string\",\n        \"num_unique_values\": 85907,\n        \"samples\": [\n          \"fc42f862-7521-472c-b569-8bce866ebe8c\",\n          \"a7bb8900-a120-430f-b573-55ed6c16faab\",\n          \"b697f809-0d10-4839-9ccd-152ab6a179f4\"\n        ],\n        \"semantic_type\": \"\",\n        \"description\": \"\"\n      }\n    },\n    {\n      \"column\": \"channel_name\",\n      \"properties\": {\n        \"dtype\": \"category\",\n        \"num_unique_values\": 3,\n        \"samples\": [\n          \"Outcall\",\n          \"Inbound\",\n          \"Email\"\n        ],\n        \"semantic_type\": \"\",\n        \"description\": \"\"\n      }\n    },\n    {\n      \"column\": \"category\",\n      \"properties\": {\n        \"dtype\": \"category\",\n        \"num_unique_values\": 12,\n        \"samples\": [\n          \"Others\",\n          \"Onboarding related\",\n          \"Product Queries\"\n        ],\n        \"semantic_type\": \"\",\n        \"description\": \"\"\n      }\n    },\n    {\n      \"column\": \"Sub-category\",\n      \"properties\": {\n        \"dtype\": \"category\",\n        \"num_unique_values\": 57,\n        \"samples\": [\n          \"Life Insurance\",\n          \"Fraudulent User\",\n          \"Card/EMI\"\n        ],\n        \"semantic_type\": \"\",\n        \"description\": \"\"\n      }\n    },\n    {\n      \"column\": \"Customer Remarks\",\n      \"properties\": {\n        \"dtype\": \"category\",\n        \"num_unique_values\": 18231,\n        \"samples\": [\n          \"Interaction in telephonically is good experience she talk very nyc n solve my problem thanx dear\",\n          \"I am happy with the support received.\",\n          \"Please remove your Shopzilla vendor from your service \"\n        ],\n        \"semantic_type\": \"\",\n        \"description\": \"\"\n      }\n    },\n    {\n      \"column\": \"Order_id\",\n      \"properties\": {\n        \"dtype\": \"string\",\n        \"num_unique_values\": 67675,\n        \"samples\": [\n          \"414c0688-adaf-4123-b342-e8bd2c050638\",\n          \"110cba2e-b988-40b8-9967-716c8d6e7a71\",\n          \"0058ad82-75ed-4253-821b-86553937658b\"\n        ],\n        \"semantic_type\": \"\",\n        \"description\": \"\"\n      }\n    },\n    {\n      \"column\": \"order_date_time\",\n      \"properties\": {\n        \"dtype\": \"date\",\n        \"min\": \"2022-01-16 13:15:00\",\n        \"max\": \"2023-12-08 23:36:00\",\n        \"num_unique_values\": 13766,\n        \"samples\": [\n          \"27/06/2023 08:27\",\n          \"09/08/2023 06:19\",\n          \"28/07/2023 19:02\"\n        ],\n        \"semantic_type\": \"\",\n        \"description\": \"\"\n      }\n    },\n    {\n      \"column\": \"Issue_reported at\",\n      \"properties\": {\n        \"dtype\": \"category\",\n        \"num_unique_values\": 30923,\n        \"samples\": [\n          \"26/08/2023 17:45\",\n          \"11/08/2023 01:02\",\n          \"25/08/2023 22:00\"\n        ],\n        \"semantic_type\": \"\",\n        \"description\": \"\"\n      }\n    },\n    {\n      \"column\": \"issue_responded\",\n      \"properties\": {\n        \"dtype\": \"category\",\n        \"num_unique_values\": 30262,\n        \"samples\": [\n          \"11/08/2023 15:20\",\n          \"05/08/2023 23:43\",\n          \"06/08/2023 11:39\"\n        ],\n        \"semantic_type\": \"\",\n        \"description\": \"\"\n      }\n    },\n    {\n      \"column\": \"Survey_response_Date\",\n      \"properties\": {\n        \"dtype\": \"object\",\n        \"num_unique_values\": 31,\n        \"samples\": [\n          \"28-Aug-23\",\n          \"16-Aug-23\",\n          \"24-Aug-23\"\n        ],\n        \"semantic_type\": \"\",\n        \"description\": \"\"\n      }\n    },\n    {\n      \"column\": \"Customer_City\",\n      \"properties\": {\n        \"dtype\": \"category\",\n        \"num_unique_values\": 1782,\n        \"samples\": [\n          \"FEROZEPUR JHIRKA\",\n          \"NAMRUP\",\n          \"MUZAFFARPUR\"\n        ],\n        \"semantic_type\": \"\",\n        \"description\": \"\"\n      }\n    },\n    {\n      \"column\": \"Product_category\",\n      \"properties\": {\n        \"dtype\": \"category\",\n        \"num_unique_values\": 9,\n        \"samples\": [\n          \"GiftCard\",\n          \"Electronics\",\n          \"Home\"\n        ],\n        \"semantic_type\": \"\",\n        \"description\": \"\"\n      }\n    },\n    {\n      \"column\": \"Item_price\",\n      \"properties\": {\n        \"dtype\": \"number\",\n        \"std\": 12825.728411195778,\n        \"min\": 0.0,\n        \"max\": 164999.0,\n        \"num_unique_values\": 2789,\n        \"samples\": [\n          764.0,\n          1055.0,\n          2386.0\n        ],\n        \"semantic_type\": \"\",\n        \"description\": \"\"\n      }\n    },\n    {\n      \"column\": \"connected_handling_time\",\n      \"properties\": {\n        \"dtype\": \"number\",\n        \"std\": 246.29503712116792,\n        \"min\": 0.0,\n        \"max\": 1986.0,\n        \"num_unique_values\": 211,\n        \"samples\": [\n          777.0,\n          282.0,\n          815.0\n        ],\n        \"semantic_type\": \"\",\n        \"description\": \"\"\n      }\n    },\n    {\n      \"column\": \"Agent_name\",\n      \"properties\": {\n        \"dtype\": \"category\",\n        \"num_unique_values\": 1371,\n        \"samples\": [\n          \"Kimberly Morris\",\n          \"Russell Ramsey\",\n          \"Joshua Foster\"\n        ],\n        \"semantic_type\": \"\",\n        \"description\": \"\"\n      }\n    },\n    {\n      \"column\": \"Supervisor\",\n      \"properties\": {\n        \"dtype\": \"category\",\n        \"num_unique_values\": 40,\n        \"samples\": [\n          \"Madison Kim\",\n          \"Mia Patel\",\n          \"Logan Lee\"\n        ],\n        \"semantic_type\": \"\",\n        \"description\": \"\"\n      }\n    },\n    {\n      \"column\": \"Manager\",\n      \"properties\": {\n        \"dtype\": \"category\",\n        \"num_unique_values\": 6,\n        \"samples\": [\n          \"Jennifer Nguyen\",\n          \"Michael Lee\",\n          \"Emily Chen\"\n        ],\n        \"semantic_type\": \"\",\n        \"description\": \"\"\n      }\n    },\n    {\n      \"column\": \"Tenure Bucket\",\n      \"properties\": {\n        \"dtype\": \"category\",\n        \"num_unique_values\": 5,\n        \"samples\": [\n          \">90\",\n          \"61-90\",\n          \"0-30\"\n        ],\n        \"semantic_type\": \"\",\n        \"description\": \"\"\n      }\n    },\n    {\n      \"column\": \"Agent Shift\",\n      \"properties\": {\n        \"dtype\": \"category\",\n        \"num_unique_values\": 5,\n        \"samples\": [\n          \"Evening\",\n          \"Night\",\n          \"Split\"\n        ],\n        \"semantic_type\": \"\",\n        \"description\": \"\"\n      }\n    },\n    {\n      \"column\": \"CSAT Score\",\n      \"properties\": {\n        \"dtype\": \"number\",\n        \"std\": 1,\n        \"min\": 1,\n        \"max\": 5,\n        \"num_unique_values\": 5,\n        \"samples\": [\n          4,\n          2,\n          1\n        ],\n        \"semantic_type\": \"\",\n        \"description\": \"\"\n      }\n    }\n  ]\n}"
            }
          },
          "metadata": {},
          "execution_count": 113
        }
      ]
    },
    {
      "cell_type": "markdown",
      "source": [
        "### Dataset Rows & Columns count"
      ],
      "metadata": {
        "id": "7hBIi_osiCS2"
      }
    },
    {
      "cell_type": "code",
      "source": [
        "# Dataset Rows & Columns count\n",
        "print('ROWS = ',data.shape[0],'\\nCOLUMNS = ', data.shape[1])"
      ],
      "metadata": {
        "id": "Kllu7SJgmLij",
        "colab": {
          "base_uri": "https://localhost:8080/"
        },
        "outputId": "9d1bdc48-39d8-4b8a-840e-8bddb772d083"
      },
      "execution_count": null,
      "outputs": [
        {
          "output_type": "stream",
          "name": "stdout",
          "text": [
            "ROWS =  85907 \n",
            "COLUMNS =  20\n"
          ]
        }
      ]
    },
    {
      "cell_type": "markdown",
      "source": [
        "### Dataset Information"
      ],
      "metadata": {
        "id": "JlHwYmJAmNHm"
      }
    },
    {
      "cell_type": "code",
      "source": [
        "# Dataset Info\n",
        "data.info()"
      ],
      "metadata": {
        "id": "e9hRXRi6meOf",
        "colab": {
          "base_uri": "https://localhost:8080/"
        },
        "outputId": "febb6c60-91f9-49cf-bbd2-81326f6130ba"
      },
      "execution_count": null,
      "outputs": [
        {
          "output_type": "stream",
          "name": "stdout",
          "text": [
            "<class 'pandas.core.frame.DataFrame'>\n",
            "RangeIndex: 85907 entries, 0 to 85906\n",
            "Data columns (total 20 columns):\n",
            " #   Column                   Non-Null Count  Dtype  \n",
            "---  ------                   --------------  -----  \n",
            " 0   Unique id                85907 non-null  object \n",
            " 1   channel_name             85907 non-null  object \n",
            " 2   category                 85907 non-null  object \n",
            " 3   Sub-category             85907 non-null  object \n",
            " 4   Customer Remarks         28742 non-null  object \n",
            " 5   Order_id                 67675 non-null  object \n",
            " 6   order_date_time          17214 non-null  object \n",
            " 7   Issue_reported at        85907 non-null  object \n",
            " 8   issue_responded          85907 non-null  object \n",
            " 9   Survey_response_Date     85907 non-null  object \n",
            " 10  Customer_City            17079 non-null  object \n",
            " 11  Product_category         17196 non-null  object \n",
            " 12  Item_price               17206 non-null  float64\n",
            " 13  connected_handling_time  242 non-null    float64\n",
            " 14  Agent_name               85907 non-null  object \n",
            " 15  Supervisor               85907 non-null  object \n",
            " 16  Manager                  85907 non-null  object \n",
            " 17  Tenure Bucket            85907 non-null  object \n",
            " 18  Agent Shift              85907 non-null  object \n",
            " 19  CSAT Score               85907 non-null  int64  \n",
            "dtypes: float64(2), int64(1), object(17)\n",
            "memory usage: 13.1+ MB\n"
          ]
        }
      ]
    },
    {
      "cell_type": "markdown",
      "source": [
        "#### Duplicate Values"
      ],
      "metadata": {
        "id": "35m5QtbWiB9F"
      }
    },
    {
      "cell_type": "code",
      "source": [
        "# Dataset Duplicate Value Count\n",
        "data.duplicated().sum()"
      ],
      "metadata": {
        "id": "1sLdpKYkmox0",
        "colab": {
          "base_uri": "https://localhost:8080/"
        },
        "outputId": "a63b3815-114a-450f-aef1-2b66f7b5ce8b"
      },
      "execution_count": null,
      "outputs": [
        {
          "output_type": "execute_result",
          "data": {
            "text/plain": [
              "np.int64(0)"
            ]
          },
          "metadata": {},
          "execution_count": 116
        }
      ]
    },
    {
      "cell_type": "markdown",
      "source": [
        "#### Missing Values/Null Values"
      ],
      "metadata": {
        "id": "PoPl-ycgm1ru"
      }
    },
    {
      "cell_type": "code",
      "source": [
        "# Missing Values/Null Values Count\n",
        "data.isnull().sum()"
      ],
      "metadata": {
        "id": "GgHWkxvamxVg",
        "colab": {
          "base_uri": "https://localhost:8080/",
          "height": 711
        },
        "outputId": "2ee6582c-ad4f-43af-92af-e25bffa2e809"
      },
      "execution_count": null,
      "outputs": [
        {
          "output_type": "execute_result",
          "data": {
            "text/plain": [
              "Unique id                      0\n",
              "channel_name                   0\n",
              "category                       0\n",
              "Sub-category                   0\n",
              "Customer Remarks           57165\n",
              "Order_id                   18232\n",
              "order_date_time            68693\n",
              "Issue_reported at              0\n",
              "issue_responded                0\n",
              "Survey_response_Date           0\n",
              "Customer_City              68828\n",
              "Product_category           68711\n",
              "Item_price                 68701\n",
              "connected_handling_time    85665\n",
              "Agent_name                     0\n",
              "Supervisor                     0\n",
              "Manager                        0\n",
              "Tenure Bucket                  0\n",
              "Agent Shift                    0\n",
              "CSAT Score                     0\n",
              "dtype: int64"
            ],
            "text/html": [
              "<div>\n",
              "<style scoped>\n",
              "    .dataframe tbody tr th:only-of-type {\n",
              "        vertical-align: middle;\n",
              "    }\n",
              "\n",
              "    .dataframe tbody tr th {\n",
              "        vertical-align: top;\n",
              "    }\n",
              "\n",
              "    .dataframe thead th {\n",
              "        text-align: right;\n",
              "    }\n",
              "</style>\n",
              "<table border=\"1\" class=\"dataframe\">\n",
              "  <thead>\n",
              "    <tr style=\"text-align: right;\">\n",
              "      <th></th>\n",
              "      <th>0</th>\n",
              "    </tr>\n",
              "  </thead>\n",
              "  <tbody>\n",
              "    <tr>\n",
              "      <th>Unique id</th>\n",
              "      <td>0</td>\n",
              "    </tr>\n",
              "    <tr>\n",
              "      <th>channel_name</th>\n",
              "      <td>0</td>\n",
              "    </tr>\n",
              "    <tr>\n",
              "      <th>category</th>\n",
              "      <td>0</td>\n",
              "    </tr>\n",
              "    <tr>\n",
              "      <th>Sub-category</th>\n",
              "      <td>0</td>\n",
              "    </tr>\n",
              "    <tr>\n",
              "      <th>Customer Remarks</th>\n",
              "      <td>57165</td>\n",
              "    </tr>\n",
              "    <tr>\n",
              "      <th>Order_id</th>\n",
              "      <td>18232</td>\n",
              "    </tr>\n",
              "    <tr>\n",
              "      <th>order_date_time</th>\n",
              "      <td>68693</td>\n",
              "    </tr>\n",
              "    <tr>\n",
              "      <th>Issue_reported at</th>\n",
              "      <td>0</td>\n",
              "    </tr>\n",
              "    <tr>\n",
              "      <th>issue_responded</th>\n",
              "      <td>0</td>\n",
              "    </tr>\n",
              "    <tr>\n",
              "      <th>Survey_response_Date</th>\n",
              "      <td>0</td>\n",
              "    </tr>\n",
              "    <tr>\n",
              "      <th>Customer_City</th>\n",
              "      <td>68828</td>\n",
              "    </tr>\n",
              "    <tr>\n",
              "      <th>Product_category</th>\n",
              "      <td>68711</td>\n",
              "    </tr>\n",
              "    <tr>\n",
              "      <th>Item_price</th>\n",
              "      <td>68701</td>\n",
              "    </tr>\n",
              "    <tr>\n",
              "      <th>connected_handling_time</th>\n",
              "      <td>85665</td>\n",
              "    </tr>\n",
              "    <tr>\n",
              "      <th>Agent_name</th>\n",
              "      <td>0</td>\n",
              "    </tr>\n",
              "    <tr>\n",
              "      <th>Supervisor</th>\n",
              "      <td>0</td>\n",
              "    </tr>\n",
              "    <tr>\n",
              "      <th>Manager</th>\n",
              "      <td>0</td>\n",
              "    </tr>\n",
              "    <tr>\n",
              "      <th>Tenure Bucket</th>\n",
              "      <td>0</td>\n",
              "    </tr>\n",
              "    <tr>\n",
              "      <th>Agent Shift</th>\n",
              "      <td>0</td>\n",
              "    </tr>\n",
              "    <tr>\n",
              "      <th>CSAT Score</th>\n",
              "      <td>0</td>\n",
              "    </tr>\n",
              "  </tbody>\n",
              "</table>\n",
              "</div><br><label><b>dtype:</b> int64</label>"
            ]
          },
          "metadata": {},
          "execution_count": 117
        }
      ]
    },
    {
      "cell_type": "code",
      "source": [
        "# percentage of missing values\n",
        "missing_percent = data.isnull().mean() * 100\n",
        "missing_percent"
      ],
      "metadata": {
        "id": "iY30UaCSCTF1",
        "colab": {
          "base_uri": "https://localhost:8080/",
          "height": 711
        },
        "outputId": "a0e85ce4-bb09-48b1-8f40-1cf0489b12f1"
      },
      "execution_count": null,
      "outputs": [
        {
          "output_type": "execute_result",
          "data": {
            "text/plain": [
              "Unique id                   0.000000\n",
              "channel_name                0.000000\n",
              "category                    0.000000\n",
              "Sub-category                0.000000\n",
              "Customer Remarks           66.542889\n",
              "Order_id                   21.222950\n",
              "order_date_time            79.962052\n",
              "Issue_reported at           0.000000\n",
              "issue_responded             0.000000\n",
              "Survey_response_Date        0.000000\n",
              "Customer_City              80.119199\n",
              "Product_category           79.983005\n",
              "Item_price                 79.971364\n",
              "connected_handling_time    99.718300\n",
              "Agent_name                  0.000000\n",
              "Supervisor                  0.000000\n",
              "Manager                     0.000000\n",
              "Tenure Bucket               0.000000\n",
              "Agent Shift                 0.000000\n",
              "CSAT Score                  0.000000\n",
              "dtype: float64"
            ],
            "text/html": [
              "<div>\n",
              "<style scoped>\n",
              "    .dataframe tbody tr th:only-of-type {\n",
              "        vertical-align: middle;\n",
              "    }\n",
              "\n",
              "    .dataframe tbody tr th {\n",
              "        vertical-align: top;\n",
              "    }\n",
              "\n",
              "    .dataframe thead th {\n",
              "        text-align: right;\n",
              "    }\n",
              "</style>\n",
              "<table border=\"1\" class=\"dataframe\">\n",
              "  <thead>\n",
              "    <tr style=\"text-align: right;\">\n",
              "      <th></th>\n",
              "      <th>0</th>\n",
              "    </tr>\n",
              "  </thead>\n",
              "  <tbody>\n",
              "    <tr>\n",
              "      <th>Unique id</th>\n",
              "      <td>0.000000</td>\n",
              "    </tr>\n",
              "    <tr>\n",
              "      <th>channel_name</th>\n",
              "      <td>0.000000</td>\n",
              "    </tr>\n",
              "    <tr>\n",
              "      <th>category</th>\n",
              "      <td>0.000000</td>\n",
              "    </tr>\n",
              "    <tr>\n",
              "      <th>Sub-category</th>\n",
              "      <td>0.000000</td>\n",
              "    </tr>\n",
              "    <tr>\n",
              "      <th>Customer Remarks</th>\n",
              "      <td>66.542889</td>\n",
              "    </tr>\n",
              "    <tr>\n",
              "      <th>Order_id</th>\n",
              "      <td>21.222950</td>\n",
              "    </tr>\n",
              "    <tr>\n",
              "      <th>order_date_time</th>\n",
              "      <td>79.962052</td>\n",
              "    </tr>\n",
              "    <tr>\n",
              "      <th>Issue_reported at</th>\n",
              "      <td>0.000000</td>\n",
              "    </tr>\n",
              "    <tr>\n",
              "      <th>issue_responded</th>\n",
              "      <td>0.000000</td>\n",
              "    </tr>\n",
              "    <tr>\n",
              "      <th>Survey_response_Date</th>\n",
              "      <td>0.000000</td>\n",
              "    </tr>\n",
              "    <tr>\n",
              "      <th>Customer_City</th>\n",
              "      <td>80.119199</td>\n",
              "    </tr>\n",
              "    <tr>\n",
              "      <th>Product_category</th>\n",
              "      <td>79.983005</td>\n",
              "    </tr>\n",
              "    <tr>\n",
              "      <th>Item_price</th>\n",
              "      <td>79.971364</td>\n",
              "    </tr>\n",
              "    <tr>\n",
              "      <th>connected_handling_time</th>\n",
              "      <td>99.718300</td>\n",
              "    </tr>\n",
              "    <tr>\n",
              "      <th>Agent_name</th>\n",
              "      <td>0.000000</td>\n",
              "    </tr>\n",
              "    <tr>\n",
              "      <th>Supervisor</th>\n",
              "      <td>0.000000</td>\n",
              "    </tr>\n",
              "    <tr>\n",
              "      <th>Manager</th>\n",
              "      <td>0.000000</td>\n",
              "    </tr>\n",
              "    <tr>\n",
              "      <th>Tenure Bucket</th>\n",
              "      <td>0.000000</td>\n",
              "    </tr>\n",
              "    <tr>\n",
              "      <th>Agent Shift</th>\n",
              "      <td>0.000000</td>\n",
              "    </tr>\n",
              "    <tr>\n",
              "      <th>CSAT Score</th>\n",
              "      <td>0.000000</td>\n",
              "    </tr>\n",
              "  </tbody>\n",
              "</table>\n",
              "</div><br><label><b>dtype:</b> float64</label>"
            ]
          },
          "metadata": {},
          "execution_count": 118
        }
      ]
    },
    {
      "cell_type": "code",
      "source": [
        "# Visualizing the missing values\n",
        "\n",
        "missing_percent = missing_percent[missing_percent > 0]  # Only columns with missing values\n",
        "\n",
        "# Plot\n",
        "plt.figure(figsize=(12,6))\n",
        "sns.barplot(x=missing_percent.index, y=missing_percent.values,color= 'red')\n",
        "plt.xticks(rotation=90, fontweight = 'bold')\n",
        "plt.ylabel('Percentage of Missing Values')\n",
        "plt.title('Visualizing the Missing Values')\n",
        "plt.show()\n"
      ],
      "metadata": {
        "id": "3q5wnI3om9sJ",
        "colab": {
          "base_uri": "https://localhost:8080/",
          "height": 749
        },
        "outputId": "4e3f338c-b710-4487-fc0e-28688ff10348"
      },
      "execution_count": null,
      "outputs": [
        {
          "output_type": "display_data",
          "data": {
            "text/plain": [
              "<Figure size 1200x600 with 1 Axes>"
            ],
            "image/png": "[encoded data removed]"
          },
          "metadata": {}
        }
      ]
    },
    {
      "cell_type": "markdown",
      "source": [
        "### What did you know about your dataset?"
      ],
      "metadata": {
        "id": "H0kj-8xxnORC"
      }
    },
    {
      "cell_type": "markdown",
      "source": [
        "**Based on the initial exploration, here's what I know about your dataset:**\n",
        "\n",
        "1. Size and Structure: The dataset contains 85,907 rows and 20 columns.\n",
        "\n",
        "2. No Duplicate Values: There are no duplicate rows in the dataset.\n",
        "\n",
        "3. Missing Values: Several columns have a significant percentage of missing values, notably connected_handling_time (almost 100%), Customer_City, order_date_time, Product_category, Item_price (around 80%), and Customer Remarks (around 66%). Order_id also has missing values (around 21%). The other columns are complete.\n",
        "\n",
        "4. Data Types: The dataset primarily consists of object (string) type columns, with a few numerical columns (Item_price, connected_handling_time, and CSAT Score).\n",
        "\n",
        "5. Unique Values: Many columns have a high number of unique values (e.g., Unique id, Order_id, Customer Remarks, Customer_City, Agent_name), while others have a limited number of distinct categories (channel_name, category, Product_category, Tenure Bucket, Agent Shift, CSAT Score).\n",
        "\n",
        "6. CSAT Score Distribution: The CSAT Score is an integer ranging from 1 to 5. The describe() method shows that the average CSAT is around 4.24, with the majority of scores likely being 4 or 5, as suggested by the 75th percentile being 5.\n",
        "\n",
        "7. Item Price Distribution: The Item_price column has a wide range, from 0 to 164,999, with a mean of around 5660.\n",
        "\n",
        "8. Missing Value Visualization: The bar plot clearly shows the columns with missing values and their respective percentages, visually confirming the extent of the data incompleteness in certain features."
      ],
      "metadata": {
        "id": "gfoNAAC-nUe_"
      }
    },
    {
      "cell_type": "markdown",
      "source": [
        "## ***2. Understanding Your Variables***"
      ],
      "metadata": {
        "id": "nA9Y7ga8ng1Z"
      }
    },
    {
      "cell_type": "code",
      "source": [
        "# Dataset Columns\n",
        "data.columns"
      ],
      "metadata": {
        "id": "j7xfkqrt5Ag5",
        "colab": {
          "base_uri": "https://localhost:8080/"
        },
        "outputId": "bf9e5f97-39e2-4909-98f7-076a9143f4fa"
      },
      "execution_count": null,
      "outputs": [
        {
          "output_type": "execute_result",
          "data": {
            "text/plain": [
              "Index(['Unique id', 'channel_name', 'category', 'Sub-category',\n",
              "       'Customer Remarks', 'Order_id', 'order_date_time', 'Issue_reported at',\n",
              "       'issue_responded', 'Survey_response_Date', 'Customer_City',\n",
              "       'Product_category', 'Item_price', 'connected_handling_time',\n",
              "       'Agent_name', 'Supervisor', 'Manager', 'Tenure Bucket', 'Agent Shift',\n",
              "       'CSAT Score'],\n",
              "      dtype='object')"
            ]
          },
          "metadata": {},
          "execution_count": 120
        }
      ]
    },
    {
      "cell_type": "code",
      "source": [
        "# Dataset Describe\n",
        "data.drop('connected_handling_time', axis=1).describe()  # connected_handling_time | 99% of the data is missing\n"
      ],
      "metadata": {
        "id": "DnOaZdaE5Q5t",
        "colab": {
          "base_uri": "https://localhost:8080/",
          "height": 301
        },
        "outputId": "33fe0500-a78e-4f5a-e82c-5dab18dc9060"
      },
      "execution_count": null,
      "outputs": [
        {
          "output_type": "execute_result",
          "data": {
            "text/plain": [
              "          Item_price    CSAT Score\n",
              "count   17206.000000  85907.000000\n",
              "mean     5660.774846      4.242157\n",
              "std     12825.728411      1.378903\n",
              "min         0.000000      1.000000\n",
              "25%       392.000000      4.000000\n",
              "50%       979.000000      5.000000\n",
              "75%      2699.750000      5.000000\n",
              "max    164999.000000      5.000000"
            ],
            "text/html": [
              "\n",
              "  <div id=\"df-1e779321-eeb6-4937-8e1a-48569bad91e6\" class=\"colab-df-container\">\n",
              "    <div>\n",
              "<style scoped>\n",
              "    .dataframe tbody tr th:only-of-type {\n",
              "        vertical-align: middle;\n",
              "    }\n",
              "\n",
              "    .dataframe tbody tr th {\n",
              "        vertical-align: top;\n",
              "    }\n",
              "\n",
              "    .dataframe thead th {\n",
              "        text-align: right;\n",
              "    }\n",
              "</style>\n",
              "<table border=\"1\" class=\"dataframe\">\n",
              "  <thead>\n",
              "    <tr style=\"text-align: right;\">\n",
              "      <th></th>\n",
              "      <th>Item_price</th>\n",
              "      <th>CSAT Score</th>\n",
              "    </tr>\n",
              "  </thead>\n",
              "  <tbody>\n",
              "    <tr>\n",
              "      <th>count</th>\n",
              "      <td>17206.000000</td>\n",
              "      <td>85907.000000</td>\n",
              "    </tr>\n",
              "    <tr>\n",
              "      <th>mean</th>\n",
              "      <td>5660.774846</td>\n",
              "      <td>4.242157</td>\n",
              "    </tr>\n",
              "    <tr>\n",
              "      <th>std</th>\n",
              "      <td>12825.728411</td>\n",
              "      <td>1.378903</td>\n",
              "    </tr>\n",
              "    <tr>\n",
              "      <th>min</th>\n",
              "      <td>0.000000</td>\n",
              "      <td>1.000000</td>\n",
              "    </tr>\n",
              "    <tr>\n",
              "      <th>25%</th>\n",
              "      <td>392.000000</td>\n",
              "      <td>4.000000</td>\n",
              "    </tr>\n",
              "    <tr>\n",
              "      <th>50%</th>\n",
              "      <td>979.000000</td>\n",
              "      <td>5.000000</td>\n",
              "    </tr>\n",
              "    <tr>\n",
              "      <th>75%</th>\n",
              "      <td>2699.750000</td>\n",
              "      <td>5.000000</td>\n",
              "    </tr>\n",
              "    <tr>\n",
              "      <th>max</th>\n",
              "      <td>164999.000000</td>\n",
              "      <td>5.000000</td>\n",
              "    </tr>\n",
              "  </tbody>\n",
              "</table>\n",
              "</div>\n",
              "    <div class=\"colab-df-buttons\">\n",
              "\n",
              "  <div class=\"colab-df-container\">\n",
              "    <button class=\"colab-df-convert\" onclick=\"convertToInteractive('df-1e779321-eeb6-4937-8e1a-48569bad91e6')\"\n",
              "            title=\"Convert this dataframe to an interactive table.\"\n",
              "            style=\"display:none;\">\n",
              "\n",
              "  <svg xmlns=\"http://www.w3.org/2000/svg\" height=\"24px\" viewBox=\"0 -960 960 960\">\n",
              "    <path d=\"M120-120v-720h720v720H120Zm60-500h600v-160H180v160Zm220 220h160v-160H400v160Zm0 220h160v-160H400v160ZM180-400h160v-160H180v160Zm440 0h160v-160H620v160ZM180-180h160v-160H180v160Zm440 0h160v-160H620v160Z\"/>\n",
              "  </svg>\n",
              "    </button>\n",
              "\n",
              "  <style>\n",
              "    .colab-df-container {\n",
              "      display:flex;\n",
              "      gap: 12px;\n",
              "    }\n",
              "\n",
              "    .colab-df-convert {\n",
              "      background-color: #E8F0FE;\n",
              "      border: none;\n",
              "      border-radius: 50%;\n",
              "      cursor: pointer;\n",
              "      display: none;\n",
              "      fill: #1967D2;\n",
              "      height: 32px;\n",
              "      padding: 0 0 0 0;\n",
              "      width: 32px;\n",
              "    }\n",
              "\n",
              "    .colab-df-convert:hover {\n",
              "      background-color: #E2EBFA;\n",
              "      box-shadow: 0px 1px 2px rgba(60, 64, 67, 0.3), 0px 1px 3px 1px rgba(60, 64, 67, 0.15);\n",
              "      fill: #174EA6;\n",
              "    }\n",
              "\n",
              "    .colab-df-buttons div {\n",
              "      margin-bottom: 4px;\n",
              "    }\n",
              "\n",
              "    [theme=dark] .colab-df-convert {\n",
              "      background-color: #3B4455;\n",
              "      fill: #D2E3FC;\n",
              "    }\n",
              "\n",
              "    [theme=dark] .colab-df-convert:hover {\n",
              "      background-color: #434B5C;\n",
              "      box-shadow: 0px 1px 3px 1px rgba(0, 0, 0, 0.15);\n",
              "      filter: drop-shadow(0px 1px 2px rgba(0, 0, 0, 0.3));\n",
              "      fill: #FFFFFF;\n",
              "    }\n",
              "  </style>\n",
              "\n",
              "    <script>\n",
              "      const buttonEl =\n",
              "        document.querySelector('#df-1e779321-eeb6-4937-8e1a-48569bad91e6 button.colab-df-convert');\n",
              "      buttonEl.style.display =\n",
              "        google.colab.kernel.accessAllowed ? 'block' : 'none';\n",
              "\n",
              "      async function convertToInteractive(key) {\n",
              "        const element = document.querySelector('#df-1e779321-eeb6-4937-8e1a-48569bad91e6');\n",
              "        const dataTable =\n",
              "          await google.colab.kernel.invokeFunction('convertToInteractive',\n",
              "                                                    [key], {});\n",
              "        if (!dataTable) return;\n",
              "\n",
              "        const docLinkHtml = 'Like what you see? Visit the ' +\n",
              "          '<a target=\"_blank\" href=https://colab.research.google.com/notebooks/data_table.ipynb>data table notebook</a>'\n",
              "          + ' to learn more about interactive tables.';\n",
              "        element.innerHTML = '';\n",
              "        dataTable['output_type'] = 'display_data';\n",
              "        await google.colab.output.renderOutput(dataTable, element);\n",
              "        const docLink = document.createElement('div');\n",
              "        docLink.innerHTML = docLinkHtml;\n",
              "        element.appendChild(docLink);\n",
              "      }\n",
              "    </script>\n",
              "  </div>\n",
              "\n",
              "\n",
              "    <div id=\"df-c28e8051-fb1d-47cf-b225-94d9cd12753f\">\n",
              "      <button class=\"colab-df-quickchart\" onclick=\"quickchart('df-c28e8051-fb1d-47cf-b225-94d9cd12753f')\"\n",
              "                title=\"Suggest charts\"\n",
              "                style=\"display:none;\">\n",
              "\n",
              "<svg xmlns=\"http://www.w3.org/2000/svg\" height=\"24px\"viewBox=\"0 0 24 24\"\n",
              "     width=\"24px\">\n",
              "    <g>\n",
              "        <path d=\"M19 3H5c-1.1 0-2 .9-2 2v14c0 1.1.9 2 2 2h14c1.1 0 2-.9 2-2V5c0-1.1-.9-2-2-2zM9 17H7v-7h2v7zm4 0h-2V7h2v10zm4 0h-2v-4h2v4z\"/>\n",
              "    </g>\n",
              "</svg>\n",
              "      </button>\n",
              "\n",
              "<style>\n",
              "  .colab-df-quickchart {\n",
              "      --bg-color: #E8F0FE;\n",
              "      --fill-color: #1967D2;\n",
              "      --hover-bg-color: #E2EBFA;\n",
              "      --hover-fill-color: #174EA6;\n",
              "      --disabled-fill-color: #AAA;\n",
              "      --disabled-bg-color: #DDD;\n",
              "  }\n",
              "\n",
              "  [theme=dark] .colab-df-quickchart {\n",
              "      --bg-color: #3B4455;\n",
              "      --fill-color: #D2E3FC;\n",
              "      --hover-bg-color: #434B5C;\n",
              "      --hover-fill-color: #FFFFFF;\n",
              "      --disabled-bg-color: #3B4455;\n",
              "      --disabled-fill-color: #666;\n",
              "  }\n",
              "\n",
              "  .colab-df-quickchart {\n",
              "    background-color: var(--bg-color);\n",
              "    border: none;\n",
              "    border-radius: 50%;\n",
              "    cursor: pointer;\n",
              "    display: none;\n",
              "    fill: var(--fill-color);\n",
              "    height: 32px;\n",
              "    padding: 0;\n",
              "    width: 32px;\n",
              "  }\n",
              "\n",
              "  .colab-df-quickchart:hover {\n",
              "    background-color: var(--hover-bg-color);\n",
              "    box-shadow: 0 1px 2px rgba(60, 64, 67, 0.3), 0 1px 3px 1px rgba(60, 64, 67, 0.15);\n",
              "    fill: var(--button-hover-fill-color);\n",
              "  }\n",
              "\n",
              "  .colab-df-quickchart-complete:disabled,\n",
              "  .colab-df-quickchart-complete:disabled:hover {\n",
              "    background-color: var(--disabled-bg-color);\n",
              "    fill: var(--disabled-fill-color);\n",
              "    box-shadow: none;\n",
              "  }\n",
              "\n",
              "  .colab-df-spinner {\n",
              "    border: 2px solid var(--fill-color);\n",
              "    border-color: transparent;\n",
              "    border-bottom-color: var(--fill-color);\n",
              "    animation:\n",
              "      spin 1s steps(1) infinite;\n",
              "  }\n",
              "\n",
              "  @keyframes spin {\n",
              "    0% {\n",
              "      border-color: transparent;\n",
              "      border-bottom-color: var(--fill-color);\n",
              "      border-left-color: var(--fill-color);\n",
              "    }\n",
              "    20% {\n",
              "      border-color: transparent;\n",
              "      border-left-color: var(--fill-color);\n",
              "      border-top-color: var(--fill-color);\n",
              "    }\n",
              "    30% {\n",
              "      border-color: transparent;\n",
              "      border-left-color: var(--fill-color);\n",
              "      border-top-color: var(--fill-color);\n",
              "      border-right-color: var(--fill-color);\n",
              "    }\n",
              "    40% {\n",
              "      border-color: transparent;\n",
              "      border-right-color: var(--fill-color);\n",
              "      border-top-color: var(--fill-color);\n",
              "    }\n",
              "    60% {\n",
              "      border-color: transparent;\n",
              "      border-right-color: var(--fill-color);\n",
              "    }\n",
              "    80% {\n",
              "      border-color: transparent;\n",
              "      border-right-color: var(--fill-color);\n",
              "      border-bottom-color: var(--fill-color);\n",
              "    }\n",
              "    90% {\n",
              "      border-color: transparent;\n",
              "      border-bottom-color: var(--fill-color);\n",
              "    }\n",
              "  }\n",
              "</style>\n",
              "\n",
              "      <script>\n",
              "        async function quickchart(key) {\n",
              "          const quickchartButtonEl =\n",
              "            document.querySelector('#' + key + ' button');\n",
              "          quickchartButtonEl.disabled = true;  // To prevent multiple clicks.\n",
              "          quickchartButtonEl.classList.add('colab-df-spinner');\n",
              "          try {\n",
              "            const charts = await google.colab.kernel.invokeFunction(\n",
              "                'suggestCharts', [key], {});\n",
              "          } catch (error) {\n",
              "            console.error('Error during call to suggestCharts:', error);\n",
              "          }\n",
              "          quickchartButtonEl.classList.remove('colab-df-spinner');\n",
              "          quickchartButtonEl.classList.add('colab-df-quickchart-complete');\n",
              "        }\n",
              "        (() => {\n",
              "          let quickchartButtonEl =\n",
              "            document.querySelector('#df-c28e8051-fb1d-47cf-b225-94d9cd12753f button');\n",
              "          quickchartButtonEl.style.display =\n",
              "            google.colab.kernel.accessAllowed ? 'block' : 'none';\n",
              "        })();\n",
              "      </script>\n",
              "    </div>\n",
              "\n",
              "    </div>\n",
              "  </div>\n"
            ],
            "application/vnd.google.colaboratory.intrinsic+json": {
              "type": "dataframe",
              "summary": "{\n  \"name\": \"data\",\n  \"rows\": 8,\n  \"fields\": [\n    {\n      \"column\": \"Item_price\",\n      \"properties\": {\n        \"dtype\": \"number\",\n        \"std\": 56675.40828301801,\n        \"min\": 0.0,\n        \"max\": 164999.0,\n        \"num_unique_values\": 8,\n        \"samples\": [\n          5660.7748459839595,\n          979.0,\n          17206.0\n        ],\n        \"semantic_type\": \"\",\n        \"description\": \"\"\n      }\n    },\n    {\n      \"column\": \"CSAT Score\",\n      \"properties\": {\n        \"dtype\": \"number\",\n        \"std\": 30371.417109350994,\n        \"min\": 1.0,\n        \"max\": 85907.0,\n        \"num_unique_values\": 6,\n        \"samples\": [\n          85907.0,\n          4.242157216524847,\n          5.0\n        ],\n        \"semantic_type\": \"\",\n        \"description\": \"\"\n      }\n    }\n  ]\n}"
            }
          },
          "metadata": {},
          "execution_count": 121
        }
      ]
    },
    {
      "cell_type": "markdown",
      "source": [
        "### Variables Description"
      ],
      "metadata": {
        "id": "PBTbrJXOngz2"
      }
    },
    {
      "cell_type": "markdown",
      "source": [
        "1. Unique id – Unique identifier for each record\n",
        "\n",
        "2. Channel name – Name of the customer service channel\n",
        "\n",
        "3. Category – Category of the interaction\n",
        "\n",
        "4. Sub-category – Sub-category of the interaction\n",
        "5. Customer Remarks – Feedback provided by the customer\n",
        "6. Order id – Identifier for the order associated with the interaction\n",
        "7. Order date time – Date and time of the order\n",
        "8. Issue reported at – Timestamp when the issue was reported\n",
        "9. Issue responded – Timestamp when the issue was responded to\n",
        "10. Survey response date – Date of the customer survey response\n",
        "11. Customer city – City of the customer\n",
        "12. Product category – Category of the product\n",
        "13. Item price – Price of the item\n",
        "14. Connected handling time – Time taken to handle the interaction\n",
        "15. Agent name – Name of the customer service agent\n",
        "16. Supervisor – Name of the supervisor\n",
        "17. Manager – Name of the manager\n",
        "18. Tenure Bucket – Bucket categorizing agent tenure\n",
        "19. Agent Shift – Shift timing of the agent\n",
        "20. CSAT Score – Customer Satisfaction (CSAT) score"
      ],
      "metadata": {
        "id": "aJV4KIxSnxay"
      }
    },
    {
      "cell_type": "markdown",
      "source": [
        "### Check Unique Values for each variable."
      ],
      "metadata": {
        "id": "u3PMJOP6ngxN"
      }
    },
    {
      "cell_type": "code",
      "source": [
        "# Check Unique Values for each variable.\n",
        "data.nunique()"
      ],
      "metadata": {
        "id": "zms12Yq5n-jE",
        "colab": {
          "base_uri": "https://localhost:8080/",
          "height": 711
        },
        "outputId": "528d8ea5-0d85-4050-883a-0c2d46e7bb02"
      },
      "execution_count": null,
      "outputs": [
        {
          "output_type": "execute_result",
          "data": {
            "text/plain": [
              "Unique id                  85907\n",
              "channel_name                   3\n",
              "category                      12\n",
              "Sub-category                  57\n",
              "Customer Remarks           18231\n",
              "Order_id                   67675\n",
              "order_date_time            13766\n",
              "Issue_reported at          30923\n",
              "issue_responded            30262\n",
              "Survey_response_Date          31\n",
              "Customer_City               1782\n",
              "Product_category               9\n",
              "Item_price                  2789\n",
              "connected_handling_time      211\n",
              "Agent_name                  1371\n",
              "Supervisor                    40\n",
              "Manager                        6\n",
              "Tenure Bucket                  5\n",
              "Agent Shift                    5\n",
              "CSAT Score                     5\n",
              "dtype: int64"
            ],
            "text/html": [
              "<div>\n",
              "<style scoped>\n",
              "    .dataframe tbody tr th:only-of-type {\n",
              "        vertical-align: middle;\n",
              "    }\n",
              "\n",
              "    .dataframe tbody tr th {\n",
              "        vertical-align: top;\n",
              "    }\n",
              "\n",
              "    .dataframe thead th {\n",
              "        text-align: right;\n",
              "    }\n",
              "</style>\n",
              "<table border=\"1\" class=\"dataframe\">\n",
              "  <thead>\n",
              "    <tr style=\"text-align: right;\">\n",
              "      <th></th>\n",
              "      <th>0</th>\n",
              "    </tr>\n",
              "  </thead>\n",
              "  <tbody>\n",
              "    <tr>\n",
              "      <th>Unique id</th>\n",
              "      <td>85907</td>\n",
              "    </tr>\n",
              "    <tr>\n",
              "      <th>channel_name</th>\n",
              "      <td>3</td>\n",
              "    </tr>\n",
              "    <tr>\n",
              "      <th>category</th>\n",
              "      <td>12</td>\n",
              "    </tr>\n",
              "    <tr>\n",
              "      <th>Sub-category</th>\n",
              "      <td>57</td>\n",
              "    </tr>\n",
              "    <tr>\n",
              "      <th>Customer Remarks</th>\n",
              "      <td>18231</td>\n",
              "    </tr>\n",
              "    <tr>\n",
              "      <th>Order_id</th>\n",
              "      <td>67675</td>\n",
              "    </tr>\n",
              "    <tr>\n",
              "      <th>order_date_time</th>\n",
              "      <td>13766</td>\n",
              "    </tr>\n",
              "    <tr>\n",
              "      <th>Issue_reported at</th>\n",
              "      <td>30923</td>\n",
              "    </tr>\n",
              "    <tr>\n",
              "      <th>issue_responded</th>\n",
              "      <td>30262</td>\n",
              "    </tr>\n",
              "    <tr>\n",
              "      <th>Survey_response_Date</th>\n",
              "      <td>31</td>\n",
              "    </tr>\n",
              "    <tr>\n",
              "      <th>Customer_City</th>\n",
              "      <td>1782</td>\n",
              "    </tr>\n",
              "    <tr>\n",
              "      <th>Product_category</th>\n",
              "      <td>9</td>\n",
              "    </tr>\n",
              "    <tr>\n",
              "      <th>Item_price</th>\n",
              "      <td>2789</td>\n",
              "    </tr>\n",
              "    <tr>\n",
              "      <th>connected_handling_time</th>\n",
              "      <td>211</td>\n",
              "    </tr>\n",
              "    <tr>\n",
              "      <th>Agent_name</th>\n",
              "      <td>1371</td>\n",
              "    </tr>\n",
              "    <tr>\n",
              "      <th>Supervisor</th>\n",
              "      <td>40</td>\n",
              "    </tr>\n",
              "    <tr>\n",
              "      <th>Manager</th>\n",
              "      <td>6</td>\n",
              "    </tr>\n",
              "    <tr>\n",
              "      <th>Tenure Bucket</th>\n",
              "      <td>5</td>\n",
              "    </tr>\n",
              "    <tr>\n",
              "      <th>Agent Shift</th>\n",
              "      <td>5</td>\n",
              "    </tr>\n",
              "    <tr>\n",
              "      <th>CSAT Score</th>\n",
              "      <td>5</td>\n",
              "    </tr>\n",
              "  </tbody>\n",
              "</table>\n",
              "</div><br><label><b>dtype:</b> int64</label>"
            ]
          },
          "metadata": {},
          "execution_count": 122
        }
      ]
    },
    {
      "cell_type": "markdown",
      "source": [
        "## 3. ***Data Wrangling***"
      ],
      "metadata": {
        "id": "dauF4eBmngu3"
      }
    },
    {
      "cell_type": "markdown",
      "source": [
        "### Data Wrangling Code"
      ],
      "metadata": {
        "id": "bKJF3rekwFvQ"
      }
    },
    {
      "cell_type": "code",
      "source": [
        "# Write your code to make your dataset analysis ready.\n",
        "\n",
        "# Convert datetime columns\n",
        "\n",
        "data['Issue_reported_at'] = pd.to_datetime(data['Issue_reported at'], format='%d/%m/%Y %H:%M', dayfirst=True, errors='coerce')\n",
        "\n",
        "data['issue_responded'] = pd.to_datetime(data['issue_responded'], format='%d/%m/%Y %H:%M', dayfirst=True, errors='coerce')\n",
        "\n",
        "data['Survey_response_Date'] = pd.to_datetime(data['Survey_response_Date'], format='%d-%b-%y', dayfirst=True, errors='coerce')\n"
      ],
      "metadata": {
        "id": "wk-9a2fpoLcV"
      },
      "execution_count": null,
      "outputs": []
    },
    {
      "cell_type": "code",
      "source": [
        "# Response time in minutes | how much time taken to resond to the customer\n",
        "data['response_time_mins'] = (data['issue_responded'] - data['Issue_reported_at']).dt.total_seconds() / 60\n"
      ],
      "metadata": {
        "id": "v65jZiWKLF8n"
      },
      "execution_count": null,
      "outputs": []
    },
    {
      "cell_type": "code",
      "source": [
        "data['response_time_mins'].describe()"
      ],
      "metadata": {
        "id": "u6dYV8wMphyo",
        "colab": {
          "base_uri": "https://localhost:8080/",
          "height": 335
        },
        "outputId": "42d292f6-b853-4ed4-bc07-d10b991a226a"
      },
      "execution_count": null,
      "outputs": [
        {
          "output_type": "execute_result",
          "data": {
            "text/plain": [
              "count    85907.000000\n",
              "mean       136.886610\n",
              "std        592.528551\n",
              "min      -1437.000000\n",
              "25%          2.000000\n",
              "50%          5.000000\n",
              "75%         35.000000\n",
              "max       5758.000000\n",
              "Name: response_time_mins, dtype: float64"
            ],
            "text/html": [
              "<div>\n",
              "<style scoped>\n",
              "    .dataframe tbody tr th:only-of-type {\n",
              "        vertical-align: middle;\n",
              "    }\n",
              "\n",
              "    .dataframe tbody tr th {\n",
              "        vertical-align: top;\n",
              "    }\n",
              "\n",
              "    .dataframe thead th {\n",
              "        text-align: right;\n",
              "    }\n",
              "</style>\n",
              "<table border=\"1\" class=\"dataframe\">\n",
              "  <thead>\n",
              "    <tr style=\"text-align: right;\">\n",
              "      <th></th>\n",
              "      <th>response_time_mins</th>\n",
              "    </tr>\n",
              "  </thead>\n",
              "  <tbody>\n",
              "    <tr>\n",
              "      <th>count</th>\n",
              "      <td>85907.000000</td>\n",
              "    </tr>\n",
              "    <tr>\n",
              "      <th>mean</th>\n",
              "      <td>136.886610</td>\n",
              "    </tr>\n",
              "    <tr>\n",
              "      <th>std</th>\n",
              "      <td>592.528551</td>\n",
              "    </tr>\n",
              "    <tr>\n",
              "      <th>min</th>\n",
              "      <td>-1437.000000</td>\n",
              "    </tr>\n",
              "    <tr>\n",
              "      <th>25%</th>\n",
              "      <td>2.000000</td>\n",
              "    </tr>\n",
              "    <tr>\n",
              "      <th>50%</th>\n",
              "      <td>5.000000</td>\n",
              "    </tr>\n",
              "    <tr>\n",
              "      <th>75%</th>\n",
              "      <td>35.000000</td>\n",
              "    </tr>\n",
              "    <tr>\n",
              "      <th>max</th>\n",
              "      <td>5758.000000</td>\n",
              "    </tr>\n",
              "  </tbody>\n",
              "</table>\n",
              "</div><br><label><b>dtype:</b> float64</label>"
            ]
          },
          "metadata": {},
          "execution_count": 125
        }
      ]
    },
    {
      "cell_type": "code",
      "source": [
        "# REMOVE THE RESPONSE TIME < 0\n",
        "data.loc[data['response_time_mins'] < 0, 'response_time_mins'] = None\n"
      ],
      "metadata": {
        "id": "gmLLtqNxtYPM"
      },
      "execution_count": null,
      "outputs": []
    },
    {
      "cell_type": "code",
      "source": [
        "# Resolution lag between reported issue and survey date (in hours/days) | how much time taken to solve the issue after responding\n",
        "data['resolution_days'] = (data['Survey_response_Date'].dt.normalize() - data['Issue_reported_at'].dt.normalize()).dt.total_seconds() / (24*3600)\n",
        "\n"
      ],
      "metadata": {
        "id": "joAHR4WBxcsM"
      },
      "execution_count": null,
      "outputs": []
    },
    {
      "cell_type": "code",
      "source": [
        "data['resolution_days'].value_counts()"
      ],
      "metadata": {
        "id": "ETCrI8pFLF3C",
        "colab": {
          "base_uri": "https://localhost:8080/",
          "height": 273
        },
        "outputId": "71f13371-0200-4850-d938-f239e55a684a"
      },
      "execution_count": null,
      "outputs": [
        {
          "output_type": "execute_result",
          "data": {
            "text/plain": [
              "resolution_days\n",
              "0.0    78087\n",
              "1.0     6034\n",
              "2.0     1171\n",
              "3.0      455\n",
              "4.0      160\n",
              "Name: count, dtype: int64"
            ],
            "text/html": [
              "<div>\n",
              "<style scoped>\n",
              "    .dataframe tbody tr th:only-of-type {\n",
              "        vertical-align: middle;\n",
              "    }\n",
              "\n",
              "    .dataframe tbody tr th {\n",
              "        vertical-align: top;\n",
              "    }\n",
              "\n",
              "    .dataframe thead th {\n",
              "        text-align: right;\n",
              "    }\n",
              "</style>\n",
              "<table border=\"1\" class=\"dataframe\">\n",
              "  <thead>\n",
              "    <tr style=\"text-align: right;\">\n",
              "      <th></th>\n",
              "      <th>count</th>\n",
              "    </tr>\n",
              "    <tr>\n",
              "      <th>resolution_days</th>\n",
              "      <th></th>\n",
              "    </tr>\n",
              "  </thead>\n",
              "  <tbody>\n",
              "    <tr>\n",
              "      <th>0.0</th>\n",
              "      <td>78087</td>\n",
              "    </tr>\n",
              "    <tr>\n",
              "      <th>1.0</th>\n",
              "      <td>6034</td>\n",
              "    </tr>\n",
              "    <tr>\n",
              "      <th>2.0</th>\n",
              "      <td>1171</td>\n",
              "    </tr>\n",
              "    <tr>\n",
              "      <th>3.0</th>\n",
              "      <td>455</td>\n",
              "    </tr>\n",
              "    <tr>\n",
              "      <th>4.0</th>\n",
              "      <td>160</td>\n",
              "    </tr>\n",
              "  </tbody>\n",
              "</table>\n",
              "</div><br><label><b>dtype:</b> int64</label>"
            ]
          },
          "metadata": {},
          "execution_count": 128
        }
      ]
    },
    {
      "cell_type": "code",
      "source": [
        "# get the hour,day_name, day of the week number from the when the issue was reported\n",
        "data['issue_day_of_week'] = data['Issue_reported_at'].dt.dayofweek\n",
        "data['issue_day_name'] = data['Issue_reported_at'].dt.day_name()\n",
        "data['issue_hour'] = data['Issue_reported_at'].dt.hour"
      ],
      "metadata": {
        "id": "dUDQTXunLF0X"
      },
      "execution_count": null,
      "outputs": []
    },
    {
      "cell_type": "code",
      "source": [
        "# find weathe the issue reported on weekend or not\n",
        "\n",
        "data['is_weekend'] = data['issue_day_of_week'].apply(lambda x: 1 if x >= 5 else 0)\n"
      ],
      "metadata": {
        "id": "9NqDzqDQLFsI"
      },
      "execution_count": null,
      "outputs": []
    },
    {
      "cell_type": "code",
      "source": [
        "# divide the day into sections ( at what section of time we goth thw report)\n",
        "def time_of_day(hour):\n",
        "    if 5 <= hour < 12:\n",
        "        return 'Morning'\n",
        "    elif 12 <= hour < 17:\n",
        "        return 'Afternoon'\n",
        "    elif 17 <= hour < 21:\n",
        "        return 'Evening'\n",
        "    else:\n",
        "        return 'Night'\n",
        "\n",
        "data['time_of_day'] = data['issue_hour'].apply(time_of_day)\n",
        "\n"
      ],
      "metadata": {
        "id": "uSDc7yeo9C-b"
      },
      "execution_count": null,
      "outputs": []
    },
    {
      "cell_type": "markdown",
      "source": [
        "### What all manipulations have you done and insights you found?"
      ],
      "metadata": {
        "id": "MSa1f5Uengrz"
      }
    },
    {
      "cell_type": "markdown",
      "source": [
        "**Data Manipulations:**\n",
        "\n",
        "1. Datetime Conversion: Converted Issue_reported at, issue_responded, and Survey_response_Date to datetime for time-based calculations.\n",
        "\n",
        "2. Response Time Calculation: Created response_time_mins as the difference between issue reported and responded times; replaced negative values with None.\n",
        "\n",
        "3. Resolution Days: Calculated resolution_days as the difference between Survey_response_Date and Issue_reported at in days.\n",
        "\n",
        "4. Temporal Features: Extracted day of week (issue_day_of_week, issue_day_name), hour (issue_hour), and weekend indicator (is_weekend).\n",
        "\n",
        "5. Time of Day Categorization: Created time_of_day column with categories: Morning, Afternoon, Evening, Night.\n",
        "\n",
        "6. Response Time Groups: Grouped response_time_mins into intervals like '0-5', '6-15', etc.\n",
        "\n",
        "**Insights Found:**\n",
        "*   **Response Time Distribution:** The majority of issues have a relatively fast response time, with the median response time being quite low. However, there is a wide range in response times, with some issues taking significantly longer to be responded to.\n",
        "*   **Resolution Time Distribution:** Most issues are resolved on the same day they are reported, as indicated by the high count of 0 resolution days.\n",
        "*   **Temporal Patterns:** There are variations in the number of issues reported based on the day of the week and hour of the day. This suggests potential peak times for customer support interactions.\n",
        "*   **Impact of Response Time on CSAT (Preliminary):** Grouping response times reveals a potential trend where faster response times might be associated with higher CSAT scores, although further analysis is needed to confirm this.\n",
        "*   **Distribution of Issues by Time of Day:** The distribution of issues across different times of the day highlights when support resources are most in demand."
      ],
      "metadata": {
        "id": "5ikyrvl0mS-R"
      }
    },
    {
      "cell_type": "markdown",
      "source": [
        "## ***4. Data Vizualization, Storytelling & Experimenting with charts : Understand the relationships between variables***"
      ],
      "metadata": {
        "id": "GF8Ens_Soomf"
      }
    },
    {
      "cell_type": "markdown",
      "source": [
        "#### Chart - 1"
      ],
      "metadata": {
        "id": "0wOQAZs5pc--"
      }
    },
    {
      "cell_type": "code",
      "source": [
        "# csat distrabution\n",
        "plt.figure(figsize=(8,5))\n",
        "sns.countplot(x='CSAT Score', data=data)\n",
        "plt.title('Distribution of CSAT Scores')\n",
        "plt.show()\n"
      ],
      "metadata": {
        "id": "8FnNEkkFBNwb",
        "colab": {
          "base_uri": "https://localhost:8080/",
          "height": 487
        },
        "outputId": "42a8c997-0ef6-44b2-8107-98fb94c64e66"
      },
      "execution_count": null,
      "outputs": [
        {
          "output_type": "display_data",
          "data": {
            "text/plain": [
              "<Figure size 800x500 with 1 Axes>"
            ],
            "image/png": "[encoded data removed]"
          },
          "metadata": {}
        }
      ]
    },
    {
      "cell_type": "markdown",
      "source": [
        "##### 1. Why did you pick the specific chart?"
      ],
      "metadata": {
        "id": "K5QZ13OEpz2H"
      }
    },
    {
      "cell_type": "markdown",
      "source": [
        "I picked the countplot for Chart 1 because it's the most straightforward way to visualize the distribution of a single categorical variable CSAT Score. It quickly shows how many customers fall into each CSAT category (1 through 5), making it easy to see which scores are most common."
      ],
      "metadata": {
        "id": "XESiWehPqBRc"
      }
    },
    {
      "cell_type": "markdown",
      "source": [
        "##### 2. What is/are the insight(s) found from the chart?"
      ],
      "metadata": {
        "id": "lQ7QKXXCp7Bj"
      }
    },
    {
      "cell_type": "markdown",
      "source": [
        "*   **High Proportion of Satisfied Customers:** The chart clearly shows that CSAT scores of 4 and 5 are the most frequent, with CSAT 5 being the most dominant. This indicates that a large majority of customers are satisfied with their support experience.\n",
        "\n",
        "While there are customers with lower CSAT scores (1, 2, and 3), their numbers are significantly lower compared to those with high scores. This suggests that while overall customer satisfaction is positive, there are still areas for improvement to address the causes of lower satisfaction."
      ],
      "metadata": {
        "id": "C_j1G7yiqdRP"
      }
    },
    {
      "cell_type": "markdown",
      "source": [
        "##### 3. Will the gained insights help creating a positive business impact?\n",
        "Are there any insights that lead to negative growth? Justify with specific reason."
      ],
      "metadata": {
        "id": "448CDAPjqfQr"
      }
    },
    {
      "cell_type": "markdown",
      "source": [
        "**Positive Business Impact:**\n",
        "\n",
        "*   **High Overall Satisfaction:** The high proportion of CSAT scores of 4 and 5 is a positive indicator. This suggests the current customer service efforts are largely effective and can be a foundation for building stronger customer loyalty.\n",
        "*   **Identify Strengths:** By understanding what contributes to the high satisfaction scores (e.g., specific agent behaviors, resolution processes for common issues), the business can reinforce these strengths and replicate them across the support team.\n",
        "\n",
        "**Insights that could lead to negative growth:**\n",
        "\n",
        "*   **Presence of Lower CSAT Scores:** While fewer in number, the existence of CSAT scores of 1, 2, and 3 indicates that a segment of customers is dissatisfied. If the root causes of this dissatisfaction are not identified and addressed, these negative experiences can lead to:\n",
        "    *   **Customer Churn:** Dissatisfied customers are more likely to stop using the service.\n",
        "    *   **Negative Word-of-Mouth:** Unhappy customers may share their negative experiences with others, damaging the brand's reputation and hindering new customer acquisition.\n",
        "    *   **Increased Support Costs:** Repeated issues from dissatisfied customers can lead to higher operational costs.\n",
        "\n",
        "Therefore, while the overall picture is positive, focusing on the reasons behind the lower CSAT scores is crucial to prevent negative growth and ensure consistent customer satisfaction."
      ],
      "metadata": {
        "id": "3cspy4FjqxJW"
      }
    },
    {
      "cell_type": "markdown",
      "source": [
        "#### Chart - 2"
      ],
      "metadata": {
        "id": "KSlN3yHqYklG"
      }
    },
    {
      "cell_type": "code",
      "source": [
        "# sub plots\n",
        "fig, axes = plt.subplots(1, 2, figsize=(15,5))\n",
        "\n",
        "# Count of customers per channel\n",
        "sns.countplot(x='channel_name',data=data,order=data['channel_name'].value_counts().index,ax=axes[0],width=0.5)\n",
        "axes[0].set_title('Number of Customer Interactions per Channel')\n",
        "axes[0].set_xlabel('Channel Name')\n",
        "axes[0].set_ylabel('Count')\n",
        "\n",
        "# Average CSAT per channel\n",
        "channel_csat = data.groupby('channel_name')['CSAT Score'].mean().reset_index()\n",
        "sns.barplot(\n",
        "    x='channel_name',\n",
        "    y='CSAT Score',\n",
        "    data=channel_csat,\n",
        "    order=channel_csat.sort_values('CSAT Score', ascending=False)['channel_name'],\n",
        "    ax=axes[1],\n",
        "    width=0.5\n",
        ")\n",
        "axes[1].set_title('Average CSAT Score per Channel')\n",
        "axes[1].set_xlabel('Channel Name')\n",
        "axes[1].set_ylabel('Average CSAT Score')\n",
        "axes[1].set_ylim(0,5)\n",
        "\n",
        "plt.tight_layout()\n",
        "plt.show()\n"
      ],
      "metadata": {
        "id": "uUEhsBiVMaO-",
        "colab": {
          "base_uri": "https://localhost:8080/",
          "height": 507
        },
        "outputId": "2148982e-a467-4e99-99b4-9b3b0f39e185"
      },
      "execution_count": null,
      "outputs": [
        {
          "output_type": "display_data",
          "data": {
            "text/plain": [
              "<Figure size 1500x500 with 2 Axes>"
            ],
            "image/png": "[encoded data removed]"
          },
          "metadata": {}
        }
      ]
    },
    {
      "cell_type": "markdown",
      "source": [
        "##### 1. Why did you pick the specific chart?"
      ],
      "metadata": {
        "id": "t6dVpIINYklI"
      }
    },
    {
      "cell_type": "markdown",
      "source": [
        "I used side-by-side bar plots to visualize and compare two different metrics (number of customer interactions and average CSAT score) across the different `channel_name` categories. This layout allows for a clear comparison of channel performance based on both volume and customer satisfaction. It makes it easy to see which channels are used most frequently and how satisfaction varies between them."
      ],
      "metadata": {
        "id": "5aaW0BYyYklI"
      }
    },
    {
      "cell_type": "markdown",
      "source": [
        "##### 2. What is/are the insight(s) found from the chart?"
      ],
      "metadata": {
        "id": "ijmpgYnKYklI"
      }
    },
    {
      "cell_type": "markdown",
      "source": [
        "1.  **Channel Volume:** Inbound is the channel with the highest number of customer interactions, significantly more than Outcall and Email. This suggests that customers primarily initiate contact through inbound methods.\n",
        "2.  **Average CSAT by Channel:** While Inbound handles the most volume, the average CSAT scores are relatively similar across Inbound and Outcall. Email has a slightly lower average CSAT compared to the other two channels.\n",
        "3.  **Outcall Efficiency:** Outcall, despite having fewer interactions, shows a slightly higher average CSAT than Inbound, which could indicate more targeted or effective communication in outbound scenarios.\n",
        "4.  **Email Performance:** The lower average CSAT for Email, combined with its low volume, might suggest issues with response times, clarity, or resolution quality in this channel."
      ],
      "metadata": {
        "id": "PSx9atu2YklI"
      }
    },
    {
      "cell_type": "markdown",
      "source": [
        "##### 3. Will the gained insights help creating a positive business impact?\n",
        "Are there any insights that lead to negative growth? Justify with specific reason."
      ],
      "metadata": {
        "id": "-JiQyfWJYklI"
      }
    },
    {
      "cell_type": "markdown",
      "source": [
        "**Positive Business Impact:**\n",
        "\n",
        "*   **Optimizing High-Volume Channels:** Recognizing that \"Inbound\" is the primary channel for customer contact allows for focused efforts on optimizing the efficiency and quality of service within this channel. This could involve ensuring adequate staffing, improving self-service options, or streamlining workflows to handle the high volume effectively.\n",
        "*   **Improving Lower-Performing Channels:** The lower average CSAT for \"Email\" suggests areas for improvement. Investigating the reasons behind this (e.g., response times, clarity of communication, resolution effectiveness) can lead to targeted interventions to boost satisfaction in this channel.\n",
        "*   **Leveraging Strengths:** The slightly higher CSAT for \"Outcall\" despite lower volume could be analyzed to understand what contributes to this higher satisfaction and potentially apply those learnings to other channels.\n",
        "\n",
        "**Insights that could lead to negative growth:**\n",
        "\n",
        "*   **Neglecting High-Volume Channels:** Failing to adequately manage the high volume in the \"Inbound\" channel could lead to increased wait times, frustrated customers, and a decline in overall satisfaction.\n",
        "*   **Ignoring Low CSAT Channels:** If the issues contributing to lower CSAT in the \"Email\" channel are not addressed, it could lead to a poor customer experience for those who prefer or are directed to this channel, potentially resulting in churn or negative reviews.\n",
        "*   **Misallocating Resources:** Without understanding the volume and satisfaction levels across channels, resources might be misallocated, leading to inefficiencies and suboptimal customer service.\n",
        "\n",
        "By using these insights to make data-driven decisions about channel strategy, businesses can improve customer satisfaction, optimize operations, and ultimately contribute to positive growth."
      ],
      "metadata": {
        "id": "BcBbebzrYklV"
      }
    },
    {
      "cell_type": "markdown",
      "source": [
        "#### Chart - 3"
      ],
      "metadata": {
        "id": "EM7whBJCYoAo"
      }
    },
    {
      "cell_type": "code",
      "source": [
        "# comparing CSAT score with with category\n",
        "\n",
        "fig, axes = plt.subplots(1, 2, figsize=(16,6))\n",
        "\n",
        "# Average CSAT per Category\n",
        "category_csat = data.groupby('category')['CSAT Score'].mean().reset_index()\n",
        "sns.barplot(x='CSAT Score', y='category', data=category_csat.sort_values('CSAT Score', ascending=False), ax=axes[0])\n",
        "axes[0].set_title('Average CSAT Score per Category')\n",
        "axes[0].set_xlim(0,5)\n",
        "\n",
        "# Number of Customer Issues per Category\n",
        "category_count = data['category'].value_counts().reset_index()\n",
        "category_count.columns = ['category', 'count']\n",
        "sns.barplot(x='count', y='category', data=category_count, ax=axes[1])\n",
        "axes[1].set_title('Number of Customer Issues per Category')\n",
        "\n",
        "plt.tight_layout()\n",
        "plt.show()\n",
        "\n"
      ],
      "metadata": {
        "id": "p9eHRlrRP5im",
        "colab": {
          "base_uri": "https://localhost:8080/",
          "height": 607
        },
        "outputId": "698840e8-c8ab-4320-dc2e-eb940391469c"
      },
      "execution_count": null,
      "outputs": [
        {
          "output_type": "display_data",
          "data": {
            "text/plain": [
              "<Figure size 1600x600 with 2 Axes>"
            ],
            "image/png": "[encoded data removed]"
          },
          "metadata": {}
        }
      ]
    },
    {
      "cell_type": "markdown",
      "source": [
        "##### 1. Why did you pick the specific chart?"
      ],
      "metadata": {
        "id": "fge-S5ZAYoAp"
      }
    },
    {
      "cell_type": "markdown",
      "source": [
        "I chose side-by-side bar charts to effectively visualize and compare two different metrics (Average CSAT Score and Number of Customer Issues) across the same categorical variable (Category). This allows for easy identification of categories with high or low CSAT and those with high or low issue volumes, and facilitates exploring potential relationships between issue type and customer satisfaction."
      ],
      "metadata": {
        "id": "5dBItgRVYoAp"
      }
    },
    {
      "cell_type": "markdown",
      "source": [
        "##### 2. What is/are the insight(s) found from the chart?"
      ],
      "metadata": {
        "id": "85gYPyotYoAp"
      }
    },
    {
      "cell_type": "markdown",
      "source": [
        "1.  **Issue Volume:** The \"Returns\" category has the highest number of customer issues, followed by \"Order Related.\" This indicates these are the most frequent reasons customers contact support.\n",
        "2.  **Average CSAT by Category:** While \"Returns\" and \"Order Related\" have high volume, their average CSAT scores are not the highest. Categories like \"App/website\", \"Onboarding related\", and \"Payments related\" have higher average CSAT scores, despite having much lower issue volumes.\n",
        "3.  **Potential Relationship:** The charts suggest that categories with higher issue volumes might have slightly lower average CSAT, possibly due to the strain on resources or complexity of common issues in those areas."
      ],
      "metadata": {
        "id": "4jstXR6OYoAp"
      }
    },
    {
      "cell_type": "markdown",
      "source": [
        "##### 3. Will the gained insights help creating a positive business impact?\n",
        "Are there any insights that lead to negative growth? Justify with specific reason."
      ],
      "metadata": {
        "id": "RoGjAbkUYoAp"
      }
    },
    {
      "cell_type": "markdown",
      "source": [
        "**Positive Business Impact:**\n",
        "\n",
        "* Targeted Resource Allocation: Focus resources on high-volume categories like \"Returns\" and \"Order Related\" to improve efficiency and CSAT.\n",
        "\n",
        "* Leverage High CSAT Categories: Learn from low-volume, high-CSAT categories (\"App/website,\" \"Onboarding,\" \"Payments\") to enhance practices across all areas.\n",
        "\n",
        "* Process Improvement: Address high-volume areas with slightly lower CSAT through better training, automation, or workflow optimization.\n",
        "\n",
        "* Enhanced Customer Experience: Efficient handling of frequent issues boosts satisfaction, loyalty, and reduces churn.\n",
        "\n",
        "**Insights that could lead to negative growth:**\n",
        "\n",
        "* Neglect High-Volume, Low-CSAT Areas: Ignoring issues in \"Returns\" or \"Order Related\" may harm satisfaction and brand reputation.\n",
        "\n",
        "* Overlook Low-Volume Issues: Even low-volume issues with poor CSAT can negatively affect niche customer segments.\n",
        "\n",
        "* Resource Strain: Insufficient resources in high-volume categories may increase response times, agent burnout, and decrease CSAT."
      ],
      "metadata": {
        "id": "zfJ8IqMcYoAp"
      }
    },
    {
      "cell_type": "markdown",
      "source": [
        "#### Chart - 4"
      ],
      "metadata": {
        "id": "4Of9eVA-YrdM"
      }
    },
    {
      "cell_type": "code",
      "source": [
        "# manager Performance\n",
        "# Prepare data\n",
        "manager_csat = data.groupby('Manager')['CSAT Score'].mean().reset_index().sort_values('CSAT Score', ascending=False)\n",
        "manager_count = data.groupby('Manager')['Unique id'].count().reset_index().rename(columns={'Unique id': 'issue_count'}).sort_values('issue_count', ascending=False)\n",
        "manager_response = data.groupby('Manager')['response_time_mins'].mean().reset_index().sort_values('response_time_mins', ascending=False)\n",
        "agents_per_manager = data.groupby('Manager')['Agent_name'].nunique().reset_index().rename(columns={'Agent_name': 'agent_count'}).sort_values('agent_count', ascending=False)\n",
        "\n",
        "# Set up 4 subplots\n",
        "fig, axes = plt.subplots(2, 2, figsize=(16,12))\n",
        "\n",
        "# 1. Average CSAT per Manager\n",
        "sns.barplot(x='CSAT Score', y='Manager', data=manager_csat, ax=axes[0,0], palette='viridis')\n",
        "axes[0,0].set_title('Average CSAT per Manager')\n",
        "\n",
        "# 2. Number of Issues per Manager\n",
        "sns.barplot(x='issue_count', y='Manager', data=manager_count, ax=axes[0,1], palette='magma')\n",
        "axes[0,1].set_title('Number of Issues per Manager')\n",
        "\n",
        "# 3. Average Response Time per Manager\n",
        "sns.barplot(x='response_time_mins', y='Manager', data=manager_response, ax=axes[1,0], palette='coolwarm')\n",
        "axes[1,0].set_title('Average Response Time per Manager (mins)')\n",
        "\n",
        "# 4. Number of Unique Agents per Manager\n",
        "sns.barplot(x='agent_count', y='Manager', data=agents_per_manager, ax=axes[1,1], palette='cividis')\n",
        "axes[1,1].set_title('Number of Agents per Manager')\n",
        "\n",
        "plt.tight_layout()\n",
        "plt.show()\n"
      ],
      "metadata": {
        "id": "SKr2WNXVSYJ-",
        "colab": {
          "base_uri": "https://localhost:8080/",
          "height": 1000
        },
        "outputId": "adf25606-44b0-4d39-80c5-5b63b2039bc3"
      },
      "execution_count": null,
      "outputs": [
        {
          "output_type": "display_data",
          "data": {
            "text/plain": [
              "<Figure size 1600x1200 with 4 Axes>"
            ],
            "image/png": "[encoded data removed]"
          },
          "metadata": {}
        }
      ]
    },
    {
      "cell_type": "markdown",
      "source": [
        "##### 1. Why did you pick the specific chart?"
      ],
      "metadata": {
        "id": "iky9q4vBYrdO"
      }
    },
    {
      "cell_type": "markdown",
      "source": [
        "I used multiple bar charts in a 2x2 grid to show how different aspects of manager performance (CSAT, issue count, response time, and number of agents) relate to each manager. This layout makes it easy to compare managers side-by-side across these key metrics."
      ],
      "metadata": {
        "id": "aJRCwT6DYrdO"
      }
    },
    {
      "cell_type": "markdown",
      "source": [
        "##### 2. What is/are the insight(s) found from the chart?"
      ],
      "metadata": {
        "id": "F6T5p64dYrdO"
      }
    },
    {
      "cell_type": "markdown",
      "source": [
        "* Emily Chen’s High CSAT: Her team achieves the highest average CSAT despite handling fewer issues, reflecting strong service quality.\n",
        "\n",
        "* John Smith & Michael Lee – High Volume: Their teams handle the most issues with slightly lower, but still strong, CSAT, showing effective high-volume management.\n",
        "\n",
        "* Response Time Differences: Olivia Tan’s team has the longest average response time, which may need investigation, though CSAT is not the lowest.\n",
        "\n",
        "* Agent Distribution Impact: Variation in team size may influence issue handling, response times, and CSAT outcomes"
      ],
      "metadata": {
        "id": "Xx8WAJvtYrdO"
      }
    },
    {
      "cell_type": "markdown",
      "source": [
        "##### 3. Will the gained insights help creating a positive business impact?\n",
        "Are there any insights that lead to negative growth? Justify with specific reason."
      ],
      "metadata": {
        "id": "y-Ehk30pYrdP"
      }
    },
    {
      "cell_type": "markdown",
      "source": [
        "**Positive Business Impact:**\n",
        "\n",
        "*   **Targeted Training and Support:** Lower CSAT in the \"On Job Training\" bucket suggests newer agents need additional guidance to improve service quality.\n",
        "*   **Leveraging Experienced Agents:** High CSAT in the \"61-90\" and \">90\" day buckets highlights the value of experienced agents for mentoring and handling complex issues.\n",
        "*   **Optimizing Agent Placement:** CSAT by tenure can guide assigning agents to cases based on experience to maximize satisfaction.\n",
        "*   **Improved Agent Retention:** Supporting newer agents boosts confidence, performance, and retention.\n",
        "\n",
        "**Insights that could lead to negative growth :**\n",
        "\n",
        "*   **Higher Dissatisfaction from New Agents:** Ignoring training needs for newer agents may reduce satisfaction and harm brand reputation.\n",
        "*   **Underutilization of Experienced Agents:** Not leveraging seasoned agents for complex cases or mentoring may limit potential CSAT gains.\n",
        "*   **Agent Burnout:** Imbalanced workloads, especially for newer agents, can lead to fatigue and higher attrition.\n",
        "\n",
        "**Focusing on training newer agents and effectively using experienced agents improves CSAT and efficiency, while neglecting these areas risks customer dissatisfaction and negative business impact.**"
      ],
      "metadata": {
        "id": "jLNxxz7MYrdP"
      }
    },
    {
      "cell_type": "markdown",
      "source": [
        "#### Chart - 5"
      ],
      "metadata": {
        "id": "bamQiAODYuh1"
      }
    },
    {
      "cell_type": "code",
      "source": [
        "# make order of experience\n",
        "experience_order = ['0-30','31-60','61-90','>90','On Job Training']\n",
        "\n",
        "# Prepare data\n",
        "tenure_csat = data.groupby('Tenure Bucket')['CSAT Score'].mean().reset_index()\n",
        "tenure_csat['Tenure Bucket'] = pd.Categorical(tenure_csat['Tenure Bucket'], categories=experience_order, ordered=True)\n",
        "tenure_csat = tenure_csat.sort_values('Tenure Bucket')\n",
        "tenure_count = data.groupby('Tenure Bucket')['Agent_name'].nunique().reset_index()\n",
        "tenure_count['Tenure Bucket'] = pd.Categorical(tenure_count['Tenure Bucket'], categories=experience_order, ordered=True)\n",
        "tenure_count = tenure_count.sort_values('Tenure Bucket')\n",
        "\n",
        "# Create subplots\n",
        "fig, axes = plt.subplots(1, 2, figsize=(15,6))\n",
        "\n",
        "# Plot Average CSAT\n",
        "sns.barplot(x='Tenure Bucket', y='CSAT Score', data=tenure_csat, ax=axes[0], color='red')\n",
        "axes[0].set_title('Average CSAT by experience')\n",
        "axes[0].set_xlabel('Experience (days)')\n",
        "axes[0].set_ylabel('Average CSAT Score')\n",
        "axes[0].set_ylim(0,5)\n",
        "\n",
        "# Plot Number of Agents\n",
        "sns.barplot(x='Tenure Bucket', y='Agent_name', data=tenure_count, ax=axes[1], color='green')\n",
        "axes[1].set_title('Number of Agents by experience')\n",
        "axes[1].set_xlabel('Experience (days)')\n",
        "axes[1].set_ylabel('Number of Agents')\n",
        "\n",
        "plt.tight_layout()\n",
        "plt.show()\n"
      ],
      "metadata": {
        "colab": {
          "base_uri": "https://localhost:8080/",
          "height": 607
        },
        "id": "veivXzU7cZ9C",
        "outputId": "7c615841-8af6-4a27-dd1f-8583334f8cb3"
      },
      "execution_count": null,
      "outputs": [
        {
          "output_type": "display_data",
          "data": {
            "text/plain": [
              "<Figure size 1500x600 with 2 Axes>"
            ],
            "image/png": "[encoded data removed]"
          },
          "metadata": {}
        }
      ]
    },
    {
      "cell_type": "markdown",
      "source": [
        "##### 1. Why did you pick the specific chart?"
      ],
      "metadata": {
        "id": "QHF8YVU7Yuh3"
      }
    },
    {
      "cell_type": "markdown",
      "source": [
        "1. Clear Comparison Across Categories: Separate bar plots make it easy to compare average CSAT and agent counts across different experience levels.\n",
        "\n",
        "Highlighting Different Metrics: Each plot focuses on one metric, showing clearly how CSAT or agent distribution varies by experience.\n",
        "\n",
        "Side-by-Side Analysis: Placing the plots together allows quick visual comparison, revealing potential relationships between experience and CSAT or agent numbers.\n",
        "\n",
        "Simplicity and Readability: The approach is straightforward, making insights about experience, satisfaction, and agent distribution easy to understand."
      ],
      "metadata": {
        "id": "dcxuIMRPYuh3"
      }
    },
    {
      "cell_type": "markdown",
      "source": [
        "##### 2. What is/are the insight(s) found from the chart?"
      ],
      "metadata": {
        "id": "GwzvFGzlYuh3"
      }
    },
    {
      "cell_type": "markdown",
      "source": [
        "1. CSAT Trends: Average CSAT is high across all experience buckets, peaking at 61-90 days and lowest for On Job Training.\n",
        "\n",
        "2. Agent Distribution: Most agents are in >90 days and On Job Training, with fewer in 61-90 days despite higher CSAT.\n",
        "\n",
        "3. Insight: Experienced agents tend to have slightly higher satisfaction, but overall CSAT is strong across all experience levels."
      ],
      "metadata": {
        "id": "uyqkiB8YYuh3"
      }
    },
    {
      "cell_type": "markdown",
      "source": [
        "##### 3. Will the gained insights help creating a positive business impact?\n",
        "Are there any insights that lead to negative growth? Justify with specific reason."
      ],
      "metadata": {
        "id": "qYpmQ266Yuh3"
      }
    },
    {
      "cell_type": "markdown",
      "source": [
        "**Positive Business Impact:**\n",
        "\n",
        "* Targeted Training and Support: Lower CSAT in the \"On Job Training\" bucket suggests newer agents need additional guidance to improve service quality.\n",
        "\n",
        "* Leveraging Experienced Agents: High CSAT in the \"61-90\" and \">90\" day buckets highlights the value of experienced agents for mentoring and handling complex issues.\n",
        "\n",
        "* Optimizing Agent Placement: CSAT by tenure can guide assigning agents to cases based on experience to maximize satisfaction.\n",
        "\n",
        "* Improved Agent Retention: Supporting newer agents boosts confidence, performance, and retention.\n",
        "\n",
        "**Insights that could lead to negative growth :**\n",
        "\n",
        "* Higher Dissatisfaction from New Agents: Ignoring training needs for newer agents may reduce satisfaction and harm brand reputation.\n",
        "\n",
        "* Underutilization of Experienced Agents: Not leveraging seasoned agents for complex cases or mentoring may limit potential CSAT gains.\n",
        "\n",
        "* Agent Burnout: Imbalanced workloads, especially for newer agents, can lead to fatigue and higher attrition.\n",
        "\n",
        "**Focusing on training newer agents and effectively using experienced agents improves CSAT and efficiency, while neglecting these areas risks customer dissatisfaction and negative business impact.**"
      ],
      "metadata": {
        "id": "_WtzZ_hCYuh4"
      }
    },
    {
      "cell_type": "markdown",
      "source": [
        "#### Chart - 6"
      ],
      "metadata": {
        "id": "OH-pJp9IphqM"
      }
    },
    {
      "cell_type": "code",
      "source": [
        "# 1. Count of reports per shift\n",
        "shift_count = data['Agent Shift'].value_counts().reset_index()\n",
        "shift_count.columns = ['Agent Shift', 'Report Count']\n",
        "\n",
        "# 2. Average CSAT per shift\n",
        "shift_csat = data.groupby('Agent Shift')['CSAT Score'].mean().reset_index()\n",
        "\n",
        "# 3. Average response time per shift\n",
        "shift_response = data.groupby('Agent Shift')['response_time_mins'].mean().reset_index()\n",
        "\n",
        "# Plotting\n",
        "fig, axes = plt.subplots(1, 3, figsize=(18,5))\n",
        "\n",
        "# Shift vs Report Count (Red)\n",
        "sns.barplot(x='Agent Shift', y='Report Count',\n",
        "            data=shift_count.sort_values('Report Count', ascending=False),\n",
        "            ax=axes[0], color='red')\n",
        "axes[0].set_title('Shift vs Report Count')\n",
        "\n",
        "# Shift vs CSAT Score (Green)\n",
        "sns.barplot(x='Agent Shift', y='CSAT Score',\n",
        "            data=shift_csat.sort_values('CSAT Score', ascending=False),\n",
        "            ax=axes[1], color='green')\n",
        "axes[1].set_title('Shift vs Average CSAT')\n",
        "\n",
        "# Shift vs Response Time (Blue)\n",
        "sns.barplot(x='Agent Shift', y='response_time_mins',\n",
        "            data=shift_response.sort_values('response_time_mins', ascending=False),\n",
        "            ax=axes[2], color='yellow')\n",
        "axes[2].set_title('Shift vs Avg Response Time (mins)')\n",
        "\n",
        "plt.tight_layout()\n",
        "plt.show()\n",
        "\n"
      ],
      "metadata": {
        "id": "DYjJC6HHh5KL",
        "colab": {
          "base_uri": "https://localhost:8080/",
          "height": 507
        },
        "outputId": "7b4cd79b-4e8e-41f2-c118-129014d46423"
      },
      "execution_count": null,
      "outputs": [
        {
          "output_type": "display_data",
          "data": {
            "text/plain": [
              "<Figure size 1800x500 with 3 Axes>"
            ],
            "image/png": "[encoded data removed]"
          },
          "metadata": {}
        }
      ]
    },
    {
      "cell_type": "markdown",
      "source": [
        "##### 1. Why did you pick the specific chart?"
      ],
      "metadata": {
        "id": "bbFf2-_FphqN"
      }
    },
    {
      "cell_type": "markdown",
      "source": [
        "1. Clear Comparison Across Categories: Separate bar plots make it easy to compare counts and averages across different Agent Shifts without clutter.\n",
        "\n",
        "2. Highlighting Different Metrics: Each plot focuses on one metric—Report Count, Average CSAT, or Average Response Time—allowing independent analysis of shift performance.\n",
        "\n",
        "3. Side-by-Side Analysis: Arranging the plots together helps identify trends, such as whether shifts with higher report counts also have lower CSAT or longer response times.\n",
        "\n",
        "4. Simplicity and Readability: This approach is straightforward and makes performance differences by shift immediately clear"
      ],
      "metadata": {
        "id": "loh7H2nzphqN"
      }
    },
    {
      "cell_type": "markdown",
      "source": [
        "##### 2. What is/are the insight(s) found from the chart?"
      ],
      "metadata": {
        "id": "_ouA3fa0phqN"
      }
    },
    {
      "cell_type": "markdown",
      "source": [
        "1. High Volume Shifts: Morning and Evening handle the majority of reports.\n",
        "\n",
        "2. Low Volume Shifts: Split and Night shifts have fewer reports.\n",
        "\n",
        "3. CSAT Differences: Split shift has the highest average CSAT, followed by Afternoon and Night; Morning and Evening are slightly lower.\n",
        "\n",
        "4. Response Time Variation: Afternoon and Night shifts have longer response times, Morning and Evening are faster, and Split is moderate.\n",
        "\n",
        "**Busiest shifts have slightly lower CSAT but faster responses, while lower-volume shifts achieve higher CSAT with longer response times, indicating a trade-off between volume, speed, and satisfaction.**"
      ],
      "metadata": {
        "id": "VECbqPI7phqN"
      }
    },
    {
      "cell_type": "markdown",
      "source": [
        "##### 3. Will the gained insights help creating a positive business impact?\n",
        "Are there any insights that lead to negative growth? Justify with specific reason."
      ],
      "metadata": {
        "id": "Seke61FWphqN"
      }
    },
    {
      "cell_type": "markdown",
      "source": [
        "**Positive Business Impact:**\n",
        "\n",
        "* Optimized Staffing: Understanding high-volume shifts (Morning and Evening) helps allocate more agents to manage workload and maintain service quality.\n",
        "\n",
        "* Targeted Performance Improvement: Comparing CSAT and response times highlights underperforming shifts, guiding training or workflow improvements.\n",
        "\n",
        "* Resource Allocation: Insights can inform allocation of supervisors and specialized support during critical shifts.\n",
        "\n",
        "* Improved Agent Satisfaction: Balancing workload and providing targeted support can reduce burnout and enhance customer interactions.\n",
        "\n",
        "**Insights that could lead to negative growth :**\n",
        "\n",
        "* Dissatisfaction During Peak Times: Poorly managed Morning and Evening shifts can increase wait times and lower CSAT, risking customer churn.\n",
        "\n",
        "* Neglecting Lower Volume Shifts: Long response times in Afternoon and Night shifts can negatively affect customers needing support during these hours.\n",
        "\n",
        "* Unaddressed Performance Gaps: Ignoring shifts with lower CSAT or longer response times can reduce overall service quality and damage reputation.\n",
        "\n",
        "* Agent Attrition: Uneven workload and lack of support may lead to higher agent turnover and increased recruitment/training costs.\n",
        "\n",
        "**Analyzing shift performance helps optimize operations, improve service quality, and ensure customer satisfaction. Ignoring discrepancies can harm both customer experience and business growth.**"
      ],
      "metadata": {
        "id": "DW4_bGpfphqN"
      }
    },
    {
      "cell_type": "markdown",
      "source": [
        "#### Chart - 7"
      ],
      "metadata": {
        "id": "PIIx-8_IphqN"
      }
    },
    {
      "cell_type": "code",
      "source": [
        "# DIVIDE RESPONSE TIME INTO GROUPS\n",
        "\n",
        "def response_time_group(rt):\n",
        "    if rt <= 5:\n",
        "        return '0-5'\n",
        "    elif rt <= 15:\n",
        "        return '6-15'\n",
        "    elif rt <= 30:\n",
        "        return '16-30'\n",
        "    elif rt <= 60:\n",
        "        return '31-60'\n",
        "    elif rt <= 120:\n",
        "        return '61-120'\n",
        "    elif rt <= 240:\n",
        "        return '121-240'\n",
        "    elif rt <= 480:\n",
        "        return '241-480'\n",
        "    elif rt <= 960:\n",
        "        return '481-960'\n",
        "    else:\n",
        "        return '961+'\n",
        "\n",
        "# Apply the function to the response_time_mins column\n",
        "data['response_time_group'] = data['response_time_mins'].apply(response_time_group)\n"
      ],
      "metadata": {
        "id": "pf7vMxRMoIOc"
      },
      "execution_count": null,
      "outputs": []
    },
    {
      "cell_type": "code",
      "source": [
        "# Define the order of response time groups\n",
        "group_order = ['0-5','6-15','16-30','31-60','61-120',\n",
        "               '121-240','241-480','481-960','961+']\n",
        "\n",
        "# Group stats\n",
        "resp_stats = data.groupby('response_time_group').agg(avg_csat=('CSAT Score', 'mean'),issue_count=('response_time_group', 'size')).reset_index()\n",
        "\n",
        "# Convert to categorical and sort\n",
        "resp_stats['response_time_group'] = pd.Categorical(resp_stats['response_time_group'],categories=group_order,ordered=True)\n",
        "resp_stats = resp_stats.sort_values('response_time_group')\n",
        "\n",
        "\n",
        "fig, ax1 = plt.subplots(figsize=(10,6))\n",
        "\n",
        "# Bar plot for issue counts\n",
        "ax1.bar(resp_stats['response_time_group'], resp_stats['issue_count'],\n",
        "        color='red', alpha=0.6, label=\"Issue Count\")\n",
        "ax1.set_xlabel(\"Response Time Group (minutes)\")\n",
        "ax1.set_ylabel(\"Issue Count\", color='red')\n",
        "ax1.tick_params(axis='y', labelcolor='red')\n",
        "\n",
        "# Secondary axis for CSAT line chart\n",
        "ax2 = ax1.twinx()\n",
        "ax2.plot(resp_stats['response_time_group'], resp_stats['avg_csat'],\n",
        "         marker='o', color='green', linewidth=2, label=\"Avg CSAT\")\n",
        "ax2.set_ylabel(\"Average CSAT Score\", color='green')\n",
        "ax2.tick_params(axis='y', labelcolor='green')\n",
        "ax2.set_ylim(0,5)\n",
        "\n",
        "# Title\n",
        "plt.title(\"CSAT vs Response Time Group with Issue Volume\")\n",
        "fig.tight_layout()\n",
        "plt.show()\n"
      ],
      "metadata": {
        "colab": {
          "base_uri": "https://localhost:8080/",
          "height": 607
        },
        "id": "mkXRtsqbYKcX",
        "outputId": "6613b7a4-ceab-4b5f-8f03-69b5f1125040"
      },
      "execution_count": null,
      "outputs": [
        {
          "output_type": "display_data",
          "data": {
            "text/plain": [
              "<Figure size 1000x600 with 2 Axes>"
            ],
            "image/png": "[encoded data removed]"
          },
          "metadata": {}
        }
      ]
    },
    {
      "cell_type": "markdown",
      "source": [
        "##### 1. Why did you pick the specific chart?"
      ],
      "metadata": {
        "id": "t27r6nlMphqO"
      }
    },
    {
      "cell_type": "markdown",
      "source": [
        "1. Compare Different Scales: Dual y-axes let you plot issue counts and CSAT scores together without one metric overpowering the other.\n",
        "\n",
        "2. Identify Trends: Bars show issue distribution, while the line highlights how average CSAT changes with response time.\n",
        "\n",
        "3. Overall Insight: Combines volume and satisfaction in one chart, making it easy to see correlations between response speed, issue volume, and customer satisfaction."
      ],
      "metadata": {
        "id": "iv6ro40sphqO"
      }
    },
    {
      "cell_type": "markdown",
      "source": [
        "##### 2. What is/are the insight(s) found from the chart?"
      ],
      "metadata": {
        "id": "r2jJGEOYphqO"
      }
    },
    {
      "cell_type": "markdown",
      "source": [
        "* Faster Response, Higher CSAT: The ‘0-5’ minute group has the highest average CSAT, showing quicker responses boost satisfaction.\n",
        "\n",
        "* High Volume in Fast Responses: Most issues occur in the ‘0-5’ and ‘6-15’ minute groups.\n",
        "\n",
        "* Lower CSAT for Delays: Longer response times (e.g., ‘241-480’, ‘481-960’, ‘961+’) have noticeably lower average CSAT.\n",
        "\n",
        "* Moderate CSAT at Mid Response Times: ‘6-15’ and ‘16-30’ minute groups have substantial volume with slightly lower satisfaction.\n",
        "\n",
        "**Quick responses drive higher customer satisfaction, while delays negatively impact CSAT, emphasizing the need to minimize response times.**"
      ],
      "metadata": {
        "id": "Po6ZPi4hphqO"
      }
    },
    {
      "cell_type": "markdown",
      "source": [
        "##### 3. Will the gained insights help creating a positive business impact?\n",
        "Are there any insights that lead to negative growth? Justify with specific reason."
      ],
      "metadata": {
        "id": "b0JNsNcRphqO"
      }
    },
    {
      "cell_type": "markdown",
      "source": [
        "**Positive Business Impact:**\n",
        "\n",
        "* Direct Improvement of Customer Satisfaction: Faster response times correlate with higher average CSAT, especially in high-volume groups like ‘0-5’ and ‘6-15’ minutes. Prioritizing speed can directly boost satisfaction.\n",
        "\n",
        "* Optimized Resource Allocation: Knowing where most issues occur allows businesses to allocate more agents and tools to high-volume groups, maintaining quick responses during peak times.\n",
        "\n",
        "* Targeted Process Improvement: Lower CSAT in longer response time groups highlights process inefficiencies or bottlenecks, guiding workflow improvements to reduce delays.\n",
        "\n",
        "* Enhanced Agent Training: Identifying issue types with longer response times and lower CSAT can help design focused training for agents to handle these cases more efficiently.\n",
        "\n",
        "**Insights that could lead to negative growth :**\n",
        "\n",
        "* Increased Churn from Delays: Longer response times with lower CSAT can cause dissatisfied customers to leave.\n",
        "\n",
        "* Negative Word-of-Mouth: Poor experiences from slow responses can harm the brand reputation and hinder new customer acquisition.\n",
        "\n",
        "* Inefficient Operations: Unresolved delays indicate operational inefficiencies, increasing service costs and impacting overall performance.\n",
        "\n",
        "**Chart the link between speed, volume, and satisfaction. Acting on these insights prioritizing fast responses, addressing delays, and optimizing resources can improve customer experience and drive growth. Ignoring slower response issues risks dissatisfaction, churn, and negative business impact**"
      ],
      "metadata": {
        "id": "xvSq8iUTphqO"
      }
    },
    {
      "cell_type": "markdown",
      "source": [
        "#### Chart - 8"
      ],
      "metadata": {
        "id": "BZR9WyysphqO"
      }
    },
    {
      "cell_type": "code",
      "source": [
        "# order for response_time_group\n",
        "order = ['0-5', '6-15', '16-30', '31-60', '61-120', '121-240', '241-480', '481-960']\n",
        "\n",
        "# make data\n",
        "csat_dist = data.groupby(['response_time_group', 'CSAT Score']).size().reset_index(name='count')\n",
        "\n",
        "# define order\n",
        "csat_dist['response_time_group'] = pd.Categorical(csat_dist['response_time_group'],categories=order,ordered=True)\n",
        "\n",
        "plt.figure(figsize=(10,6))\n",
        "sns.barplot(x='response_time_group',y='count',hue='CSAT Score',data=csat_dist,palette='viridis')\n",
        "plt.title(\"CSAT Distribution by Response Time Group\")\n",
        "plt.xlabel(\"Response Time Group (minutes)\")\n",
        "plt.ylabel(\"Number of Issues\")\n",
        "plt.legend(title=\"CSAT Score\")\n",
        "plt.show()\n"
      ],
      "metadata": {
        "colab": {
          "base_uri": "https://localhost:8080/",
          "height": 564
        },
        "id": "RpkFjvDXV3-D",
        "outputId": "a0f9e7b2-e719-4ba7-8dc5-cf5228d17714"
      },
      "execution_count": null,
      "outputs": [
        {
          "output_type": "display_data",
          "data": {
            "text/plain": [
              "<Figure size 1000x600 with 1 Axes>"
            ],
            "image/png": "[encoded data removed]"
          },
          "metadata": {}
        }
      ]
    },
    {
      "cell_type": "markdown",
      "source": [
        "##### 1. Why did you pick the specific chart?"
      ],
      "metadata": {
        "id": "jj7wYXLtphqO"
      }
    },
    {
      "cell_type": "markdown",
      "source": [
        "I chose a grouped bar chart because it effectively shows the distribution of CSAT Scores across different Response Time Groups. This makes it easy to compare how customer satisfaction varies with response time, highlighting which groups have higher proportions of satisfied customers (CSAT 4–5) versus dissatisfied customers (CSAT 1–3)"
      ],
      "metadata": {
        "id": "Ob8u6rCTphqO"
      }
    },
    {
      "cell_type": "markdown",
      "source": [
        "##### 2. What is/are the insight(s) found from the chart?"
      ],
      "metadata": {
        "id": "eZrbJ2SmphqO"
      }
    },
    {
      "cell_type": "markdown",
      "source": [
        "1. Faster Response = Higher CSAT: Response times in 0-5 and 6-15 minutes show a higher proportion of satisfied customers (CSAT 4–5).\n",
        "\n",
        "2. Longer Response = More Dissatisfaction: As response times increase (481-960 minutes and above), lower CSAT scores (1–3) become more frequent.\n",
        "\n",
        "3. High CSAT Dominance: CSAT 5 remains the most frequent across all groups, though slower responses slightly increase lower scores.\n",
        "\n",
        "4. Volume & Satisfaction: High-volume response groups still maintain high satisfaction, indicating that quick handling drives positive CSAT.\n",
        "\n",
        "**Summary: Faster responses clearly correlate with higher customer satisfaction, while delays increase the likelihood of lower CSAT scores.**"
      ],
      "metadata": {
        "id": "mZtgC_hjphqO"
      }
    },
    {
      "cell_type": "markdown",
      "source": [
        "##### 3. Will the gained insights help creating a positive business impact?\n",
        "Are there any insights that lead to negative growth? Justify with specific reason."
      ],
      "metadata": {
        "id": "rFu4xreNphqO"
      }
    },
    {
      "cell_type": "markdown",
      "source": [
        "**Positive Business Impact:**\n",
        "\n",
        "* Prioritize Fast Responses: Faster response times drive higher CSAT, so quick initial handling should be a priority.\n",
        "\n",
        "* Identify Bottlenecks: Longer response times highlight process delays, enabling targeted workflow improvements.\n",
        "\n",
        "* Set Performance Goals: Use insights to define response time targets for agents and teams.\n",
        "\n",
        "* Boost Customer Loyalty: Quick, efficient issue resolution fosters positive experiences and repeat business.\n",
        "\n",
        "**Insights that could lead to negative growth :**\n",
        "\n",
        "* Dissatisfaction from Delays: Slow responses increase low CSAT scores, leading to churn and negative reviews.\n",
        "\n",
        "* Brand Reputation Damage: Poor experiences can spread quickly online, affecting new customer acquisition.\n",
        "\n",
        "* Inefficient Resource Allocation: Without proper staffing, long response times create backlogs and dissatisfaction.\n",
        "\n",
        "**Summary: Reducing response times, especially in high-volume areas, improves satisfaction and loyalty. Ignoring delays risks customer dissatisfaction and negative business impact.**"
      ],
      "metadata": {
        "id": "ey_0qi68phqO"
      }
    },
    {
      "cell_type": "markdown",
      "source": [
        "#### Chart - 9"
      ],
      "metadata": {
        "id": "YJ55k-q6phqO"
      }
    },
    {
      "cell_type": "code",
      "source": [
        "# Define the desired order for response_time_group. make order for the x axis\n",
        "order = ['0-5', '6-15', '16-30', '31-60', '61-120', '121-240', '241-480', '481-960']\n",
        "\n",
        "# data for the graph\n",
        "resp_channel = data.groupby(['response_time_group', 'channel_name']).size().reset_index(name='count')\n",
        "\n",
        "# specify thr order order\n",
        "resp_channel['response_time_group'] = pd.Categorical(resp_channel['response_time_group'],categories=order,ordered=True)\n",
        "\n",
        "\n",
        "plt.figure(figsize=(10,6))\n",
        "sns.barplot(x='response_time_group',y='count',hue='channel_name',data=resp_channel)\n",
        "plt.title(\"Issues by Response Time (min) and channel_name\")\n",
        "plt.xlabel(\"Response Time (minutes)\")\n",
        "plt.ylabel(\"Number of Issues\")\n",
        "plt.legend(title=\"channel_name\")\n",
        "plt.show()\n",
        "\n",
        "\n"
      ],
      "metadata": {
        "colab": {
          "base_uri": "https://localhost:8080/",
          "height": 564
        },
        "id": "bG_ROzLbPSY-",
        "outputId": "1c4b6037-0690-4688-8ca1-c5871263b1fd"
      },
      "execution_count": null,
      "outputs": [
        {
          "output_type": "display_data",
          "data": {
            "text/plain": [
              "<Figure size 1000x600 with 1 Axes>"
            ],
            "image/png": "[encoded data removed]"
          },
          "metadata": {}
        }
      ]
    },
    {
      "cell_type": "markdown",
      "source": [
        "##### 1. Why did you pick the specific chart?"
      ],
      "metadata": {
        "id": "gCFgpxoyphqP"
      }
    },
    {
      "cell_type": "markdown",
      "source": [
        "A grouped bar chart was chosen because it clearly compares issue counts across two categorical variables **response_time_group** and **channel_name**. It makes it easy to see patterns and differences between channels for each response time group"
      ],
      "metadata": {
        "id": "TVxDimi2phqP"
      }
    },
    {
      "cell_type": "markdown",
      "source": [
        "##### 2. What is/are the insight(s) found from the chart?"
      ],
      "metadata": {
        "id": "OVtJsKN_phqQ"
      }
    },
    {
      "cell_type": "markdown",
      "source": [
        "* Inbound Dominance: Most issues come through Inbound across all response times, especially 0–15 minutes.\n",
        "\n",
        "* Outcall & Email: Outcall has moderate volume; Email has the lowest.\n",
        "\n",
        "* Response Times: Majority of issues for all channels are resolved quickly, though some take longer.\n",
        "\n",
        " Inbound is the main channel, most issues are resolved fast, and Email sees minimal volume."
      ],
      "metadata": {
        "id": "ngGi97qjphqQ"
      }
    },
    {
      "cell_type": "markdown",
      "source": [
        "##### 3. Will the gained insights help creating a positive business impact?\n",
        "Are there any insights that lead to negative growth? Justify with specific reason."
      ],
      "metadata": {
        "id": "lssrdh5qphqQ"
      }
    },
    {
      "cell_type": "markdown",
      "source": [
        "**Positive Business Impact:**\n",
        "\n",
        "* Optimize Channels: Focus resources on high-volume channels like Inbound for efficiency.\n",
        "\n",
        "* Improve Response: Identify bottlenecks and streamline workflows.\n",
        "\n",
        "* Targeted Training: Use response time and CSAT insights to train agents.\n",
        "\n",
        "* Resource Allocation: Assign agents based on issue distribution and peak times.\n",
        "\n",
        "**Insights that could lead to negative growth :**\n",
        "\n",
        "* Delays in high-volume channels (Inbound) can impact many customers.\n",
        "\n",
        "* Neglecting low-volume channels (Email) may hurt niche customer segments.\n",
        "\n",
        "* Long response times across channels can cause frustration and churn.\n",
        "\n",
        "leveraging these insights improves operations and customer satisfaction; ignoring them risks dissatisfaction and growth loss."
      ],
      "metadata": {
        "id": "tBpY5ekJphqQ"
      }
    },
    {
      "cell_type": "markdown",
      "source": [
        "#### Chart - 10"
      ],
      "metadata": {
        "id": "U2RJ9gkRphqQ"
      }
    },
    {
      "cell_type": "code",
      "source": [
        "# Chart - 10 visualization code\n",
        "\n",
        "# Create a pivot table: rows = day of week, columns = hour, values = count of reports\n",
        "\n",
        "hourly_heatmap = data.pivot_table(index='issue_day_name',columns='issue_hour',values='Unique id',aggfunc='count')\n",
        "\n",
        "# sort days in order\n",
        "days_order = ['Monday','Tuesday','Wednesday','Thursday','Friday','Saturday','Sunday']\n",
        "hourly_heatmap = hourly_heatmap.reindex(days_order)\n",
        "\n",
        "# Plot the heatmap\n",
        "plt.figure(figsize=(15,6))\n",
        "sns.heatmap(hourly_heatmap, annot=True, fmt='.0f', cmap='YlGnBu', linewidths=0.5)\n",
        "plt.title(\"Heatmap of Number of Reports by Hour and Day\")\n",
        "plt.xlabel(\"Hour of Day\")\n",
        "plt.ylabel(\"Day of Week\")\n",
        "plt.show()\n",
        "\n"
      ],
      "metadata": {
        "id": "YdAD4Beby_XV",
        "colab": {
          "base_uri": "https://localhost:8080/",
          "height": 564
        },
        "outputId": "06ae450d-f4f6-4f7e-c554-0facb4f57955"
      },
      "execution_count": null,
      "outputs": [
        {
          "output_type": "display_data",
          "data": {
            "text/plain": [
              "<Figure size 1500x600 with 2 Axes>"
            ],
            "image/png": "[encoded data removed]"
          },
          "metadata": {}
        }
      ]
    },
    {
      "cell_type": "markdown",
      "source": [
        "##### 1. Why did you pick the specific chart?"
      ],
      "metadata": {
        "id": "1M8mcRywphqQ"
      }
    },
    {
      "cell_type": "markdown",
      "source": [
        "I chose a heatmap  because it's an excellent way to visualize the relationship between two categorical variables (day of the week and hour of the day) and a quantitative variable (the number of reports). The color intensity makes it easy to spot patterns, like peak times or days for customer issues."
      ],
      "metadata": {
        "id": "8agQvks0phqQ"
      }
    },
    {
      "cell_type": "markdown",
      "source": [
        "##### 2. What is/are the insight(s) found from the chart?"
      ],
      "metadata": {
        "id": "tgIPom80phqQ"
      }
    },
    {
      "cell_type": "markdown",
      "source": [
        "1. Peak Hours: The heatmap clearly shows that certain hours have a significantly higher number of reports than others. You can identify the specific hours of the day with the most intense colors.\n",
        "2. Peak Days: Similarly, you can see which days of the week tend to have more reports overall.\n",
        "3. Hourly Patterns by Day: The heatmap also allows you to see if the peak hours are consistent across all days or if there are variations. For example, weekdays might have different peak times compared to weekends.\n",
        "4. Low Activity Periods: Conversely, the heatmap highlights times with very low report volume, indicated by lighter colors."
      ],
      "metadata": {
        "id": "Qp13pnNzphqQ"
      }
    },
    {
      "cell_type": "markdown",
      "source": [
        "##### 3. Will the gained insights help creating a positive business impact?\n",
        "Are there any insights that lead to negative growth? Justify with specific reason."
      ],
      "metadata": {
        "id": "JMzcOPDDphqR"
      }
    },
    {
      "cell_type": "markdown",
      "source": [
        "**By identifying the peak hours and days for customer reports, businesses can:**\n",
        "\n",
        "* Optimize Staffing: Allocate more agents during high-volume periods to reduce response times and improve customer satisfaction.\n",
        "Improve Resource Allocation: Ensure that the necessary resources (like specific support teams or technical staff) are available when they are most needed.\n",
        "* Proactive Planning: Anticipate busy periods and prepare accordingly, potentially reducing stress on agents and improving efficiency.\n",
        "\n",
        "**There aren't necessarily insights that directly lead to \"negative growth\" from this chart, but failing to act on these insights could indirectly lead to negative outcomes, such as:**\n",
        "\n",
        "* Increased Customer Frustration: If staffing isn't adjusted for peak times, customers may experience longer wait times, leading to lower CSAT scores.\n",
        "Agent Burnout: Overworked agents during busy periods can lead to decreased quality of service and higher agent turnover.\n",
        "* Missed Opportunities: Not being adequately staffed during peak sales periods could lead to missed opportunities for resolving pre-sales queries and converting customers.\n",
        "\n",
        "So, while the chart itself doesn't show negative growth, the insights it provides are crucial for avoiding potential negative impacts by allowing for better operational planning."
      ],
      "metadata": {
        "id": "R4Ka1PC2phqR"
      }
    },
    {
      "cell_type": "markdown",
      "source": [
        "## ***5. Hypothesis Testing***"
      ],
      "metadata": {
        "id": "g-ATYxFrGrvw"
      }
    },
    {
      "cell_type": "markdown",
      "source": [
        "### Based on your chart experiments, define three hypothetical statements from the dataset. In the next three questions, perform hypothesis testing to obtain final conclusion about the statements through your code and statistical testing."
      ],
      "metadata": {
        "id": "Yfr_Vlr8HBkt"
      }
    },
    {
      "cell_type": "markdown",
      "source": [
        "Based on the chart experiments, here are three hypothetical statements from the dataset:\n",
        "\n",
        "1.  **Hypothesis 1 (Channels):** There is a significant difference in the average CSAT scores across different communication channels (Inbound, Outcall, Email).\n",
        "2.  **Hypothesis 2 (Categories):** Customer issues related to \"Returns\" have a significantly different average CSAT score compared to issues related to \"Product Queries\".\n",
        "3.  **Hypothesis 3 (Agent Tenure):** The average CSAT score varies significantly based on the agent's tenure bucket."
      ],
      "metadata": {
        "id": "-7MS06SUHkB-"
      }
    },
    {
      "cell_type": "markdown",
      "source": [
        "### Hypothetical Statement - 1"
      ],
      "metadata": {
        "id": "8yEUt7NnHlrM"
      }
    },
    {
      "cell_type": "markdown",
      "source": [
        "#### 1. State Your research hypothesis as a null hypothesis and alternate hypothesis."
      ],
      "metadata": {
        "id": "tEA2Xm5dHt1r"
      }
    },
    {
      "cell_type": "markdown",
      "source": [
        "1. Null Hypothesis (H₀): CSAT_Score is same accross all the different type of channels in the channel_name column.\n",
        "\n",
        "2. Alternate Hypothesis (H₁): CSAT_Score is difference in atleast one channels in the channel_name column."
      ],
      "metadata": {
        "id": "HI9ZP0laH0D-"
      }
    },
    {
      "cell_type": "markdown",
      "source": [
        "#### 2. Perform an appropriate statistical test."
      ],
      "metadata": {
        "id": "I79__PHVH19G"
      }
    },
    {
      "cell_type": "code",
      "source": [
        "# Perform Statistical Test to obtain P-Value"
      ],
      "metadata": {
        "id": "oZrfquKtyian"
      },
      "execution_count": null,
      "outputs": []
    },
    {
      "cell_type": "code",
      "source": [
        "from scipy.stats import f_oneway\n",
        "\n",
        "# Get CSAT_scores by channel\n",
        "inbound = data.loc[data['channel_name'] == 'Inbound','CSAT Score'].dropna()\n",
        "outcall = data.loc[data['channel_name'] == 'Outcall','CSAT Score'].dropna()\n",
        "email = data.loc[data['channel_name'] == 'Email','CSAT Score'].dropna()\n",
        "\n",
        "# Run ANOVA test\n",
        "f_stat, p_value = f_oneway(inbound, outcall, email)\n",
        "print(\"p-value:\", p_value)"
      ],
      "metadata": {
        "id": "ZQ_JlN39-SYn",
        "colab": {
          "base_uri": "https://localhost:8080/"
        },
        "outputId": "66fc11d4-cbca-4861-ae71-0aafa73930dc"
      },
      "execution_count": null,
      "outputs": [
        {
          "output_type": "stream",
          "name": "stdout",
          "text": [
            "p-value: 2.3194399795949356e-43\n"
          ]
        }
      ]
    },
    {
      "cell_type": "markdown",
      "source": [
        "##### Which statistical test have you done to obtain P-Value?"
      ],
      "metadata": {
        "id": "Ou-I18pAyIpj"
      }
    },
    {
      "cell_type": "markdown",
      "source": [
        "ANOVA TEST"
      ],
      "metadata": {
        "id": "s2U0kk00ygSB"
      }
    },
    {
      "cell_type": "markdown",
      "source": [
        "##### Why did you choose the specific statistical test?"
      ],
      "metadata": {
        "id": "fF3858GYyt-u"
      }
    },
    {
      "cell_type": "markdown",
      "source": [
        "We chose ANOVA because we are comparing the CSAT means across multiple channels, and ANOVA is best for testing differences between more than two group means."
      ],
      "metadata": {
        "id": "HO4K0gP5y3B4"
      }
    },
    {
      "cell_type": "markdown",
      "source": [
        "### Hypothetical Statement - 2"
      ],
      "metadata": {
        "id": "4_0_7-oCpUZd"
      }
    },
    {
      "cell_type": "markdown",
      "source": [
        "#### 1. State Your research hypothesis as a null hypothesis and alternate hypothesis."
      ],
      "metadata": {
        "id": "hwyV_J3ipUZe"
      }
    },
    {
      "cell_type": "markdown",
      "source": [
        "1. Null Hypothesis (H₀) : The mean CSAT for Returns is equal to the mean CSAT for Product Queries.\n",
        "\n",
        "2. Alternative Hypothesis (H₁) : The mean CSAT for Returns is not equal to the mean CSAT for Product Queries"
      ],
      "metadata": {
        "id": "FnpLGJ-4pUZe"
      }
    },
    {
      "cell_type": "markdown",
      "source": [
        "#### 2. Perform an appropriate statistical test."
      ],
      "metadata": {
        "id": "3yB-zSqbpUZe"
      }
    },
    {
      "cell_type": "code",
      "source": [
        "from scipy.stats import ttest_ind\n",
        "\n",
        "# CSAT scores for two categories\n",
        "returns = data.loc[data['category']=='Returns','CSAT Score'].dropna()\n",
        "product_queries = data.loc[data['category']=='Product Queries','CSAT Score'].dropna()\n",
        "\n",
        "# Two-sample t-test (two-tailed)\n",
        "t_stat, p_val = ttest_ind(returns, product_queries)\n",
        "print(\"Two-tailed p-value:\", p_val)"
      ],
      "metadata": {
        "id": "sWxdNTXNpUZe",
        "colab": {
          "base_uri": "https://localhost:8080/"
        },
        "outputId": "41ec30bf-df49-4f12-b7f6-9b1837dbb764"
      },
      "execution_count": null,
      "outputs": [
        {
          "output_type": "stream",
          "name": "stdout",
          "text": [
            "Two-tailed p-value: 1.1837977201471158e-42\n"
          ]
        }
      ]
    },
    {
      "cell_type": "markdown",
      "source": [
        "##### Which statistical test have you done to obtain P-Value?"
      ],
      "metadata": {
        "id": "dEUvejAfpUZe"
      }
    },
    {
      "cell_type": "markdown",
      "source": [
        "t test"
      ],
      "metadata": {
        "id": "oLDrPz7HpUZf"
      }
    },
    {
      "cell_type": "markdown",
      "source": [
        "##### Why did you choose the specific statistical test?"
      ],
      "metadata": {
        "id": "Fd15vwWVpUZf"
      }
    },
    {
      "cell_type": "markdown",
      "source": [
        "We used a t-test because we are comparing the mean CSAT scores of two independent categories. It checks whether there is a significant difference between their means."
      ],
      "metadata": {
        "id": "4xOGYyiBpUZf"
      }
    },
    {
      "cell_type": "markdown",
      "source": [
        "### Hypothetical Statement - 3"
      ],
      "metadata": {
        "id": "bn_IUdTipZyH"
      }
    },
    {
      "cell_type": "markdown",
      "source": [
        "#### 1. State Your research hypothesis as a null hypothesis and alternate hypothesis."
      ],
      "metadata": {
        "id": "49K5P_iCpZyH"
      }
    },
    {
      "cell_type": "markdown",
      "source": [
        "1. Null Hypothesis (H₀) : Mean CSAT scores are the same across all Tenure Buckets.\n",
        "\n",
        "2. Alternative Hypothesis (H₁) : At least one Tenure Bucket has a different mean CSAT score."
      ],
      "metadata": {
        "id": "7gWI5rT9pZyH"
      }
    },
    {
      "cell_type": "markdown",
      "source": [
        "#### 2. Perform an appropriate statistical test."
      ],
      "metadata": {
        "id": "Nff-vKELpZyI"
      }
    },
    {
      "cell_type": "code",
      "source": [
        "# Perform Statistical Test to obtain P-Value\n",
        "\n",
        "from scipy.stats import f_oneway\n",
        "\n",
        "# CSAT scores for each Tenure Bucket\n",
        "group_0_30 = data.loc[data['Tenure Bucket']=='0-30','CSAT Score'].dropna()\n",
        "group_31_60 = data.loc[data['Tenure Bucket']=='31-60','CSAT Score'].dropna()\n",
        "group_61_90 = data.loc[data['Tenure Bucket']=='61-90','CSAT Score'].dropna()\n",
        "group_above_90 = data.loc[data['Tenure Bucket']=='>90','CSAT Score'].dropna()\n",
        "\n",
        "# ANOVA test\n",
        "f_stat, p_val = f_oneway(group_0_30, group_31_60, group_61_90, group_above_90)\n",
        "print(\"p-value:\", p_val)\n"
      ],
      "metadata": {
        "id": "s6AnJQjtpZyI",
        "colab": {
          "base_uri": "https://localhost:8080/"
        },
        "outputId": "d870a730-0d22-43c6-cd5a-b972ec599dee"
      },
      "execution_count": null,
      "outputs": [
        {
          "output_type": "stream",
          "name": "stdout",
          "text": [
            "p-value: 8.894451549292777e-05\n"
          ]
        }
      ]
    },
    {
      "cell_type": "markdown",
      "source": [
        "##### Which statistical test have you done to obtain P-Value?"
      ],
      "metadata": {
        "id": "kLW572S8pZyI"
      }
    },
    {
      "cell_type": "markdown",
      "source": [
        "ANOVA TEST"
      ],
      "metadata": {
        "id": "ytWJ8v15pZyI"
      }
    },
    {
      "cell_type": "markdown",
      "source": [
        "##### Why did you choose the specific statistical test?"
      ],
      "metadata": {
        "id": "dWbDXHzopZyI"
      }
    },
    {
      "cell_type": "markdown",
      "source": [
        "We use one-way ANOVA because we are comparing the mean CSAT scores across multiple Tenure Buckets. It tests whether at least one group mean is different from the others"
      ],
      "metadata": {
        "id": "M99G98V6pZyI"
      }
    },
    {
      "cell_type": "markdown",
      "source": [
        "## ***6. Feature Engineering & Data Pre-processing***"
      ],
      "metadata": {
        "id": "yLjJCtPM0KBk"
      }
    },
    {
      "cell_type": "markdown",
      "source": [
        "### 1. Handling Missing Values"
      ],
      "metadata": {
        "id": "xiyOF9F70UgQ"
      }
    },
    {
      "cell_type": "code",
      "source": [
        "# Handling Missing Values & Missing Value Imputation\n",
        "\n",
        "useful_cols = [\n",
        "    'channel_name','category','Sub-category','Tenure Bucket',\n",
        "    'Agent Shift','response_time_mins','resolution_days',\n",
        "    'issue_day_of_week','issue_hour','is_weekend',\n",
        "    'time_of_day','response_time_group','CSAT Score'\n",
        "]\n",
        "\n",
        "data_clean = data[useful_cols].copy()\n"
      ],
      "metadata": {
        "id": "iRsAHk1K0fpS"
      },
      "execution_count": null,
      "outputs": []
    },
    {
      "cell_type": "code",
      "source": [
        "# Fill missing numeric values with median\n",
        "\n",
        "data_clean['response_time_mins'] = data_clean['response_time_mins'].fillna(data_clean['response_time_mins'].median())"
      ],
      "metadata": {
        "id": "wx1TarCSTIOG"
      },
      "execution_count": null,
      "outputs": []
    },
    {
      "cell_type": "code",
      "source": [
        "# Convert CSAT Score into binary so that we get satisified ratins as 4,5 and 1,2,3 as unsatisfied ratings\n",
        "data_clean['CSAT_Binary'] = data_clean['CSAT Score'].apply(lambda x: 1 if x >= 4 else 0)\n"
      ],
      "metadata": {
        "id": "E4smWsmXUdiN"
      },
      "execution_count": null,
      "outputs": []
    },
    {
      "cell_type": "markdown",
      "source": [
        "#### What all missing value imputation techniques have you used and why did you use those techniques?"
      ],
      "metadata": {
        "id": "7wuGOrhz0itI"
      }
    },
    {
      "cell_type": "markdown",
      "source": [
        "1. In this dataset, several columns had a high percentage of missing values, such as order_date_time (80%), Customer_City (80%), Product_category (80%), Item_price (80%), connected_handling_time (99%), and Customer_Remarks (~65%). Additionally, columns like order_id and Unique id are not useful for machine learning modeling. Therefore, I created a new subset called data_cleaned containing only the relevant features.\n",
        "\n",
        "2. In data_cleaned, only response_time_mins had missing values (~3%), which I imputed using the median. Median imputation was chosen because it is robust to outliers, unlike the mean, which can be skewed by extreme values."
      ],
      "metadata": {
        "id": "1ixusLtI0pqI"
      }
    },
    {
      "cell_type": "markdown",
      "source": [
        "### 2. Handling Outliers"
      ],
      "metadata": {
        "id": "id1riN9m0vUs"
      }
    },
    {
      "cell_type": "code",
      "source": [
        "# Handling Outliers & Outlier treatments"
      ],
      "metadata": {
        "id": "M6w2CzZf04JK"
      },
      "execution_count": null,
      "outputs": []
    },
    {
      "cell_type": "code",
      "source": [
        "# Outlier handling using IQR for response_time_mins\n",
        "q1 = data_clean['response_time_mins'].quantile(0.25)\n",
        "q3 = data_clean['response_time_mins'].quantile(0.75)\n",
        "iqr = q3 - q1\n",
        "lower = q1 - 1.5 * iqr\n",
        "upper = q3 + 1.5 * iqr\n",
        "data_clean = data_clean[(data_clean['response_time_mins'] >= lower) & (data_clean['response_time_mins'] <= upper)]\n",
        "\n",
        "# Outlier handling using IQR for resolution_days\n",
        "q1 = data_clean['resolution_days'].quantile(0.25)\n",
        "q3 = data_clean['resolution_days'].quantile(0.75)\n",
        "iqr = q3 - q1\n",
        "lower = q1 - 1.5 * iqr\n",
        "upper = q3 + 1.5 * iqr\n",
        "data_clean = data_clean[(data_clean['resolution_days'] >= lower) & (data_clean['resolution_days'] <= upper)]\n",
        "\n"
      ],
      "metadata": {
        "id": "AMpWRgkYZOKD"
      },
      "execution_count": null,
      "outputs": []
    },
    {
      "cell_type": "markdown",
      "source": [
        "##### What all outlier treatment techniques have you used and why did you use those techniques?"
      ],
      "metadata": {
        "id": "578E2V7j08f6"
      }
    },
    {
      "cell_type": "markdown",
      "source": [
        "**For this dataset, I applied IQR (Interquartile Range) filtering to both response_time_mins and resolution_days.**\n",
        "\n",
        "1. Technique: Calculated Q1 (25th percentile) and Q3 (75th percentile) for each column, then removed values below Q1 - 1.5*IQR or above Q3 + 1.5*IQR.\n",
        "\n",
        "2. Reason: This method effectively removes extreme high and low values that skew the mean and could negatively affect model performance, while retaining most of the legitimate data\n",
        "3. The dataset was filtered to retain only the rows where **response_time_mins and resolution_days** fell within this range, thereby removing outliers."
      ],
      "metadata": {
        "id": "uGZz5OrT1HH-"
      }
    },
    {
      "cell_type": "markdown",
      "source": [
        "### 3. Categorical Encoding"
      ],
      "metadata": {
        "id": "89xtkJwZ18nB"
      }
    },
    {
      "cell_type": "code",
      "source": [
        "# Encode your categorical columns"
      ],
      "metadata": {
        "id": "21JmIYMG2hEo"
      },
      "execution_count": null,
      "outputs": []
    },
    {
      "cell_type": "code",
      "source": [
        "from sklearn.preprocessing import LabelEncoder\n",
        "\n",
        "# get the copy of cleaned data to make final encoded data set\n",
        "data_encoded = data_clean.copy()\n",
        "\n",
        "# Label encoding for ordinal-like categories\n",
        "label_enc = LabelEncoder()\n",
        "data_encoded['Tenure Bucket'] = label_enc.fit_transform(data_encoded['Tenure Bucket'])\n",
        "data_encoded['Agent Shift'] = label_enc.fit_transform(data_encoded['Agent Shift'])\n",
        "data_encoded['time_of_day'] = label_enc.fit_transform(data_encoded['time_of_day'])\n",
        "data_encoded['response_time_group'] = label_enc.fit_transform(data_encoded['response_time_group'])\n",
        "\n",
        "# One-hot encoding for nominal categories\n",
        "data_encoded = pd.get_dummies(data_encoded, columns=['channel_name', 'category'], drop_first=True)\n"
      ],
      "metadata": {
        "id": "NUHDYm-7kYc3"
      },
      "execution_count": null,
      "outputs": []
    },
    {
      "cell_type": "markdown",
      "source": [
        "#### What all categorical encoding techniques have you used & why did you use those techniques?"
      ],
      "metadata": {
        "id": "67NQN5KX2AMe"
      }
    },
    {
      "cell_type": "markdown",
      "source": [
        "**Techniques used:**\n",
        "\n",
        "1. Label Encoding – Applied to ordinal-like columns such as Tenure Bucket, Agent Shift, time_of_day, and response_time_group. This converts categories into numeric values while preserving their natural order.\n",
        "\n",
        "          * Label Encoding is suitable for ordinal features because it maintains the order information.\n",
        "\n",
        "2. One-Hot Encoding – Applied to nominal columns like channel_name and category where there is no inherent order. This creates binary columns for each category, preventing the model from assuming any ordinal relationship.\n",
        "\n",
        "           * One-Hot Encoding is used for nominal features to avoid misleading numeric relationships between categories."
      ],
      "metadata": {
        "id": "UDaue5h32n_G"
      }
    },
    {
      "cell_type": "markdown",
      "source": [
        "### 4. Textual Data Preprocessing\n",
        "(It's mandatory for textual dataset i.e., NLP, Sentiment Analysis, Text Clustering etc.)"
      ],
      "metadata": {
        "id": "Iwf50b-R2tYG"
      }
    },
    {
      "cell_type": "markdown",
      "source": [
        "#### 1. Expand Contraction"
      ],
      "metadata": {
        "id": "GMQiZwjn3iu7"
      }
    },
    {
      "cell_type": "code",
      "source": [
        "# Expand Contraction"
      ],
      "metadata": {
        "id": "PTouz10C3oNN"
      },
      "execution_count": null,
      "outputs": []
    },
    {
      "cell_type": "markdown",
      "source": [
        "#### 2. Lower Casing"
      ],
      "metadata": {
        "id": "WVIkgGqN3qsr"
      }
    },
    {
      "cell_type": "code",
      "source": [
        "# Lower Casing"
      ],
      "metadata": {
        "id": "88JnJ1jN3w7j"
      },
      "execution_count": null,
      "outputs": []
    },
    {
      "cell_type": "markdown",
      "source": [
        "#### 3. Removing Punctuations"
      ],
      "metadata": {
        "id": "XkPnILGE3zoT"
      }
    },
    {
      "cell_type": "code",
      "source": [
        "# Remove Punctuations"
      ],
      "metadata": {
        "id": "vqbBqNaA33c0"
      },
      "execution_count": null,
      "outputs": []
    },
    {
      "cell_type": "markdown",
      "source": [
        "#### 4. Removing URLs & Removing words and digits contain digits."
      ],
      "metadata": {
        "id": "Hlsf0x5436Go"
      }
    },
    {
      "cell_type": "code",
      "source": [
        "# Remove URLs & Remove words and digits contain digits"
      ],
      "metadata": {
        "id": "2sxKgKxu4Ip3"
      },
      "execution_count": null,
      "outputs": []
    },
    {
      "cell_type": "markdown",
      "source": [
        "#### 5. Removing Stopwords & Removing White spaces"
      ],
      "metadata": {
        "id": "mT9DMSJo4nBL"
      }
    },
    {
      "cell_type": "code",
      "source": [
        "# Remove Stopwords"
      ],
      "metadata": {
        "id": "T2LSJh154s8W"
      },
      "execution_count": null,
      "outputs": []
    },
    {
      "cell_type": "code",
      "source": [
        "# Remove White spaces"
      ],
      "metadata": {
        "id": "EgLJGffy4vm0"
      },
      "execution_count": null,
      "outputs": []
    },
    {
      "cell_type": "markdown",
      "source": [
        "#### 6. Rephrase Text"
      ],
      "metadata": {
        "id": "c49ITxTc407N"
      }
    },
    {
      "cell_type": "code",
      "source": [
        "# Rephrase Text"
      ],
      "metadata": {
        "id": "foqY80Qu48N2"
      },
      "execution_count": null,
      "outputs": []
    },
    {
      "cell_type": "markdown",
      "source": [
        "#### 7. Tokenization"
      ],
      "metadata": {
        "id": "OeJFEK0N496M"
      }
    },
    {
      "cell_type": "code",
      "source": [
        "# Tokenization"
      ],
      "metadata": {
        "id": "ijx1rUOS5CUU"
      },
      "execution_count": null,
      "outputs": []
    },
    {
      "cell_type": "markdown",
      "source": [
        "#### 8. Text Normalization"
      ],
      "metadata": {
        "id": "9ExmJH0g5HBk"
      }
    },
    {
      "cell_type": "code",
      "source": [
        "# Normalizing Text (i.e., Stemming, Lemmatization etc.)"
      ],
      "metadata": {
        "id": "AIJ1a-Zc5PY8"
      },
      "execution_count": null,
      "outputs": []
    },
    {
      "cell_type": "markdown",
      "source": [
        "##### Which text normalization technique have you used and why?"
      ],
      "metadata": {
        "id": "cJNqERVU536h"
      }
    },
    {
      "cell_type": "markdown",
      "source": [
        "Answer Here."
      ],
      "metadata": {
        "id": "Z9jKVxE06BC1"
      }
    },
    {
      "cell_type": "markdown",
      "source": [
        "#### 9. Part of speech tagging"
      ],
      "metadata": {
        "id": "k5UmGsbsOxih"
      }
    },
    {
      "cell_type": "code",
      "source": [
        "# POS Taging"
      ],
      "metadata": {
        "id": "btT3ZJBAO6Ik"
      },
      "execution_count": null,
      "outputs": []
    },
    {
      "cell_type": "markdown",
      "source": [
        "#### 10. Text Vectorization"
      ],
      "metadata": {
        "id": "T0VqWOYE6DLQ"
      }
    },
    {
      "cell_type": "code",
      "source": [
        "# Vectorizing Text"
      ],
      "metadata": {
        "id": "yBRtdhth6JDE"
      },
      "execution_count": null,
      "outputs": []
    },
    {
      "cell_type": "markdown",
      "source": [
        "##### Which text vectorization technique have you used and why?"
      ],
      "metadata": {
        "id": "qBMux9mC6MCf"
      }
    },
    {
      "cell_type": "markdown",
      "source": [
        "Answer Here."
      ],
      "metadata": {
        "id": "su2EnbCh6UKQ"
      }
    },
    {
      "cell_type": "markdown",
      "source": [
        "### 4. Feature Manipulation & Selection"
      ],
      "metadata": {
        "id": "-oLEiFgy-5Pf"
      }
    },
    {
      "cell_type": "markdown",
      "source": [
        "#### 1. Feature Manipulation"
      ],
      "metadata": {
        "id": "C74aWNz2AliB"
      }
    },
    {
      "cell_type": "code",
      "source": [
        "# Manipulate Features to minimize feature correlation and create new features"
      ],
      "metadata": {
        "id": "h1qC4yhBApWC"
      },
      "execution_count": null,
      "outputs": []
    },
    {
      "cell_type": "markdown",
      "source": [
        "#### 2. Feature Selection"
      ],
      "metadata": {
        "id": "2DejudWSA-a0"
      }
    },
    {
      "cell_type": "code",
      "source": [
        "# Select your features wisely to avoid overfitting"
      ],
      "metadata": {
        "id": "YLhe8UmaBCEE"
      },
      "execution_count": null,
      "outputs": []
    },
    {
      "cell_type": "code",
      "source": [
        "# Drop unnecessary columns\n",
        "drop_cols = ['Sub-category']\n",
        "data_encoded.drop(columns=drop_cols, inplace=True, errors='ignore')\n"
      ],
      "metadata": {
        "id": "9PnlLm6HqET4"
      },
      "execution_count": null,
      "outputs": []
    },
    {
      "cell_type": "markdown",
      "source": [
        "##### What all feature selection methods have you used  and why?"
      ],
      "metadata": {
        "id": "pEMng2IbBLp7"
      }
    },
    {
      "cell_type": "markdown",
      "source": [
        "**Dropping Irrelevant Columns:**\n",
        "\n",
        "* Columns Dropped: sub_catogory\n",
        "\n",
        "* reson : We dropped Sub-category because it’s very detailed and the main category already gives the important information. Keeping it could make the model more complex and may not help predict better."
      ],
      "metadata": {
        "id": "rb2Lh6Z8BgGs"
      }
    },
    {
      "cell_type": "markdown",
      "source": [
        "##### Which all features you found important and why?"
      ],
      "metadata": {
        "id": "rAdphbQ9Bhjc"
      }
    },
    {
      "cell_type": "markdown",
      "source": [
        "**The features we found important for predicting customer satisfaction (CSAT) are:**\n",
        "\n",
        "1. **category –** Different types of customer issues (e.g., Returns, Product Queries, Order Related) can have varying levels of complexity and resolution difficulty, which directly impacts CSAT.\n",
        "\n",
        "2. **Tenure Bucket –** The experience level or tenure of the agent handling the issue can influence the quality of service provided. More experienced agents may resolve issues faster and more efficiently.\n",
        "\n",
        "3. **Agent Shift –** The time period when an agent is working (morning, evening, split) can affect workload and response quality, impacting satisfaction.\n",
        "\n",
        "4. **response_time_mins, resolution_days, response_time_group –** These features measure how quickly the issue was responded to and resolved. Faster responses and shorter resolution times usually lead to higher CSAT scores.\n",
        "\n",
        "5. **issue_day_of_week, issue_hour, is_weekend, time_of_day –** These capture temporal patterns, such as whether issues occurring on weekends or at late hours affect satisfaction differently.\n",
        "\n",
        "6. **channel_name –** The communication channel (Inbound, Outcall, Email, etc.) can influence service quality and user experience, as some channels may be more efficient or personalized.\n",
        "\n",
        "We focused on these features because they are directly related to how customer issues are handled and are likely to have the strongest predictive power for a binary logistic regression model targeting high vs. low CSAT."
      ],
      "metadata": {
        "id": "fGgaEstsBnaf"
      }
    },
    {
      "cell_type": "markdown",
      "source": [
        "### 5. Data Transformation"
      ],
      "metadata": {
        "id": "TNVZ9zx19K6k"
      }
    },
    {
      "cell_type": "markdown",
      "source": [
        "#### Do you think that your data needs to be transformed? If yes, which transformation have you used. Explain Why?"
      ],
      "metadata": {
        "id": "nqoHp30x9hH9"
      }
    },
    {
      "cell_type": "code",
      "source": [
        "# Transform Your data"
      ],
      "metadata": {
        "id": "I6quWQ1T9rtH"
      },
      "execution_count": null,
      "outputs": []
    },
    {
      "cell_type": "markdown",
      "source": [
        "### 6. Data Scaling"
      ],
      "metadata": {
        "id": "rMDnDkt2B6du"
      }
    },
    {
      "cell_type": "code",
      "source": [
        "# Scaling your data"
      ],
      "metadata": {
        "id": "dL9LWpySC6x_"
      },
      "execution_count": null,
      "outputs": []
    },
    {
      "cell_type": "code",
      "source": [
        "from sklearn.preprocessing import StandardScaler\n",
        "\n",
        "# Select numerical columns for scaling\n",
        "num_cols = ['response_time_mins', 'resolution_days', 'issue_day_of_week', 'issue_hour']\n",
        "\n",
        "scaler = StandardScaler()\n",
        "data_encoded[num_cols] = scaler.fit_transform(data_encoded[num_cols])\n"
      ],
      "metadata": {
        "id": "PAGctWeGtJSK"
      },
      "execution_count": null,
      "outputs": []
    },
    {
      "cell_type": "markdown",
      "source": [
        "##### Which method have you used to scale you data and why?"
      ],
      "metadata": {
        "id": "yiiVWRdJDDil"
      }
    },
    {
      "cell_type": "markdown",
      "source": [
        "Standardization using StandardScaler from the sklearn.preprocessing module was used to scale the numerical features: ***response_time_mins and resolution_days.***\n",
        "\n",
        "Why This Method Was Used:\n",
        "\n",
        "**Centers Data Around Zero:**\n",
        "Standardization transforms the data to have a mean of 0 and a standard deviation of 1. This ensures that all numerical features contribute equally to the model, regardless of their original scale.\n",
        "\n",
        "**Handles Different Units:**\n",
        "Features like response_time_mins and resolution_days have different ranges. Standardizing brings them to the same scale, making them directly comparable for the model.\n",
        "\n",
        "**Prepares for Machine Learning Models:**\n",
        "Many machine learning algorithms (e.g., logistic regression, SVMs, k-means clustering) perform better when numerical features are standardized. It prevents bias toward features with larger magnitudes and improves convergence during training."
      ],
      "metadata": {
        "id": "fFu1r2VVvQnF"
      }
    },
    {
      "cell_type": "markdown",
      "source": [
        "### 7. Dimesionality Reduction"
      ],
      "metadata": {
        "id": "1UUpS68QDMuG"
      }
    },
    {
      "cell_type": "markdown",
      "source": [
        "##### Do you think that dimensionality reduction is needed? Explain Why?"
      ],
      "metadata": {
        "id": "kexQrXU-DjzY"
      }
    },
    {
      "cell_type": "markdown",
      "source": [
        "Answer Here."
      ],
      "metadata": {
        "id": "GGRlBsSGDtTQ"
      }
    },
    {
      "cell_type": "code",
      "source": [
        "# DImensionality Reduction (If needed)"
      ],
      "metadata": {
        "id": "kQfvxBBHDvCa"
      },
      "execution_count": null,
      "outputs": []
    },
    {
      "cell_type": "code",
      "source": [],
      "metadata": {
        "id": "1IBG9TrrydRv"
      },
      "execution_count": null,
      "outputs": []
    },
    {
      "cell_type": "markdown",
      "source": [
        "##### Which dimensionality reduction technique have you used and why? (If dimensionality reduction done on dataset.)"
      ],
      "metadata": {
        "id": "T5CmagL3EC8N"
      }
    },
    {
      "cell_type": "markdown",
      "source": [
        "Answer Here."
      ],
      "metadata": {
        "id": "ZKr75IDuEM7t"
      }
    },
    {
      "cell_type": "markdown",
      "source": [
        "### 8. Data Splitting"
      ],
      "metadata": {
        "id": "BhH2vgX9EjGr"
      }
    },
    {
      "cell_type": "code",
      "source": [
        "# Split your data to train and test. Choose Splitting ratio wisely.\n",
        "from sklearn.model_selection import train_test_split\n",
        "\n",
        "# Features and target\n",
        "X = data_encoded.drop(['CSAT Score', 'CSAT_Binary'], axis=1)\n",
        "y = data_encoded['CSAT_Binary']\n",
        "\n",
        "# Train-test split (80% train, 20% test)\n",
        "X_train, X_test, y_train, y_test = train_test_split(X, y, test_size=0.2, random_state=42)\n"
      ],
      "metadata": {
        "id": "0CTyd2UwEyNM"
      },
      "execution_count": null,
      "outputs": []
    },
    {
      "cell_type": "markdown",
      "source": [
        "##### What data splitting ratio have you used and why?"
      ],
      "metadata": {
        "id": "qjKvONjwE8ra"
      }
    },
    {
      "cell_type": "markdown",
      "source": [
        "**Data Splitting Ratio Used:** A 80-20 split was used, where:\n",
        "\n",
        "* 80% of the data is allocated to the training set.\n",
        "\n",
        "* 20% of the data is allocated to the testing set.\n",
        "\n",
        "**Why This Splitting Ratio Was Used:**\n",
        "* Balance Between Training and Testing: The 80-20 split provides enough data for training the model to learn effectively, while retaining a sufficient portion for testing to evaluate the model's performance.\n",
        "\n",
        "* Widely Accepted Standard.\n",
        "\n",
        "* This ratio is a commonly used standard in machine learning and provides a good balance for most datasets.\n",
        "\n",
        "* Avoid Overfitting.\n",
        "\n",
        "* Allocating 20% for testing ensures that the model is evaluated on unseen data, reducing the risk of overfitting to the training data.\n",
        "\n",
        "* Dataset Size Considerations: The ratio is particularly effective for moderately sized datasets. If the dataset were significantly larger, a smaller test set (e.g., 90-10) might suffice, and for smaller datasets, a larger test set (e.g., 70-30) might be appropriate.\n"
      ],
      "metadata": {
        "id": "Y2lJ8cobFDb_"
      }
    },
    {
      "cell_type": "markdown",
      "source": [
        "### 9. Handling Imbalanced Dataset"
      ],
      "metadata": {
        "id": "P1XJ9OREExlT"
      }
    },
    {
      "cell_type": "markdown",
      "source": [
        "##### Do you think the dataset is imbalanced? Explain Why."
      ],
      "metadata": {
        "id": "VFOzZv6IFROw"
      }
    },
    {
      "cell_type": "markdown",
      "source": [
        "Answer Here."
      ],
      "metadata": {
        "id": "GeKDIv7pFgcC"
      }
    },
    {
      "cell_type": "code",
      "source": [
        "# Handling Imbalanced Dataset (If needed)"
      ],
      "metadata": {
        "id": "nQsRhhZLFiDs"
      },
      "execution_count": null,
      "outputs": []
    },
    {
      "cell_type": "markdown",
      "source": [
        "##### What technique did you use to handle the imbalance dataset and why? (If needed to be balanced)"
      ],
      "metadata": {
        "id": "TIqpNgepFxVj"
      }
    },
    {
      "cell_type": "markdown",
      "source": [
        "Answer Here."
      ],
      "metadata": {
        "id": "qbet1HwdGDTz"
      }
    },
    {
      "cell_type": "markdown",
      "source": [
        "## ***7. ML Model Implementation***"
      ],
      "metadata": {
        "id": "VfCC591jGiD4"
      }
    },
    {
      "cell_type": "markdown",
      "source": [
        "### ML Model - 1"
      ],
      "metadata": {
        "id": "OB4l2ZhMeS1U"
      }
    },
    {
      "cell_type": "code",
      "source": [
        "# ML Model - 1 Implementation\n",
        "from imblearn.over_sampling import SMOTE\n",
        "from sklearn.linear_model import LogisticRegression\n",
        "from sklearn.metrics import classification_report, accuracy_score\n",
        "\n",
        "# Handle imbalanced Data Set with Smoot\n",
        "smote = SMOTE(random_state=42)\n",
        "X_train_res, y_train_res = smote.fit_resample(X_train, y_train)\n",
        "\n",
        "# Train Logistic Regression\n",
        "model = LogisticRegression(max_iter=500, random_state=42)\n",
        "model.fit(X_train_res, y_train_res)\n",
        "\n",
        "# Predict on test data\n",
        "model_preds = model.predict(X_test)\n",
        "\n",
        "# Evaluate\n",
        "print(\"Logistic Regression Results after SMOTE:\")\n",
        "print(classification_report(y_test, model_preds))\n",
        "print(\"Accuracy:\", accuracy_score(y_test, model_preds))"
      ],
      "metadata": {
        "id": "7ebyywQieS1U",
        "colab": {
          "base_uri": "https://localhost:8080/"
        },
        "outputId": "82b661aa-61ce-4479-eac5-6947e5378b96"
      },
      "execution_count": null,
      "outputs": [
        {
          "output_type": "stream",
          "name": "stdout",
          "text": [
            "Logistic Regression Results after SMOTE:\n",
            "              precision    recall  f1-score   support\n",
            "\n",
            "           0       0.20      0.43      0.28      2082\n",
            "           1       0.88      0.71      0.78     11817\n",
            "\n",
            "    accuracy                           0.67     13899\n",
            "   macro avg       0.54      0.57      0.53     13899\n",
            "weighted avg       0.77      0.67      0.71     13899\n",
            "\n",
            "Accuracy: 0.665299661846176\n"
          ]
        }
      ]
    },
    {
      "cell_type": "markdown",
      "source": [
        "#### 1. Explain the ML Model used and it's performance using Evaluation metric Score Chart."
      ],
      "metadata": {
        "id": "ArJBuiUVfxKd"
      }
    },
    {
      "cell_type": "markdown",
      "source": [
        "\n",
        "**ML Model 1: Logistic Regression**\n",
        "\n",
        "Logistic Regression is a linear model used for binary classification. It predicts the probability that a given input belongs to a certain class (in this case, High CSAT vs. Low CSAT). It works by finding a linear decision boundary that best separates the two classes in the feature space. The output probability is then transformed using a sigmoid function to be between 0 and 1, representing the likelihood of the positive class.\n",
        "\n",
        "**Performance using Evaluation Metric Score Chart (after SMOTE):**\n",
        "\n",
        "The evaluation metrics shown in the chart (Precision, Recall, and F1-score) provide a detailed view of the model's performance, especially considering the class imbalance:\n",
        "\n",
        "              precision    recall  f1-score   support\n",
        "\n",
        "           0       0.20      0.43      0.28      2082\n",
        "           1       0.88      0.71      0.78     11817\n",
        "\n",
        "    accuracy                           0.67     13899\n",
        "   macro avg       0.54      0.57      0.53     13899\n",
        "weighted avg       0.77      0.67      0.71     13899\n",
        "\n",
        "**Overall Performance Summary:**\n",
        "\n",
        "The Logistic Regression model, even after using SMOTE to address class imbalance, struggles to effectively identify the minority class (Low CSAT), as indicated by the low precision, recall, and F1-score for class 0. It performs much better at predicting the majority class (High CSAT). This model might be useful for identifying potential high-CSAT customers, but relying on its low-CSAT predictions for targeted interventions would be risky due to the high number of false positives."
      ],
      "metadata": {
        "id": "y_5BPO3TjvYc"
      }
    },
    {
      "cell_type": "markdown",
      "source": [
        "#### 2. Cross- Validation & Hyperparameter Tuning"
      ],
      "metadata": {
        "id": "4qY1EAkEfxKe"
      }
    },
    {
      "cell_type": "code",
      "source": [
        "# ML Model - 1 Implementation with hyperparameter optimization techniques (i.e., GridSearch CV, RandomSearch CV, Bayesian Optimization etc.)\n",
        "\n",
        "from sklearn.model_selection import RandomizedSearchCV\n",
        "from scipy.stats import uniform\n",
        "from sklearn.linear_model import LogisticRegression\n",
        "from sklearn.metrics import classification_report, accuracy_score\n",
        "from imblearn.over_sampling import SMOTE\n",
        "import pandas as pd\n",
        "\n",
        "\n",
        "\n",
        "# Define parameter distributions for random search\n",
        "param_dist_lr = {\n",
        "    'C': uniform(loc=0, scale=4), # Inverse of regularization strength\n",
        "    'penalty': ['l2', 'l1', 'elasticnet', 'none'], # Regularization type\n",
        "    'solver': ['liblinear', 'saga'] # Algorithm to use in the optimization problem\n",
        "}\n",
        "\n",
        "# Initialize RandomizedSearchCV\n",
        "random_search_lr = RandomizedSearchCV(\n",
        "    estimator=LogisticRegression(max_iter=500, random_state=42),\n",
        "    param_distributions=param_dist_lr,\n",
        "    n_iter=10, # number of random combinations to try\n",
        "    scoring='f1', # optimize for F1-score, important for imbalanced data\n",
        "    cv=3, # 3-fold cross-validation\n",
        "    verbose=2,\n",
        "    n_jobs=-1, # Use all available cores\n",
        "    random_state=42\n",
        ")\n",
        "\n",
        "# Fit on resampled data\n",
        "random_search_lr.fit(X_train_res, y_train_res)\n",
        "\n",
        "# Best model and parameters\n",
        "best_lr_model = random_search_lr.best_estimator_\n",
        "print(\"Best parameters for Logistic Regression:\", random_search_lr.best_params_)\n",
        "\n",
        "# Predict on the original test set\n",
        "lr_preds_tuned = best_lr_model.predict(X_test)\n",
        "\n",
        "# Evaluate the tuned model\n",
        "print(\"\\nLogistic Regression Results after Hyperparameter Tuning:\")\n",
        "print(classification_report(y_test, lr_preds_tuned))\n",
        "print(\"Accuracy:\", accuracy_score(y_test, lr_preds_tuned))"
      ],
      "metadata": {
        "colab": {
          "base_uri": "https://localhost:8080/"
        },
        "id": "_tekP-kWSReZ",
        "outputId": "0d5c9fba-fe3a-425b-c7e4-8a670723f2e4"
      },
      "execution_count": null,
      "outputs": [
        {
          "output_type": "stream",
          "name": "stdout",
          "text": [
            "Fitting 3 folds for each of 10 candidates, totalling 30 fits\n",
            "Best parameters for Logistic Regression: {'C': np.float64(3.329770563201687), 'penalty': 'l1', 'solver': 'saga'}\n",
            "\n",
            "Logistic Regression Results after Hyperparameter Tuning:\n",
            "              precision    recall  f1-score   support\n",
            "\n",
            "           0       0.20      0.43      0.28      2082\n",
            "           1       0.88      0.71      0.78     11817\n",
            "\n",
            "    accuracy                           0.67     13899\n",
            "   macro avg       0.54      0.57      0.53     13899\n",
            "weighted avg       0.77      0.67      0.71     13899\n",
            "\n",
            "Accuracy: 0.6661630333117491\n"
          ]
        }
      ]
    },
    {
      "cell_type": "markdown",
      "source": [
        "##### Which hyperparameter optimization technique have you used and why?"
      ],
      "metadata": {
        "id": "PiV4Ypx8fxKe"
      }
    },
    {
      "cell_type": "markdown",
      "source": [
        "For hyperparameter tuning of the Logistic Regression model, I used **RandomizedSearchCV**.\n",
        "\n",
        "\n",
        "\n",
        "* Efficiency: It explores a fixed number of random combinations of hyperparameters from a defined distribution. This is generally faster than GridSearchCV (which tries every possible combination) and is useful when the search space is large.\n",
        "* Effectiveness: While not exhaustive, RandomizedSearchCV can often find a good set of hyperparameters, especially when some hyperparameters have a larger impact than others.\n",
        "* Suitable for Logistic Regression: For Logistic Regression with a relatively small number of hyperparameters to tune, RandomizedSearchCV provides a good balance between search coverage and computational cost."
      ],
      "metadata": {
        "id": "negyGRa7fxKf"
      }
    },
    {
      "cell_type": "markdown",
      "source": [
        "##### Have you seen any improvement? Note down the improvement with updates Evaluation metric Score Chart."
      ],
      "metadata": {
        "id": "TfvqoZmBfxKf"
      }
    },
    {
      "cell_type": "markdown",
      "source": [
        "Based on the classification reports:\n",
        "\n",
        "**Initial Logistic Regression :**\n",
        "\n",
        "              precision   recall    f1-score    support\n",
        "\n",
        "       0       0.20        0.43      0.28      2082\n",
        "       1       0.88        0.71      0.78     11817\n",
        "\n",
        "accuracy                           0.67     13899\n",
        "macro avg 0.54 0.57 0.53 13899 weighted avg 0.77 0.67 0.71 13899\n",
        "Accuracy: 0.665299661846176\n",
        "\n",
        "Tuned Logistic Regression (after SMOTE):\n",
        "              precision   recall   f1-score   support\n",
        "\n",
        "       0         0.20      0.43      0.28      2082\n",
        "       1         0.88      0.71      0.78     11817\n",
        "\n",
        "accuracy                           0.67     13899\n",
        "macro avg 0.54 0.57 0.53 13899 weighted avg 0.77 0.67 0.71 13899\n",
        "\n",
        "Accuracy: 0.6661630333117491\n",
        "\n",
        "**Improvement:**\n",
        "\n",
        "1. There is a very slight improvement in overall accuracy (from 0.6653 to 0.6662). However, the precision, recall, and f1-score for both classes ('0' and '1') remain virtually the same after hyperparameter tuning.\n",
        "\n",
        "2. This suggests that while the hyperparameters found by RandomizedSearchCV are technically \"best\" based on the F1 score on the cross-validation folds, the impact on the final performance metrics on the test set is minimal for this model. The class imbalance and the nature of the features might be limiting the potential for significant improvement with just hyperparameter tuning for Logistic Regression."
      ],
      "metadata": {
        "id": "OaLui8CcfxKf"
      }
    },
    {
      "cell_type": "markdown",
      "source": [
        "### ML Model - 2"
      ],
      "metadata": {
        "id": "dJ2tPlVmpsJ0"
      }
    },
    {
      "cell_type": "code",
      "source": [
        "# ML Model - 2 Implementation: Random Forest\n",
        "from imblearn.over_sampling import SMOTE\n",
        "from sklearn.ensemble import RandomForestClassifier\n",
        "from sklearn.metrics import classification_report, accuracy_score\n",
        "\n",
        "# Handle imbalanced dataset with SMOTE\n",
        "smote = SMOTE(random_state=42)\n",
        "X_train_res, y_train_res = smote.fit_resample(X_train, y_train)\n",
        "\n",
        "# Initialize Random Forest\n",
        "rf_model = RandomForestClassifier(\n",
        "    n_estimators=200,\n",
        "    max_depth=None,\n",
        "    random_state=42,\n",
        "    class_weight='balanced'\n",
        ")\n",
        "\n",
        "# Train on resampled data\n",
        "rf_model.fit(X_train_res, y_train_res)\n",
        "\n",
        "# Predict on original test set\n",
        "rf_preds = rf_model.predict(X_test)\n",
        "\n",
        "# Evaluate\n",
        "print(\"Random Forest Results after SMOTE:\")\n",
        "print(classification_report(y_test, rf_preds))\n",
        "print(\"Accuracy:\", accuracy_score(y_test, rf_preds))\n",
        "\n"
      ],
      "metadata": {
        "id": "bTNtp7ye-ZQQ",
        "colab": {
          "base_uri": "https://localhost:8080/"
        },
        "outputId": "31bc77ea-95ba-4e16-b0ba-e89b34089ee6"
      },
      "execution_count": null,
      "outputs": [
        {
          "output_type": "stream",
          "name": "stdout",
          "text": [
            "Random Forest Results after SMOTE:\n",
            "              precision    recall  f1-score   support\n",
            "\n",
            "           0       0.19      0.12      0.15      2082\n",
            "           1       0.85      0.91      0.88     11817\n",
            "\n",
            "    accuracy                           0.79     13899\n",
            "   macro avg       0.52      0.51      0.51     13899\n",
            "weighted avg       0.75      0.79      0.77     13899\n",
            "\n",
            "Accuracy: 0.7901287862436146\n"
          ]
        }
      ]
    },
    {
      "cell_type": "markdown",
      "source": [
        "#### 1. Explain the ML Model used and it's performance using Evaluation metric Score Chart."
      ],
      "metadata": {
        "id": "JWYfwnehpsJ1"
      }
    },
    {
      "cell_type": "markdown",
      "source": [
        "**ML Model 2: Random Forest**\n",
        "\n",
        "Random Forest is an ensemble learning method that builds multiple decision trees during training and outputs the class that is the mode of the classes (classification) or mean prediction (regression) of the individual trees. It's a powerful algorithm that can handle complex relationships and is less prone to overfitting compared to a single decision tree. The class_weight='balanced' parameter was used to help address the class imbalance by automatically adjusting weights inversely proportional to class frequencies.\n",
        "\n",
        "**Performance using Evaluation Metric Score Chart (after SMOTE):**\n",
        "The evaluation metrics shown in the chart (Precision, Recall, and F1-score) for the Random Forest model after applying SMOTE are:\n",
        "\n",
        "              precision    recall  f1-score   support\n",
        "\n",
        "           0       0.19      0.12      0.15      2082\n",
        "           1       0.85      0.91      0.88     11817\n",
        "\n",
        "    accuracy                           0.79     13899\n",
        "   macro avg       0.52      0.51      0.51     13899\n",
        "weighted avg       0.75      0.79      0.77     13899\n",
        "\n",
        "**Overall Performance Summary:**\n",
        "\n",
        "The Random Forest model, despite using SMOTE and class_weight='balanced', performs poorly in identifying the minority class (Low CSAT), with very low recall and F1-score for class 0. Its strength lies in predicting the majority class (High CSAT). This model would not be suitable for use cases requiring accurate identification of dissatisfied customers, although it could potentially be used to identify highly satisfied customers."
      ],
      "metadata": {
        "id": "5jeDIftxkyFI"
      }
    },
    {
      "cell_type": "markdown",
      "source": [
        "#### 2. Cross- Validation & Hyperparameter Tuning"
      ],
      "metadata": {
        "id": "-jK_YjpMpsJ2"
      }
    },
    {
      "cell_type": "code",
      "source": [
        "from sklearn.ensemble import RandomForestClassifier\n",
        "from sklearn.model_selection import RandomizedSearchCV\n",
        "from scipy.stats import randint\n",
        "from sklearn.metrics import classification_report, accuracy_score\n",
        "\n",
        "# Base Random Forest\n",
        "rf_model = RandomForestClassifier(random_state=42, class_weight='balanced', n_jobs=-1)\n",
        "\n",
        "# Parameter distributions for random search\n",
        "param_dist_rf = {\n",
        "    'n_estimators': randint(100, 200),\n",
        "    'max_depth': [None, 10, 20, 30],\n",
        "    'min_samples_split': randint(2, 10),\n",
        "    'min_samples_leaf': randint(1, 4),\n",
        "    'max_features': ['auto', 'sqrt', 'log2']\n",
        "}\n",
        "\n",
        "# RandomizedSearchCV\n",
        "random_search_rf = RandomizedSearchCV(\n",
        "    estimator=rf_model,\n",
        "    param_distributions=param_dist_rf,\n",
        "    n_iter=20,        # number of random combinations to try\n",
        "    scoring='f1',     # optimize for F1-score\n",
        "    cv=3,             # 3-fold cross-validation\n",
        "    verbose=2,\n",
        "    n_jobs=-1,\n",
        "    random_state=42\n",
        ")\n",
        "\n",
        "# Fit model\n",
        "random_search_rf.fit(X_train_res, y_train_res)\n",
        "\n",
        "# Best model and parameters\n",
        "best_rf_model = random_search_rf.best_estimator_\n",
        "print(\"Best parameters for Random Forest:\", random_search_rf.best_params_)\n",
        "\n",
        "# Predict on the original test set\n",
        "rf_preds_tuned = best_rf_model.predict(X_test)\n",
        "\n",
        "# Evaluate the tuned model\n",
        "print(\"\\nRandom Forest Results after Hyperparameter Tuning:\")\n",
        "print(classification_report(y_test, rf_preds_tuned))\n",
        "print(\"Accuracy:\", accuracy_score(y_test, rf_preds_tuned))"
      ],
      "metadata": {
        "colab": {
          "base_uri": "https://localhost:8080/"
        },
        "id": "0f0J--l5Ywcb",
        "outputId": "d4e445d5-1cc0-4894-ddb0-bc5c74be61a9"
      },
      "execution_count": null,
      "outputs": [
        {
          "output_type": "stream",
          "name": "stdout",
          "text": [
            "Fitting 3 folds for each of 20 candidates, totalling 60 fits\n",
            "Best parameters for Random Forest: {'max_depth': None, 'max_features': 'log2', 'min_samples_leaf': 1, 'min_samples_split': 4, 'n_estimators': 106}\n",
            "\n",
            "Random Forest Results after Hyperparameter Tuning:\n",
            "              precision    recall  f1-score   support\n",
            "\n",
            "           0       0.19      0.11      0.14      2082\n",
            "           1       0.85      0.92      0.88     11817\n",
            "\n",
            "    accuracy                           0.80     13899\n",
            "   macro avg       0.52      0.51      0.51     13899\n",
            "weighted avg       0.75      0.80      0.77     13899\n",
            "\n",
            "Accuracy: 0.7969638103460681\n"
          ]
        }
      ]
    },
    {
      "cell_type": "markdown",
      "source": [
        "##### Which hyperparameter optimization technique have you used and why?"
      ],
      "metadata": {
        "id": "HAih1iBOpsJ2"
      }
    },
    {
      "cell_type": "markdown",
      "source": [
        "For hyperparameter tuning of the Random Forest model, I used **RandomizedSearchCV**.\n",
        "\n",
        "1. Efficiency: Similar to the Logistic Regression tuning, RandomizedSearchCV is more computationally efficient than GridSearchCV, especially with a larger number of hyperparameters to explore for Random Forest. It allows us to sample a fixed number of parameter combinations from the specified distributions.\n",
        "2. Effectiveness: RandomizedSearchCV can often find a good combination of hyperparameters within a reasonable time, providing a balance between exploration and computational cost.\n",
        "3. Suitable for Random Forest: Random Forest has several hyperparameters that can significantly impact performance, and RandomizedSearchCV is a practical approach to explore this parameter space without performing an exhaustive search."
      ],
      "metadata": {
        "id": "9kBgjYcdpsJ2"
      }
    },
    {
      "cell_type": "markdown",
      "source": [
        "##### Have you seen any improvement? Note down the improvement with updates Evaluation metric Score Chart."
      ],
      "metadata": {
        "id": "zVGeBEFhpsJ2"
      }
    },
    {
      "cell_type": "markdown",
      "source": [
        "comparison of the Random Forest model performance before and after hyperparameter tuning:\n",
        "\n",
        "**Initial Random Forest (after SMOTE):**\n",
        "             precision   recall   f1-score   support\n",
        "\n",
        "       0       0.19      0.12      0.15      2082\n",
        "       1       0.85      0.91      0.88     11817\n",
        "\n",
        "accuracy                           0.79     13899\n",
        "macro avg 0.52 0.51 0.51 13899 weighted avg 0.75 0.79 0.77 13899\n",
        "\n",
        "Accuracy: 0.7901287862436146\n",
        "\n",
        "**Tuned Random Forest (after SMOTE):**\n",
        "            precision   recall   f1-score   support\n",
        "\n",
        "       0       0.19      0.11      0.14      2082\n",
        "       1       0.85      0.92      0.88     11817\n",
        "\n",
        "accuracy                           0.80     13899\n",
        "macro avg 0.52 0.51 0.51 13899 weighted avg 0.75 0.80 0.77 13899\n",
        "\n",
        "Accuracy: 0.7969638103460681\n",
        "\n",
        "**Improvement:**\n",
        "\n",
        "1. There is a very slight improvement in the overall accuracy (from 0.7901 to 0.7970) after hyperparameter tuning. However, the precision, recall, and F1-score for both classes ('0' and '1') remain very similar. The recall for class 1 (High CSAT) saw a minor increase, while the recall for class 0 (Low CSAT) slightly decreased.\n",
        "\n",
        "2. Similar to the Logistic Regression model, the improvement from hyperparameter tuning on the Random Forest model is minimal in terms of its ability to identify the minority class ('0'). This again suggests that the class imbalance and potentially the selected features are significant factors limiting the performance for the Low CSAT class."
      ],
      "metadata": {
        "id": "74yRdG6UpsJ3"
      }
    },
    {
      "cell_type": "markdown",
      "source": [
        "#### 3. Explain each evaluation metric's indication towards business and the business impact pf the ML model used."
      ],
      "metadata": {
        "id": "bmKjuQ-FpsJ3"
      }
    },
    {
      "cell_type": "markdown",
      "source": [
        "**Evaluation Metrics and Business Implications for the Random Forest Model**\n",
        "\n",
        "**1. Precision**\n",
        "\n",
        "* Indication: Precision measures how often the model is correct when it predicts a certain class. High precision indicates few false positives, while low precision indicates many.\n",
        "\n",
        "**Business Impact:**\n",
        "\n",
        "* High CSAT (class 1): High precision (0.85) is beneficial—it ensures that customers predicted as satisfied are usually correct, enabling confident positive engagement or loyalty programs.\n",
        "\n",
        "* Low CSAT (class 0): Very low precision (0.19) indicates many false alarms—customers flagged as dissatisfied are often actually satisfied. This could lead to wasted resources on unnecessary interventions.\n",
        "\n",
        "**2. Recall**\n",
        "\n",
        "* Indication: Recall measures the model’s ability to capture all actual instances of a class. High recall means fewer missed cases.\n",
        "\n",
        "**Business Impact:**\n",
        "\n",
        "* High CSAT (class 1): High recall (0.91) means most satisfied customers are correctly identified—useful for understanding positive customer trends.\n",
        "\n",
        "* Low CSAT (class 0): Very low recall (0.12) is a major concern. Most dissatisfied customers are missed, preventing the business from addressing their issues, increasing the risk of churn and negative feedback.\n",
        "\n",
        "**3. F1-score**\n",
        "\n",
        "* Indication: The F1-score balances precision and recall, particularly valuable in imbalanced datasets.\n",
        "\n",
        "**Business Impact:**\n",
        "\n",
        "* High CSAT (class 1): High F1-score (0.88) confirms good identification of satisfied customers.\n",
        "\n",
        "* Low CSAT (class 0): Extremely low F1-score (0.15) underscores the model’s poor performance in detecting dissatisfied customers, limiting its usefulness for proactive retention strategies.\n",
        "\n",
        "**4. Accuracy**\n",
        "\n",
        "* Indication: Accuracy is the overall percentage of correct predictions.\n",
        "\n",
        "* Business Impact: Overall accuracy (0.79) seems reasonable but is misleading due to class imbalance. The model’s high accuracy is driven by correct predictions for the majority class (High CSAT), masking its inability to identify the minority class (Low CSAT), which is critical for business improvement.\n",
        "\n",
        "**Overall Business Implications of the Random Forest Model**\n",
        "\n",
        "* The model effectively identifies satisfied customers but fails to detect most dissatisfied ones.\n",
        "\n",
        "**Risks:**\n",
        "\n",
        "1. Missed opportunities to proactively address dissatisfied customers.\n",
        "\n",
        "2. Inability to identify root causes of low satisfaction.\n",
        "\n",
        "3. Ineffective targeting for retention strategies.\n",
        "\n",
        "4. Potential Use: Positive customer engagement, testimonial collection, and loyalty programs.\n",
        "\n",
        "**Recommendation: To improve utility, focus on enhancing detection of the minority class through strategies like class imbalance handling, resampling, or advanced feature engineering**"
      ],
      "metadata": {
        "id": "BDKtOrBQpsJ3"
      }
    },
    {
      "cell_type": "markdown",
      "source": [
        "### ML Model - 3"
      ],
      "metadata": {
        "id": "Fze-IPXLpx6K"
      }
    },
    {
      "cell_type": "code",
      "source": [
        "# ML Model - 3 Implementation: XGBoost\n",
        "from xgboost import XGBClassifier\n",
        "from sklearn.metrics import classification_report, accuracy_score\n",
        "\n",
        "# Initialize XGBoost Classifier\n",
        "xgb_model = XGBClassifier(\n",
        "    n_estimators=200,\n",
        "    max_depth=5,\n",
        "    learning_rate=0.1,\n",
        "    random_state=42,\n",
        "    use_label_encoder=False,\n",
        "    eval_metric='logloss'\n",
        ")\n",
        "\n",
        "# Fit on resampled training data\n",
        "xgb_model.fit(X_train_res, y_train_res)\n",
        "\n",
        "# Predict on test data\n",
        "xgb_preds = xgb_model.predict(X_test)\n",
        "\n",
        "# Evaluate\n",
        "print(\"XGBoost Results:\")\n",
        "print(classification_report(y_test, xgb_preds))\n",
        "print(\"Accuracy:\", accuracy_score(y_test, xgb_preds))\n"
      ],
      "metadata": {
        "id": "FFrSXAtrpx6M",
        "colab": {
          "base_uri": "https://localhost:8080/"
        },
        "outputId": "51fa35e7-d92f-4521-8e08-7f55952dcc00"
      },
      "execution_count": null,
      "outputs": [
        {
          "output_type": "stream",
          "name": "stdout",
          "text": [
            "XGBoost Results:\n",
            "              precision    recall  f1-score   support\n",
            "\n",
            "           0       0.36      0.06      0.10      2082\n",
            "           1       0.86      0.98      0.91     11817\n",
            "\n",
            "    accuracy                           0.84     13899\n",
            "   macro avg       0.61      0.52      0.51     13899\n",
            "weighted avg       0.78      0.84      0.79     13899\n",
            "\n",
            "Accuracy: 0.8437297647312756\n"
          ]
        }
      ]
    },
    {
      "cell_type": "markdown",
      "source": [
        "#### 1. Explain the ML Model used and it's performance using Evaluation metric Score Chart."
      ],
      "metadata": {
        "id": "7AN1z2sKpx6M"
      }
    },
    {
      "cell_type": "markdown",
      "source": [
        "XGBoost (Extreme Gradient Boosting) is a powerful and popular gradient boosting algorithm. It builds an ensemble of decision trees sequentially, where each new tree corrects the errors of the previous ones. It's known for its speed and performance, especially on structured data, and includes built-in regularization to prevent overfitting. The use_label_encoder=False and eval_metric='logloss' parameters are used for compatibility and appropriate evaluation in binary classification.\n",
        "\n",
        "**Performance using Evaluation Metric Score Chart (after SMOTE):**\n",
        "\n",
        "The evaluation metrics for the XGBoost model after applying SMOTE are:\n",
        "\n",
        "              precision    recall  f1-score   support\n",
        "\n",
        "           0       0.36      0.06      0.10      2082\n",
        "           1       0.86      0.98      0.91     11817\n",
        "\n",
        "    accuracy                           0.84     13899\n",
        "   macro avg       0.61      0.52      0.51     13899\n",
        "weighted avg       0.78      0.84      0.79     13899\n",
        "\n",
        "**Overall Performance Summary:**\n",
        "\n",
        "XGBoost, while achieving the highest overall accuracy and excellent performance on the majority class (High CSAT), performs very poorly on the minority class (Low CSAT), particularly in terms of recall. This means it's highly effective at confirming satisfaction but largely ineffective at identifying dissatisfied customers who require intervention. This model would not be suitable for use cases focused on reducing churn by identifying unhappy customers."
      ],
      "metadata": {
        "id": "ESHuBbY3q7iF"
      }
    },
    {
      "cell_type": "markdown",
      "source": [
        "#### 2. Cross- Validation & Hyperparameter Tuning"
      ],
      "metadata": {
        "id": "9PIHJqyupx6M"
      }
    },
    {
      "cell_type": "code",
      "source": [
        "from sklearn.model_selection import GridSearchCV\n",
        "from xgboost import XGBClassifier\n",
        "from sklearn.metrics import classification_report, accuracy_score\n",
        "\n",
        "# Initialize XGBoost Classifier\n",
        "xgb_model = XGBClassifier(\n",
        "    random_state=42,\n",
        "    use_label_encoder=False,\n",
        "    eval_metric='logloss'\n",
        ")\n",
        "\n",
        "# Define parameter grid\n",
        "param_grid = {\n",
        "    'n_estimators': [100, 200],\n",
        "    'max_depth': [3, 5, 7],\n",
        "    'learning_rate': [0.01, 0.1, 0.2],\n",
        "}\n",
        "\n",
        "# Initialize GridSearchCV\n",
        "grid_search = GridSearchCV(\n",
        "    estimator=xgb_model,\n",
        "    param_grid=param_grid,\n",
        "    scoring='f1',  # Optimize for F1-score\n",
        "    cv=3,         # 3-fold cross-validation\n",
        "    verbose=2,\n",
        "    n_jobs=-1      # Use all available cores\n",
        ")\n",
        "\n",
        "# Fit the Algorithm\n",
        "grid_search.fit(X_train_res, y_train_res)\n",
        "\n",
        "# Get best model and parameters\n",
        "best_xgb_model = grid_search.best_estimator_\n",
        "print(\"Best parameters:\", grid_search.best_params_)\n",
        "\n",
        "# Predict on the model\n",
        "xgb_preds_tuned = best_xgb_model.predict(X_test)\n",
        "\n",
        "# Evaluate the tuned model\n",
        "print(\"\\nXGBoost Results after Hyperparameter Tuning:\")\n",
        "print(classification_report(y_test, xgb_preds_tuned))\n",
        "print(\"Accuracy:\", accuracy_score(y_test, xgb_preds_tuned))"
      ],
      "metadata": {
        "colab": {
          "base_uri": "https://localhost:8080/"
        },
        "id": "D-yDXQKC3TjC",
        "outputId": "a62956be-54ac-471a-8f08-7967e556b3e1"
      },
      "execution_count": null,
      "outputs": [
        {
          "output_type": "stream",
          "name": "stdout",
          "text": [
            "Fitting 3 folds for each of 18 candidates, totalling 54 fits\n",
            "Best parameters: {'learning_rate': 0.2, 'max_depth': 7, 'n_estimators': 200}\n",
            "\n",
            "XGBoost Results after Hyperparameter Tuning:\n",
            "              precision    recall  f1-score   support\n",
            "\n",
            "           0       0.30      0.05      0.08      2082\n",
            "           1       0.85      0.98      0.91     11817\n",
            "\n",
            "    accuracy                           0.84     13899\n",
            "   macro avg       0.58      0.51      0.50     13899\n",
            "weighted avg       0.77      0.84      0.79     13899\n",
            "\n",
            "Accuracy: 0.8409957550902942\n"
          ]
        }
      ]
    },
    {
      "cell_type": "markdown",
      "source": [
        "##### Which hyperparameter optimization technique have you used and why?"
      ],
      "metadata": {
        "id": "_-qAgymDpx6N"
      }
    },
    {
      "cell_type": "markdown",
      "source": [
        "For hyperparameter tuning of the XGBoost model, I used GridSearchCV.\n",
        "* Exhaustive Search: GridSearchCV performs an exhaustive search over a specified parameter grid, meaning it tries every possible combination of the given hyperparameter values. This can help find the absolute best combination within the defined grid.\n",
        "* Suitable for Smaller Grids: While computationally more expensive than RandomizedSearchCV for large search spaces, it is suitable when you have a relatively small and well-defined set of hyperparameter values to test, as was the case here with the defined param_grid.\n",
        "Guaranteed Best within Grid: Unlike RandomizedSearchCV, which samples the parameter space, GridSearchCV guarantees finding the best performing combination within the provided grid based on the chosen scoring metric (F1-score in this case)."
      ],
      "metadata": {
        "id": "lQMffxkwpx6N"
      }
    },
    {
      "cell_type": "markdown",
      "source": [
        "##### Have you seen any improvement? Note down the improvement with updates Evaluation metric Score Chart."
      ],
      "metadata": {
        "id": "Z-hykwinpx6N"
      }
    },
    {
      "cell_type": "markdown",
      "source": [
        "**Initial XGBoost (after SMOTE):**\n",
        "             precision   recall   f1-score   support\n",
        "\n",
        "       0        0.36      0.06      0.10      2082\n",
        "       1        0.86      0.98      0.91     11817\n",
        "\n",
        "accuracy                           0.84     13899\n",
        "macro avg        0.61     0.52      0.51       13899\n",
        "weighted avg     0.78     0.84      0.79       13899\n",
        "\n",
        "Accuracy: 0.8437297647312756\n",
        "\n",
        "**Tuned XGBoost (after SMOTE): **\n",
        "             precision   recall  f1-score   support\n",
        "\n",
        "       0       0.30      0.05      0.08      2082\n",
        "       1       0.85      0.98      0.91     11817\n",
        "\n",
        "accuracy                           0.84     13899\n",
        "macro avg       0.58      0.51     0.50      13899\n",
        "weighted avg    0.77      0.84     0.79       13899\n",
        "\n",
        "Accuracy: 0.8409957550902942\n",
        "\n",
        "**Improvement:**\n",
        "\n",
        "* In this case, hyperparameter tuning with GridSearchCV did not lead to an improvement in the performance of the XGBoost model on the test set.\n",
        "\n",
        "* The overall accuracy slightly decreased (from 0.8437 to 0.8410).\n",
        "The precision, recall, and F1-score for both classes ('0' and '1') remained very similar, or slightly worsened for class 0 (Low CSAT).\n",
        "This outcome is not uncommon. While hyperparameter tuning aims to find the best settings, it's not guaranteed to improve performance on unseen data, especially if the initial parameters were already reasonably good, or if other factors like feature engineering or handling of class imbalance are more significant limitations. In this specific case, the tuned XGBoost model performs slightly worse than the initial model on the test set."
      ],
      "metadata": {
        "id": "MzVzZC6opx6N"
      }
    },
    {
      "cell_type": "markdown",
      "source": [
        "### 1. Which Evaluation metrics did you consider for a positive business impact and why?"
      ],
      "metadata": {
        "id": "h_CCil-SKHpo"
      }
    },
    {
      "cell_type": "markdown",
      "source": [
        "**Key Metrics for Positive Business Impact in Predicting Customer Satisfaction**\n",
        "\n",
        "In the context of identifying dissatisfied customers (Low CSAT, class 0), the most critical metrics are Recall and F1-score for the minority class.\n",
        "\n",
        "**1. Recall (for Low CSAT)**\n",
        "\n",
        "Purpose: Measures the proportion of actual dissatisfied customers correctly identified by the model.\n",
        "\n",
        "Business Importance: High recall ensures the business captures most at-risk customers, allowing proactive intervention to prevent churn and negative feedback. Missing these customers could result in lost revenue and reputational damage.\n",
        "\n",
        "**2. F1-score (for Low CSAT)**\n",
        "\n",
        "Purpose: Balances Precision and Recall, reflecting both the model’s ability to find dissatisfied customers and its accuracy in doing so.\n",
        "\n",
        "Business Importance: A high F1-score ensures that the model identifies many unhappy customers without generating too many false positives (happy customers incorrectly flagged). This balance is crucial for efficient resource allocation and effective retention strategies.\n",
        "\n",
        "**Why Not Accuracy or Precision Alone?**\n",
        "\n",
        "**Accuracy:** Misleading in imbalanced datasets; a model could predict the majority class (High CSAT) most of the time and appear accurate, while missing most dissatisfied customers.\n",
        "\n",
        "**Precision (for Low CSAT):** Indicates how often predicted low-CSAT customers are truly dissatisfied, but doesn’t show how many unhappy customers are missed. High precision with low recall means the model is too conservative, failing to flag many at-risk customers.\n",
        "\n",
        "**Conclusion:**\n",
        "Focusing on **high Recall and a reasonable F1-score for Low CSAT** is essential. These metrics directly relate to the business goal of identifying and addressing the needs of dissatisfied customers, driving retention, reducing churn, and improving overall customer experience."
      ],
      "metadata": {
        "id": "jHVz9hHDKFms"
      }
    },
    {
      "cell_type": "markdown",
      "source": [
        "### 2. Which ML model did you choose from the above created models as your final prediction model and why?"
      ],
      "metadata": {
        "id": "cBFFvTBNJzUa"
      }
    },
    {
      "cell_type": "markdown",
      "source": [
        "Based on the evaluation metrics, the XGBoost model could be chosen as the final prediction model, primarily due to its highest overall accuracy (0.84) and its strong performance in identifying the majority class (High CSAT), as indicated by a high recall (0.98) and F1-score (0.91) for class 1.\n",
        "\n",
        "**Reasoning :**\n",
        "\n",
        "While all models struggled with accurately predicting the minority class (Low CSAT), XGBoost demonstrated the best overall predictive power on the dataset as a whole, largely driven by its ability to correctly classify the majority of customers who are satisfied.\n",
        "\n",
        "However, it is crucial to acknowledge the significant limitation of this model: its very low recall (0.06) and F1-score (0.10) for the minority class (Low CSAT). This means the model is not effective at identifying customers who are actually dissatisfied.\n",
        "\n",
        "**Business Context for this Choice:**\n",
        "\n",
        "If the primary business goal is to have a model that is highly accurate in identifying satisfied customers (e.g., for targeted marketing or loyalty programs), and the inability to identify dissatisfied customers is a secondary concern, then XGBoost's performance on the majority class makes it a reasonable choice among the tested models.\n",
        "\n",
        "**Important Consideration:**\n",
        "\n",
        "If the business objective is to proactively identify and address the needs of dissatisfied customers to reduce churn, then this XGBoost model, in its current state, is not suitable. Further model development focusing on improving minority class prediction (through techniques beyond SMOTE or different model types) would be necessary for that specific goal.\n",
        "\n",
        "Therefore, the choice of XGBoost as the \"final\" model depends heavily on the specific business objective and whether accurately identifying the majority class is sufficient, or if improving the identification of the minority class is paramount."
      ],
      "metadata": {
        "id": "6ksF5Q1LKTVm"
      }
    },
    {
      "cell_type": "markdown",
      "source": [
        "### 3. Explain the model which you have used and the feature importance using any model explainability tool?"
      ],
      "metadata": {
        "id": "HvGl1hHyA_VK"
      }
    },
    {
      "cell_type": "markdown",
      "source": [
        "**XGBoost Model:**\n",
        "\n",
        "XGBoost (Extreme Gradient Boosting) is a powerful and widely used gradient boosting algorithm. It's an ensemble method that builds a series of decision trees sequentially. Each new tree is trained to correct the errors made by the previous trees in the ensemble. XGBoost is known for its high performance, speed, and efficiency. Key features include:\n",
        "\n",
        "* Gradient Boosting: It uses gradient descent to minimize the loss function by adding weak learners (decision trees).\n",
        "* Regularization: Includes L1 and L2 regularization to prevent overfitting.\n",
        "* Handling Missing Values: Has a default strategy for handling missing data.\n",
        "* Parallel Processing: Designed for efficient computation and can leverage multiple CPU cores.\n",
        "\n",
        "**Feature Importance:**\n",
        "\n",
        "1. For tree-based models like XGBoost, feature importance generally indicates the relative contribution of each feature to the model's predictions. There are different ways to calculate feature importance in XGBoost, but a common one is based on the number of times a feature is used to split a node across all trees in the model, weighted by the improvement in impurity or accuracy the split brings.\n",
        "\n",
        "2. A higher feature importance score for a variable suggests that it plays a more significant role in the model's decision-making process and thus has a stronger influence on predicting the CSAT score.\n",
        "\n",
        "3. Interpreting feature importance helps us understand which factors are most influential in determining customer satisfaction according to the model. This can align with or provide new insights into the business drivers of CSAT.\n",
        "\n"
      ],
      "metadata": {
        "id": "YnvVTiIxBL-C"
      }
    },
    {
      "cell_type": "markdown",
      "source": [
        "## ***8.*** ***Future Work (Optional)***"
      ],
      "metadata": {
        "id": "EyNgTHvd2WFk"
      }
    },
    {
      "cell_type": "markdown",
      "source": [
        "### 1. Save the best performing ml model in a pickle file or joblib file format for deployment process.\n"
      ],
      "metadata": {
        "id": "KH5McJBi2d8v"
      }
    },
    {
      "cell_type": "code",
      "source": [
        "# Save the File"
      ],
      "metadata": {
        "id": "bQIANRl32f4J"
      },
      "execution_count": null,
      "outputs": []
    },
    {
      "cell_type": "markdown",
      "source": [
        "### 2. Again Load the saved model file and try to predict unseen data for a sanity check.\n"
      ],
      "metadata": {
        "id": "iW_Lq9qf2h6X"
      }
    },
    {
      "cell_type": "code",
      "source": [
        "# Load the File and predict unseen data."
      ],
      "metadata": {
        "id": "oEXk9ydD2nVC"
      },
      "execution_count": null,
      "outputs": []
    },
    {
      "cell_type": "markdown",
      "source": [
        "### ***Congrats! Your model is successfully created and ready for deployment on a live server for a real user interaction !!!***"
      ],
      "metadata": {
        "id": "-Kee-DAl2viO"
      }
    },
    {
      "cell_type": "markdown",
      "source": [
        "# **Conclusion**"
      ],
      "metadata": {
        "id": "gCX9965dhzqZ"
      }
    },
    {
      "cell_type": "markdown",
      "source": [
        "**Leveraging Data Insights for Enhanced Customer Satisfaction**\n",
        "\n",
        "This project aimed to predict customer satisfaction (CSAT) using Flipkart’s customer service dataset, transforming raw data into actionable insights to improve service quality.\n",
        "\n",
        "**Key Insights:**\n",
        "\n",
        "1. High-Impact Areas: “Returns” and “Order Related” issues were the most frequent contact reasons. Focusing resources on these high-volume categories can address the largest pain points and improve satisfaction for a significant portion of customers.\n",
        "\n",
        "2. Channel Optimization: Analysis of CSAT across channels (Inbound, Outcall, Email) revealed that while Inbound is the primary method, channels like Email may require targeted improvements to enhance satisfaction.\n",
        "\n",
        "3. Agent Performance and Training: CSAT varied across managers and agent tenure. Targeted training for lower-performing teams, and sharing best practices from high-performing teams, can standardize service quality.\n",
        "\n",
        "4. Importance of Speed: Faster response times correlated strongly with higher CSAT. Monitoring and optimizing response times, especially during high-volume periods, can directly boost customer satisfaction.\n",
        "\n",
        "**Predictive Modeling and Future Potential:**\n",
        "\n",
        "* Models (Logistic Regression, Random Forest, XGBoost) laid the groundwork for predictive insights but struggled to accurately identify dissatisfied customers (Low CSAT).\n",
        "\n",
        "* Improving prediction for the minority class would allow proactive engagement with at-risk customers, reducing churn and demonstrating commitment to resolving issues early.\n",
        "\n",
        "**Business Impact and Next Steps:**\n",
        "\n",
        "* Operationalizing these insights—prioritizing high-volume issues, optimizing channel performance, targeting agent training, and reducing response times—can enhance overall service quality.\n",
        "\n",
        "* Future work should incorporate unstructured text data using NLP and explore advanced modeling techniques for imbalanced datasets to better identify dissatisfied customers and enable targeted retention strategies.\n",
        "\n",
        "**Conclusion:**\n",
        "This project illustrates how structured analysis of customer service data can yield actionable insights. When implemented, these insights can make Flipkart’s support operations more efficient, responsive, and customer-centric, ultimately driving positive business growth."
      ],
      "metadata": {
        "id": "jWdlrxgg1U7L"
      }
    },
    {
      "cell_type": "markdown",
      "source": [
        "### ***Hurrah! You have successfully completed your Machine Learning Capstone Project !!!***"
      ],
      "metadata": {
        "id": "gIfDvo9L0UH2"
      }
    }
  ]
}